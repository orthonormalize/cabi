{
 "cells": [
  {
   "cell_type": "code",
   "execution_count": 1,
   "metadata": {
    "collapsed": true
   },
   "outputs": [],
   "source": [
    "%matplotlib inline\n",
    "import matplotlib\n",
    "import seaborn as sns\n",
    "matplotlib.rcParams['savefig.dpi'] = 3 * matplotlib.rcParams['savefig.dpi']\n",
    "from matplotlib import pyplot as plt"
   ]
  },
  {
   "cell_type": "code",
   "execution_count": 2,
   "metadata": {
    "collapsed": false
   },
   "outputs": [],
   "source": [
    "import os\n",
    "import re\n",
    "import pandas as pd\n",
    "import time\n",
    "import datetime\n",
    "import sqlite3\n",
    "import numpy as np"
   ]
  },
  {
   "cell_type": "code",
   "execution_count": 3,
   "metadata": {
    "collapsed": false
   },
   "outputs": [],
   "source": [
    "import zipfile\n",
    "import cabi_Func as cf"
   ]
  },
  {
   "cell_type": "code",
   "execution_count": 4,
   "metadata": {
    "collapsed": false
   },
   "outputs": [
    {
     "data": {
      "text/plain": [
       "<module 'cabi_Func' from 'cabi_Func.pyc'>"
      ]
     },
     "execution_count": 4,
     "metadata": {},
     "output_type": "execute_result"
    }
   ],
   "source": [
    "reload(cf)"
   ]
  },
  {
   "cell_type": "code",
   "execution_count": null,
   "metadata": {
    "collapsed": false
   },
   "outputs": [],
   "source": [
    "'''\n",
    "def read_TH_zipLogFile(zipsDir,dbName):\n",
    "    fileDB = os.path.join(zipsDir,dbName+'.db')\n",
    "    (yearsCovered,monthsCovered)=([],[])\n",
    "    fileLOG = re.sub(r'\\.db\\Z','.log',fileDB)\n",
    "    print(fileLOG)\n",
    "    if (os.path.isfile(fileLOG)):\n",
    "        with open(fileLOG,'r') as f:\n",
    "            for line in f.readlines():\n",
    "                line=line.rstrip()\n",
    "                print(line)\n",
    "                if (len(line)==6):\n",
    "                    monthsCovered.append(line)\n",
    "                elif (len(line)==4):\n",
    "                    yearsCovered.append(line)\n",
    "    return (yearsCovered,monthsCovered)\n",
    "'''"
   ]
  },
  {
   "cell_type": "code",
   "execution_count": 5,
   "metadata": {
    "collapsed": false
   },
   "outputs": [],
   "source": [
    "zipsDir = 'C:\\\\Users\\\\rek\\\\Desktop\\\\tempCabi2019\\\\zips20190109'\n"
   ]
  },
  {
   "cell_type": "code",
   "execution_count": null,
   "metadata": {
    "collapsed": false
   },
   "outputs": [],
   "source": [
    "[cfm_F,cfm_B] = cf.get_cabiFieldMatcher()\n",
    "(yearsCovered,monthsCovered) = cf.read_TH_zipLogFile(zipsDir,dbName)\n",
    "cabiZipFiles = filter(lambda x: x.endswith('-capitalbikeshare-tripdata.zip'),os.listdir(zipsDir))"
   ]
  },
  {
   "cell_type": "code",
   "execution_count": null,
   "metadata": {
    "collapsed": false
   },
   "outputs": [],
   "source": [
    "#cf.TH_zips2db(zipsDir,dbName,tableName)\n",
    "th = pd.read_csv(os.path.join(zipsDir,'2010-capitalbikeshare-tripdata.csv'))\n",
    "cols = th.columns\n",
    "for col0 in cols:\n",
    "    col = re.sub('[^a-z]+', '', col0.lower())\n",
    "    if (col in cfm_B):\n",
    "        FN = cfm_B[col]\n",
    "        if FN in cf.fN_TH():\n",
    "            print('        Processing field: %s' % FN)\n",
    "            th = th.rename(columns = {col0:FN})\n",
    "            th[FN] = cf.reformatCabiField(th[FN],FN)"
   ]
  },
  {
   "cell_type": "code",
   "execution_count": null,
   "metadata": {
    "collapsed": false
   },
   "outputs": [],
   "source": [
    "tStr = '%Y-%m-%d %H:%M:%S'\n",
    "idata = th[FN]\n",
    "%timeit qwe = [time.mktime(datetime.datetime.strptime(x,tStr).timetuple()) for x in idata]\n"
   ]
  },
  {
   "cell_type": "code",
   "execution_count": null,
   "metadata": {
    "collapsed": true
   },
   "outputs": [],
   "source": []
  },
  {
   "cell_type": "code",
   "execution_count": null,
   "metadata": {
    "collapsed": true
   },
   "outputs": [],
   "source": []
  },
  {
   "cell_type": "code",
   "execution_count": null,
   "metadata": {
    "collapsed": true
   },
   "outputs": [],
   "source": []
  },
  {
   "cell_type": "code",
   "execution_count": null,
   "metadata": {
    "collapsed": true
   },
   "outputs": [],
   "source": []
  },
  {
   "cell_type": "code",
   "execution_count": null,
   "metadata": {
    "collapsed": true
   },
   "outputs": [],
   "source": []
  },
  {
   "cell_type": "code",
   "execution_count": null,
   "metadata": {
    "collapsed": true
   },
   "outputs": [],
   "source": []
  },
  {
   "cell_type": "code",
   "execution_count": null,
   "metadata": {
    "collapsed": true
   },
   "outputs": [],
   "source": []
  },
  {
   "cell_type": "code",
   "execution_count": null,
   "metadata": {
    "collapsed": true
   },
   "outputs": [],
   "source": []
  },
  {
   "cell_type": "code",
   "execution_count": 5,
   "metadata": {
    "collapsed": false
   },
   "outputs": [
    {
     "name": "stdout",
     "output_type": "stream",
     "text": [
      "['2010-capitalbikeshare-tripdata.zip', '2011-capitalbikeshare-tripdata.zip', '2012-capitalbikeshare-tripdata.zip', '2013-capitalbikeshare-tripdata.zip', '2014-capitalbikeshare-tripdata.zip', '2015-capitalbikeshare-tripdata.zip', '2016-capitalbikeshare-tripdata.zip', '2017-capitalbikeshare-tripdata.zip', '2018-capitalbikeshare-tripdata.zip']\n"
     ]
    }
   ],
   "source": [
    "zipsDir = 'C:\\\\Users\\\\rek\\\\Desktop\\\\tempCabi2019\\\\zips20190109'\n",
    "cabiZipFiles = filter(lambda x: x.endswith('-capitalbikeshare-tripdata.zip'),os.listdir(zipsDir))\n",
    "print(cabiZipFiles)"
   ]
  },
  {
   "cell_type": "code",
   "execution_count": 6,
   "metadata": {
    "collapsed": false
   },
   "outputs": [],
   "source": [
    "df0 = pd.DataFrame({'Duration':[],'Start date':[],'End date':[],'Start station number':[],\n",
    "                   'Start station':[],'End station number':[],'End station':[],'Bike number':[],'Member type':[]})"
   ]
  },
  {
   "cell_type": "code",
   "execution_count": 7,
   "metadata": {
    "collapsed": false
   },
   "outputs": [
    {
     "data": {
      "text/html": [
       "<div>\n",
       "<table border=\"1\" class=\"dataframe\">\n",
       "  <thead>\n",
       "    <tr style=\"text-align: right;\">\n",
       "      <th></th>\n",
       "      <th>Bike number</th>\n",
       "      <th>Duration</th>\n",
       "      <th>End date</th>\n",
       "      <th>End station</th>\n",
       "      <th>End station number</th>\n",
       "      <th>Member type</th>\n",
       "      <th>Start date</th>\n",
       "      <th>Start station</th>\n",
       "      <th>Start station number</th>\n",
       "    </tr>\n",
       "  </thead>\n",
       "  <tbody>\n",
       "  </tbody>\n",
       "</table>\n",
       "</div>"
      ],
      "text/plain": [
       "Empty DataFrame\n",
       "Columns: [Bike number, Duration, End date, End station, End station number, Member type, Start date, Start station, Start station number]\n",
       "Index: []"
      ]
     },
     "execution_count": 7,
     "metadata": {},
     "output_type": "execute_result"
    }
   ],
   "source": [
    "df0"
   ]
  },
  {
   "cell_type": "code",
   "execution_count": 8,
   "metadata": {
    "collapsed": false
   },
   "outputs": [
    {
     "data": {
      "text/plain": [
       "0"
      ]
     },
     "execution_count": 8,
     "metadata": {},
     "output_type": "execute_result"
    }
   ],
   "source": [
    "len(df0)"
   ]
  },
  {
   "cell_type": "code",
   "execution_count": null,
   "metadata": {
    "collapsed": true
   },
   "outputs": [],
   "source": []
  },
  {
   "cell_type": "code",
   "execution_count": 9,
   "metadata": {
    "collapsed": false
   },
   "outputs": [
    {
     "name": "stdout",
     "output_type": "stream",
     "text": [
      "Wed Jun 05 10:46:37 2019\n",
      "reading 2010-capitalbikeshare-tripdata.csv\n",
      "reading 2011-capitalbikeshare-tripdata.csv\n",
      "reading 2012Q1-capitalbikeshare-tripdata.csv\n",
      "reading 2012Q2-capitalbikeshare-tripdata.csv\n",
      "reading 2012Q3-capitalbikeshare-tripdata.csv\n",
      "reading 2012Q4-capitalbikeshare-tripdata.csv\n",
      "reading 2013Q1-capitalbikeshare-tripdata.csv\n",
      "reading 2013Q2-capitalbikeshare-tripdata.csv\n",
      "reading 2013Q3-capitalbikeshare-tripdata.csv\n",
      "reading 2013Q4-capitalbikeshare-tripdata.csv\n",
      "reading 2014Q1-capitalbikeshare-tripdata.csv\n",
      "reading 2014Q2-capitalbikeshare-tripdata.csv\n",
      "reading 2014Q3-capitalbikeshare-tripdata.csv\n",
      "reading 2014Q4-capitalbikeshare-tripdata.csv\n",
      "reading 2015Q1-capitalbikeshare-tripdata.csv\n",
      "reading 2015Q2-capitalbikeshare-tripdata.csv\n",
      "reading 2015Q3-capitalbikeshare-tripdata.csv\n",
      "reading 2015Q4-capitalbikeshare-tripdata.csv\n",
      "reading 2016Q1-capitalbikeshare-tripdata.csv\n",
      "reading 2016Q2-capitalbikeshare-tripdata.csv\n",
      "reading 2016Q3-capitalbikeshare-tripdata.csv\n",
      "reading 2016Q4-capitalbikeshare-tripdata.csv\n",
      "reading 2017Q1-capitalbikeshare-tripdata.csv\n",
      "reading 2017Q2-capitalbikeshare-tripdata.csv\n",
      "reading 2017Q3-capitalbikeshare-tripdata.csv\n",
      "reading 2017Q4-capitalbikeshare-tripdata.csv\n",
      "reading 201801_capitalbikeshare_tripdata.csv\n",
      "reading 201802-capitalbikeshare-tripdata.csv\n",
      "reading 201803-capitalbikeshare-tripdata.csv\n",
      "reading 201804-capitalbikeshare-tripdata.csv\n",
      "reading 201805-capitalbikeshare-tripdata.csv\n",
      "reading 201806-capitalbikeshare-tripdata.csv\n",
      "reading 201807-capitalbikeshare-tripdata.csv\n",
      "reading 201808-capitalbikeshare-tripdata.csv\n",
      "reading 201809-capitalbikeshare-tripdata.csv\n",
      "reading 201810-capitalbikeshare-tripdata.csv\n",
      "reading 201811-capitalbikeshare-tripdata.csv\n",
      "reading 201812-capitalbikeshare-tripdata.csv\n",
      "Wed Jun 05 10:47:28 2019\n",
      "Wed Jun 05 10:47:32 2019\n"
     ]
    }
   ],
   "source": [
    "# Takes 1 minute to open, raw read, and concat all the CSV files:\n",
    "print(time.ctime())\n",
    "allFieldNames = set()\n",
    "numCols = []\n",
    "#DF = df0\n",
    "L_df=[]\n",
    "len_df=[]\n",
    "for ff in cabiZipFiles:\n",
    "    zf=zipfile.ZipFile(os.path.join(zipsDir,ff))\n",
    "    zipContents = filter(lambda x: x.endswith('.csv'),zf.namelist())\n",
    "    for csvfile in zipContents:\n",
    "        print('reading %s' % csvfile)\n",
    "        # previously we verified that all files have the same format:\n",
    "        #allFieldNames.update(df.columns)\n",
    "        #numCols.append(len(df.columns))\n",
    "        L_df.append(pd.read_csv(zf.open(csvfile)))\n",
    "        len_df.append(len(L_df[-1]))\n",
    "print(time.ctime())\n",
    "DF = pd.concat(L_df,ignore_index=True)\n",
    "print(time.ctime())"
   ]
  },
  {
   "cell_type": "code",
   "execution_count": 10,
   "metadata": {
    "collapsed": false
   },
   "outputs": [
    {
     "data": {
      "text/plain": [
       "22660327"
      ]
     },
     "execution_count": 10,
     "metadata": {},
     "output_type": "execute_result"
    }
   ],
   "source": [
    "len(DF)"
   ]
  },
  {
   "cell_type": "code",
   "execution_count": 11,
   "metadata": {
    "collapsed": false
   },
   "outputs": [
    {
     "data": {
      "text/html": [
       "<div>\n",
       "<table border=\"1\" class=\"dataframe\">\n",
       "  <thead>\n",
       "    <tr style=\"text-align: right;\">\n",
       "      <th></th>\n",
       "      <th>Duration</th>\n",
       "      <th>Start date</th>\n",
       "      <th>End date</th>\n",
       "      <th>Start station number</th>\n",
       "      <th>Start station</th>\n",
       "      <th>End station number</th>\n",
       "      <th>End station</th>\n",
       "      <th>Bike number</th>\n",
       "      <th>Member type</th>\n",
       "    </tr>\n",
       "  </thead>\n",
       "  <tbody>\n",
       "    <tr>\n",
       "      <th>22660322</th>\n",
       "      <td>3313</td>\n",
       "      <td>2018-12-31 23:37:22</td>\n",
       "      <td>2019-01-01 00:32:36</td>\n",
       "      <td>31615</td>\n",
       "      <td>6th &amp; H St NE</td>\n",
       "      <td>31624</td>\n",
       "      <td>North Capitol St &amp; F St NW</td>\n",
       "      <td>W00159</td>\n",
       "      <td>Member</td>\n",
       "    </tr>\n",
       "    <tr>\n",
       "      <th>22660323</th>\n",
       "      <td>888</td>\n",
       "      <td>2018-12-31 23:42:18</td>\n",
       "      <td>2018-12-31 23:57:07</td>\n",
       "      <td>31618</td>\n",
       "      <td>4th &amp; East Capitol St NE</td>\n",
       "      <td>31509</td>\n",
       "      <td>New Jersey Ave &amp; R St NW</td>\n",
       "      <td>W22026</td>\n",
       "      <td>Member</td>\n",
       "    </tr>\n",
       "    <tr>\n",
       "      <th>22660324</th>\n",
       "      <td>2332</td>\n",
       "      <td>2018-12-31 23:44:23</td>\n",
       "      <td>2019-01-01 00:23:16</td>\n",
       "      <td>31907</td>\n",
       "      <td>Franklin &amp; S Washington St</td>\n",
       "      <td>32406</td>\n",
       "      <td>Fleet St &amp; Waterfront St</td>\n",
       "      <td>W23900</td>\n",
       "      <td>Member</td>\n",
       "    </tr>\n",
       "    <tr>\n",
       "      <th>22660325</th>\n",
       "      <td>307</td>\n",
       "      <td>2018-12-31 23:52:42</td>\n",
       "      <td>2018-12-31 23:57:50</td>\n",
       "      <td>31114</td>\n",
       "      <td>18th St &amp; Wyoming Ave NW</td>\n",
       "      <td>31103</td>\n",
       "      <td>16th &amp; Harvard St NW</td>\n",
       "      <td>W00761</td>\n",
       "      <td>Member</td>\n",
       "    </tr>\n",
       "    <tr>\n",
       "      <th>22660326</th>\n",
       "      <td>1062</td>\n",
       "      <td>2018-12-31 23:54:09</td>\n",
       "      <td>2019-01-01 00:11:52</td>\n",
       "      <td>31110</td>\n",
       "      <td>20th St &amp; Florida Ave NW</td>\n",
       "      <td>31014</td>\n",
       "      <td>Lynn &amp; 19th St North</td>\n",
       "      <td>W21324</td>\n",
       "      <td>Member</td>\n",
       "    </tr>\n",
       "  </tbody>\n",
       "</table>\n",
       "</div>"
      ],
      "text/plain": [
       "          Duration           Start date             End date  \\\n",
       "22660322      3313  2018-12-31 23:37:22  2019-01-01 00:32:36   \n",
       "22660323       888  2018-12-31 23:42:18  2018-12-31 23:57:07   \n",
       "22660324      2332  2018-12-31 23:44:23  2019-01-01 00:23:16   \n",
       "22660325       307  2018-12-31 23:52:42  2018-12-31 23:57:50   \n",
       "22660326      1062  2018-12-31 23:54:09  2019-01-01 00:11:52   \n",
       "\n",
       "          Start station number               Start station  \\\n",
       "22660322                 31615               6th & H St NE   \n",
       "22660323                 31618    4th & East Capitol St NE   \n",
       "22660324                 31907  Franklin & S Washington St   \n",
       "22660325                 31114    18th St & Wyoming Ave NW   \n",
       "22660326                 31110    20th St & Florida Ave NW   \n",
       "\n",
       "          End station number                 End station Bike number  \\\n",
       "22660322               31624  North Capitol St & F St NW      W00159   \n",
       "22660323               31509    New Jersey Ave & R St NW      W22026   \n",
       "22660324               32406    Fleet St & Waterfront St      W23900   \n",
       "22660325               31103        16th & Harvard St NW      W00761   \n",
       "22660326               31014        Lynn & 19th St North      W21324   \n",
       "\n",
       "         Member type  \n",
       "22660322      Member  \n",
       "22660323      Member  \n",
       "22660324      Member  \n",
       "22660325      Member  \n",
       "22660326      Member  "
      ]
     },
     "execution_count": 11,
     "metadata": {},
     "output_type": "execute_result"
    }
   ],
   "source": [
    "DF.tail()"
   ]
  },
  {
   "cell_type": "code",
   "execution_count": 12,
   "metadata": {
    "collapsed": false
   },
   "outputs": [
    {
     "name": "stdout",
     "output_type": "stream",
     "text": [
      "Wed Jun 05 10:47:32 2019\n",
      "(544, 530, 544, 530)\n",
      "Wed Jun 05 10:47:35 2019\n"
     ]
    }
   ],
   "source": [
    "# How many unique stations are there?\n",
    "print(time.ctime())\n",
    "print(DF['Start station'].nunique(),DF['Start station number'].nunique(),\n",
    "      DF['End station'].nunique(),DF['End station number'].nunique())\n",
    "print(time.ctime())"
   ]
  },
  {
   "cell_type": "code",
   "execution_count": null,
   "metadata": {
    "collapsed": false
   },
   "outputs": [],
   "source": [
    "# We see a bunch of rows that are listed twice, both in the Nov18 and the Dec18 csv files\n",
    "    # Any ride that started after 20181201@0000 and completed before 20181204@103308 is included in both files\n",
    "    # Not sure why there is an overlap here (It does not happen for any other month)\n",
    "# A naive DeDuping removes most of these duplicates, but not all\n",
    "    # because some of the station names are changed from one file to the next\n",
    "        # e.g. \n",
    "            # 31232:   \"8th & F St NW / National Portrait Gallery\" in Nov,  \"7th & F St NW / National Portrait Gallery\" in Dec\n",
    "            # 31040:   \"Fairfax Dr & Kenmore St\" in Nov,  \"GMU / Fairfax Dr & Kenmore St\" in Dec\n",
    "\n",
    "            \n",
    "# DF.drop_duplicates(keep='last',inplace=True)\n"
   ]
  },
  {
   "cell_type": "code",
   "execution_count": 13,
   "metadata": {
    "collapsed": false
   },
   "outputs": [
    {
     "name": "stdout",
     "output_type": "stream",
     "text": [
      "Wed Jun 05 10:47:35 2019\n",
      "22660327\n",
      "22641648\n",
      "Wed Jun 05 10:48:23 2019\n"
     ]
    }
   ],
   "source": [
    "# 1 minute for de-dupe:\n",
    "\n",
    "# Ah, but you can use the 'subset' argument within dedupe!!!\n",
    "    # we want to use all columns except ignore the two station name columns\n",
    "        # that should take care of the station renaming problem\n",
    "            # We'll keep the most recent station name\n",
    "    \n",
    "subset4dedupe = [col for col in DF.columns if ((col != 'Start station') and (col != 'End station'))]\n",
    "print(time.ctime())\n",
    "print(len(DF))\n",
    "DF.drop_duplicates(subset=subset4dedupe,keep='last',inplace=True)\n",
    "print(len(DF))\n",
    "print(time.ctime())\n",
    "\n",
    "                    # Aside: it is troubling that some of the historical \"renames\" are actually entirely different locations\n",
    "                        # e.g. the original station at the 34th St S bridge over 395 got renamed to \"4MR and Walter Reed\"\n",
    "                                # even though those locations are not too close to one another\n",
    "                            # i'm guessing the new dock at 4MR & WR has the same ID number as the previous dock at 34th St S\n",
    "                                        # and that the new name is getting propagated back mistakenly \n",
    "                        # Look into this further in a bit\n",
    "                            # May require comparison vs. my old data that was downloaded from CaBi three years ago\n",
    "                            # Presumably there exist other extinct stations that are similarly treated"
   ]
  },
  {
   "cell_type": "code",
   "execution_count": 14,
   "metadata": {
    "collapsed": false
   },
   "outputs": [
    {
     "data": {
      "text/plain": [
       "22641648"
      ]
     },
     "execution_count": 14,
     "metadata": {},
     "output_type": "execute_result"
    }
   ],
   "source": [
    "len(DF)"
   ]
  },
  {
   "cell_type": "code",
   "execution_count": 15,
   "metadata": {
    "collapsed": false
   },
   "outputs": [
    {
     "data": {
      "text/html": [
       "<div>\n",
       "<table border=\"1\" class=\"dataframe\">\n",
       "  <thead>\n",
       "    <tr style=\"text-align: right;\">\n",
       "      <th></th>\n",
       "      <th>Duration</th>\n",
       "      <th>Start date</th>\n",
       "      <th>End date</th>\n",
       "      <th>Start station number</th>\n",
       "      <th>Start station</th>\n",
       "      <th>End station number</th>\n",
       "      <th>End station</th>\n",
       "      <th>Bike number</th>\n",
       "      <th>Member type</th>\n",
       "    </tr>\n",
       "  </thead>\n",
       "  <tbody>\n",
       "    <tr>\n",
       "      <th>22500359</th>\n",
       "      <td>2806</td>\n",
       "      <td>2018-12-04 08:22:12</td>\n",
       "      <td>2018-12-04 09:08:59</td>\n",
       "      <td>31644</td>\n",
       "      <td>12th St &amp; Pennsylvania Ave SE</td>\n",
       "      <td>31624</td>\n",
       "      <td>North Capitol St &amp; F St NW</td>\n",
       "      <td>W00662</td>\n",
       "      <td>Member</td>\n",
       "    </tr>\n",
       "    <tr>\n",
       "      <th>22519048</th>\n",
       "      <td>349</td>\n",
       "      <td>2018-12-04 08:22:12</td>\n",
       "      <td>2018-12-04 08:28:02</td>\n",
       "      <td>31644</td>\n",
       "      <td>12th St &amp; Pennsylvania Ave SE</td>\n",
       "      <td>31605</td>\n",
       "      <td>3rd &amp; D St SE</td>\n",
       "      <td>W00662</td>\n",
       "      <td>Member</td>\n",
       "    </tr>\n",
       "    <tr>\n",
       "      <th>22519640</th>\n",
       "      <td>571</td>\n",
       "      <td>2018-12-04 08:59:28</td>\n",
       "      <td>2018-12-04 09:08:59</td>\n",
       "      <td>31605</td>\n",
       "      <td>3rd &amp; D St SE</td>\n",
       "      <td>31624</td>\n",
       "      <td>North Capitol St &amp; F St NW</td>\n",
       "      <td>W00662</td>\n",
       "      <td>Member</td>\n",
       "    </tr>\n",
       "  </tbody>\n",
       "</table>\n",
       "</div>"
      ],
      "text/plain": [
       "          Duration           Start date             End date  \\\n",
       "22500359      2806  2018-12-04 08:22:12  2018-12-04 09:08:59   \n",
       "22519048       349  2018-12-04 08:22:12  2018-12-04 08:28:02   \n",
       "22519640       571  2018-12-04 08:59:28  2018-12-04 09:08:59   \n",
       "\n",
       "          Start station number                  Start station  \\\n",
       "22500359                 31644  12th St & Pennsylvania Ave SE   \n",
       "22519048                 31644  12th St & Pennsylvania Ave SE   \n",
       "22519640                 31605                  3rd & D St SE   \n",
       "\n",
       "          End station number                 End station Bike number  \\\n",
       "22500359               31624  North Capitol St & F St NW      W00662   \n",
       "22519048               31605               3rd & D St SE      W00662   \n",
       "22519640               31624  North Capitol St & F St NW      W00662   \n",
       "\n",
       "         Member type  \n",
       "22500359      Member  \n",
       "22519048      Member  \n",
       "22519640      Member  "
      ]
     },
     "execution_count": 15,
     "metadata": {},
     "output_type": "execute_result"
    }
   ],
   "source": [
    "\n",
    "# Inspection shows two early-Dec rows from the November file that did NOT get dropped during this dedupe.\n",
    "    # Thus they appear as out-of-order chronologically\n",
    "# DF.iloc[22482790:22482800]\n",
    "    # rows with indices 22500359 and 22501298 did NOT get dropped\n",
    "# Here is the first example\n",
    "    # (first row), along with two related rows from the December CSV file:\n",
    "interestingRideIDs = [22500359,22519048,22519640]\n",
    "(DF.loc[interestingRideIDs])"
   ]
  },
  {
   "cell_type": "code",
   "execution_count": 16,
   "metadata": {
    "collapsed": false
   },
   "outputs": [
    {
     "data": {
      "text/html": [
       "<div>\n",
       "<table border=\"1\" class=\"dataframe\">\n",
       "  <thead>\n",
       "    <tr style=\"text-align: right;\">\n",
       "      <th></th>\n",
       "      <th>Duration</th>\n",
       "      <th>Start date</th>\n",
       "      <th>End date</th>\n",
       "      <th>Start station number</th>\n",
       "      <th>Start station</th>\n",
       "      <th>End station number</th>\n",
       "      <th>End station</th>\n",
       "      <th>Bike number</th>\n",
       "      <th>Member type</th>\n",
       "    </tr>\n",
       "  </thead>\n",
       "  <tbody>\n",
       "    <tr>\n",
       "      <th>22501298</th>\n",
       "      <td>2099</td>\n",
       "      <td>2018-12-04 09:39:44</td>\n",
       "      <td>2018-12-04 10:14:44</td>\n",
       "      <td>31641</td>\n",
       "      <td>2nd St &amp; Massachusetts Ave NE</td>\n",
       "      <td>31644</td>\n",
       "      <td>12th St &amp; Pennsylvania Ave SE</td>\n",
       "      <td>W23016</td>\n",
       "      <td>Member</td>\n",
       "    </tr>\n",
       "    <tr>\n",
       "      <th>22520005</th>\n",
       "      <td>369</td>\n",
       "      <td>2018-12-04 09:39:44</td>\n",
       "      <td>2018-12-04 09:45:54</td>\n",
       "      <td>31641</td>\n",
       "      <td>2nd St &amp; Massachusetts Ave NE</td>\n",
       "      <td>31605</td>\n",
       "      <td>3rd &amp; D St SE</td>\n",
       "      <td>W23016</td>\n",
       "      <td>Member</td>\n",
       "    </tr>\n",
       "    <tr>\n",
       "      <th>22520121</th>\n",
       "      <td>424</td>\n",
       "      <td>2018-12-04 10:07:40</td>\n",
       "      <td>2018-12-04 10:14:44</td>\n",
       "      <td>31605</td>\n",
       "      <td>3rd &amp; D St SE</td>\n",
       "      <td>31644</td>\n",
       "      <td>12th St &amp; Pennsylvania Ave SE</td>\n",
       "      <td>W23016</td>\n",
       "      <td>Member</td>\n",
       "    </tr>\n",
       "  </tbody>\n",
       "</table>\n",
       "</div>"
      ],
      "text/plain": [
       "          Duration           Start date             End date  \\\n",
       "22501298      2099  2018-12-04 09:39:44  2018-12-04 10:14:44   \n",
       "22520005       369  2018-12-04 09:39:44  2018-12-04 09:45:54   \n",
       "22520121       424  2018-12-04 10:07:40  2018-12-04 10:14:44   \n",
       "\n",
       "          Start station number                  Start station  \\\n",
       "22501298                 31641  2nd St & Massachusetts Ave NE   \n",
       "22520005                 31641  2nd St & Massachusetts Ave NE   \n",
       "22520121                 31605                  3rd & D St SE   \n",
       "\n",
       "          End station number                    End station Bike number  \\\n",
       "22501298               31644  12th St & Pennsylvania Ave SE      W23016   \n",
       "22520005               31605                  3rd & D St SE      W23016   \n",
       "22520121               31644  12th St & Pennsylvania Ave SE      W23016   \n",
       "\n",
       "         Member type  \n",
       "22501298      Member  \n",
       "22520005      Member  \n",
       "22520121      Member  "
      ]
     },
     "execution_count": 16,
     "metadata": {},
     "output_type": "execute_result"
    }
   ],
   "source": [
    "# And the second example:\n",
    "# Same thing happened again the next hour, also at 3rd & D St SE:\n",
    "interestingRideIDs = [22501298,22520005,22520121]\n",
    "(DF.loc[interestingRideIDs])"
   ]
  },
  {
   "cell_type": "code",
   "execution_count": 17,
   "metadata": {
    "collapsed": true
   },
   "outputs": [],
   "source": [
    "# Why?\n",
    "    # It looks like station 31605 \"3rd & D St SE\" may have failed to communicate during this period.\n",
    "    # In each case, the end-Nov file shows a single ride that the Dec file has resolved into two rides !!!!!!!!!!\n",
    "        # Presumably the software didn't close the initial ride \n",
    "            # until someone else eventually came along and dropped the same bike at another station\n",
    "                # (it does seem likely to have been a different person)\n",
    "                            # altho the intermediate station is located somewhat between the two endpoints in each case,\n",
    "                                # there is a large time gap in both cases. in both cases, time gap is longer than either ride\n",
    "\n",
    "# Aside: we could check to see if there are any other rides involving 3rd & D St SE during this period?"
   ]
  },
  {
   "cell_type": "code",
   "execution_count": null,
   "metadata": {
    "collapsed": true
   },
   "outputs": [],
   "source": []
  },
  {
   "cell_type": "code",
   "execution_count": null,
   "metadata": {
    "collapsed": true
   },
   "outputs": [],
   "source": []
  },
  {
   "cell_type": "code",
   "execution_count": null,
   "metadata": {
    "collapsed": true
   },
   "outputs": [],
   "source": []
  },
  {
   "cell_type": "code",
   "execution_count": null,
   "metadata": {
    "collapsed": true
   },
   "outputs": [],
   "source": []
  },
  {
   "cell_type": "code",
   "execution_count": null,
   "metadata": {
    "collapsed": true
   },
   "outputs": [],
   "source": []
  },
  {
   "cell_type": "code",
   "execution_count": 22,
   "metadata": {
    "collapsed": false
   },
   "outputs": [
    {
     "data": {
      "text/plain": [
       "\"\\nfor dex in range(numBikes):\\n    localOverlaps=0\\n    if (dex%200 == 0):\\n        print('%d / %d' % (dex,numBikes))\\n    itinerary = DF[DF['Bike number']==uB[dex]].sort_values(by='Start date')\\n    for row in range(len(itinerary)-1):\\n        if (itinerary.iloc[row]['End date'] > itinerary.iloc[row+1]['Start date']):\\n            localOverlaps+=1\\n    overlaps.append(localOverlaps)\\nprint(time.ctime())\\n\""
      ]
     },
     "execution_count": 22,
     "metadata": {},
     "output_type": "execute_result"
    }
   ],
   "source": [
    "# So one obvious way to detect this sort of data error: \n",
    "                # check for any bicycle that is engaged in more than one trip at a time\n",
    "# All rides, when sorted by start time, should close out before any new trip involving that bicycle begins\n",
    "\n",
    "    # If we Create a separate itinerary for each bike, It shouldn't have overlaps between rides\n",
    "\n",
    "'''\n",
    "uB = DF['Bike number'].unique()\n",
    "numBikes = len(uB)\n",
    "print(uB)\n",
    "print(numBikes)\n",
    "overlaps = []\n",
    "print(time.ctime())\n",
    "'''\n",
    "# WAY TOO SLOW\n",
    "    # probably because it is filtering thru the tripHistory dataframe for each bike separately !!\n",
    "        # so the full loop is probably O(numBikes * numTripsTotal) for this filtering\n",
    "            # the actual processing should be O(numTripsTotal)\n",
    "'''\n",
    "for dex in range(numBikes):\n",
    "    localOverlaps=0\n",
    "    if (dex%200 == 0):\n",
    "        print('%d / %d' % (dex,numBikes))\n",
    "    itinerary = DF[DF['Bike number']==uB[dex]].sort_values(by='Start date')\n",
    "    for row in range(len(itinerary)-1):\n",
    "        if (itinerary.iloc[row]['End date'] > itinerary.iloc[row+1]['Start date']):\n",
    "            localOverlaps+=1\n",
    "    overlaps.append(localOverlaps)\n",
    "print(time.ctime())\n",
    "'''"
   ]
  },
  {
   "cell_type": "code",
   "execution_count": null,
   "metadata": {
    "collapsed": false
   },
   "outputs": [],
   "source": [
    "# Let's figure out how to do this with a single groupby operation instead\n",
    "    # pandas get_group appears to do exactly what i need\n",
    "    \n",
    "'''\n",
    "uB = DF['Bike number'].unique()\n",
    "numBikes = len(uB)\n",
    "print(uB)\n",
    "print(numBikes)\n",
    "overlaps = []\n",
    "\n",
    "print(time.ctime())\n",
    "gb_Bike = DF.groupby('Bike number')\n",
    "print(time.ctime())\n",
    "for bDex in range(numBikes):\n",
    "    localOverlaps=0\n",
    "    if (bDex%1000 == 0):\n",
    "        print('%d / %d' % (bDex,numBikes))\n",
    "    itinerary = gb_Bike.get_group(uB[bDex]).sort_values(by='Start date')\n",
    "    wgho=bDex**2\n",
    "    (SD,ED) = (list(itinerary['Start date']),list(itinerary['End date']))\n",
    "    #print(SD)\n",
    "    for row in range(len(SD)-1):\n",
    "        if (ED[row] > SD[row+1]):\n",
    "        #if (itinerary['End date'].iloc[row] > itinerary['Start date'].iloc[row+1]):\n",
    "            localOverlaps+=1\n",
    "    overlaps.append(localOverlaps)\n",
    "print(time.ctime())\n",
    "# Weird: this indexing into itinerary was taking forever for some reason.\n",
    "        # but it's much faster if you just write the needed columns to lists and then do the overlap check. (Why?)\n",
    "'''\n"
   ]
  },
  {
   "cell_type": "code",
   "execution_count": 18,
   "metadata": {
    "collapsed": false
   },
   "outputs": [
    {
     "name": "stdout",
     "output_type": "stream",
     "text": [
      "['W00742' 'W00032' 'W00993' ..., 'W24122' 'W24101' 'W24125']\n",
      "5688\n",
      "Wed Jun 05 10:49:08 2019\n",
      "Wed Jun 05 10:49:08 2019\n",
      "0 / 5688\n",
      "1000 / 5688\n",
      "2000 / 5688\n",
      "3000 / 5688\n",
      "4000 / 5688\n",
      "5000 / 5688\n",
      "Wed Jun 05 10:50:02 2019\n",
      "5688\n",
      "40\n"
     ]
    }
   ],
   "source": [
    "# ~ 1 minute:\n",
    "# Find all overlaps (conflicts within a single bike's itinerary) => overlapDF\n",
    "\n",
    "uB = DF['Bike number'].unique()\n",
    "numBikes = len(uB)\n",
    "print(uB)\n",
    "print(numBikes)\n",
    "overlaps = []\n",
    "overlapDF = pd.DataFrame({'Duration':[],'Start date':[],'End date':[],'Start station number':[],\n",
    "                   'Start station':[],'End station number':[],'End station':[],'Bike number':[],'Member type':[]})\n",
    "\n",
    "print(time.ctime())\n",
    "gb_Bike = DF.groupby('Bike number')\n",
    "print(time.ctime())\n",
    "for bDex in range(numBikes):\n",
    "    localOverlaps=0\n",
    "    if (bDex%1000 == 0):\n",
    "        print('%d / %d' % (bDex,numBikes))\n",
    "    itinerary = gb_Bike.get_group(uB[bDex]).sort_values(by='Start date')\n",
    "    (SD,ED) = (list(itinerary['Start date']),list(itinerary['End date']))\n",
    "    #print(SD)\n",
    "    for row in range(len(SD)-1):\n",
    "        if (ED[row] > SD[row+1]):\n",
    "        #if (itinerary['End date'].iloc[row] > itinerary['Start date'].iloc[row+1]):\n",
    "            localOverlaps+=1\n",
    "            overlapDF = pd.concat([overlapDF,itinerary.iloc[row:(row+2)]])\n",
    "    overlaps.append(localOverlaps)\n",
    "print(time.ctime())\n",
    "print(len(overlaps)) # actually this is just the number of unique bikes\n",
    "print(sum(overlaps))"
   ]
  },
  {
   "cell_type": "code",
   "execution_count": 19,
   "metadata": {
    "collapsed": false
   },
   "outputs": [
    {
     "data": {
      "text/plain": [
       "80"
      ]
     },
     "execution_count": 19,
     "metadata": {},
     "output_type": "execute_result"
    }
   ],
   "source": [
    "len(overlapDF)"
   ]
  },
  {
   "cell_type": "code",
   "execution_count": 20,
   "metadata": {
    "collapsed": false
   },
   "outputs": [
    {
     "name": "stdout",
     "output_type": "stream",
     "text": [
      "6\n"
     ]
    }
   ],
   "source": [
    "# Inspection of the overlaps shows that, except for those two cases involving the 3rd & D station on 20181204\n",
    "    # all the rest occur during the DST overlap hour each year in November\n",
    "            # and so are presumably caused by timestamp indistinguishability having led to an incorrect sort order\n",
    "        # Cool !\n",
    "#overlapDF.tail(42)\n",
    "#overlapDF.head(42)\n",
    "\n",
    "# Let's remove all the ones that coincide with November FallBacks:\n",
    "\n",
    "fallbackDates = [20101107,20111106,20121104,20131103,20141102,20151101,20161106,20171105,20181104,20191103,20201101]\n",
    "fallbackStrings = [('%04d-%02d-%02d 01:' % (day//10000,(day//100)%100,day%100)) for day in fallbackDates]\n",
    "\n",
    "dysclosureAnomalies = \\\n",
    "            overlapDF[(overlapDF['Start date'].apply(lambda x: not(any([x.startswith(s) for s in fallbackStrings])))) & \\\n",
    "                (overlapDF['End date'].apply(lambda x: not(any([x.startswith(s) for s in fallbackStrings]))))]\n",
    "\n",
    "print(len(dysclosureAnomalies))\n",
    "\n",
    "# Only the six rows from our \"interestingRideIDs\" remain!\n",
    "        # [22500359,22519048,22519640,22501298,22520005,22520121]"
   ]
  },
  {
   "cell_type": "code",
   "execution_count": 21,
   "metadata": {
    "collapsed": false
   },
   "outputs": [
    {
     "name": "stdout",
     "output_type": "stream",
     "text": [
      "22641648\n",
      "22641646\n"
     ]
    }
   ],
   "source": [
    "# dysclosureAnomalies\n",
    "    # Note that it matters how the rows with identical end times were arbitrarily sorted.\n",
    "        # In the first case, we never see the second leg (trip from 3rd & D to N.Cap & F) appear in our overlapDF\n",
    "            # because the rows had been sorted as (full dysclosed, then correct first leg, then correct second leg)\n",
    "                    # order of the first two is arbitrary since they have identical start times\n",
    "                # the first pair of entries produces an overlap error, but the second pair of consecutive entries does not \n",
    "        # In the second case, it appears as two overlaps \n",
    "            # because the rows had been sorted as (correct first leg, full dysclosed, correct second leg)\n",
    "                # so each pair of successive entries produces an overlap error\n",
    "                \n",
    "# Regardless it is possible to identify the two dysclosed ride IDs, even without all the correct legs present\n",
    "    # If any two rides match all of ['Bike number','Start date','Start station number']\n",
    "        # then the longer ride should be discarded\n",
    "        \n",
    "keepSet = set(dysclosureAnomalies.groupby(['Bike number','Start date','Start station number'])['Duration'].idxmin())\n",
    "                                                            # remember 'Start date' is the full timestamp, not just the day!!\n",
    "    # If any rows match all of the above (same bike, same start location/timestamp)\n",
    "            # then we are going to remove the longest duration ride.\n",
    "discardSet = set(dysclosureAnomalies.index) - keepSet\n",
    "print(len(DF))\n",
    "DF.drop(list(discardSet),axis=0,inplace=True)\n",
    "print(len(DF))\n",
    "# takes a few seconds\n",
    "\n",
    "# The two dysclosed trips have been discarded.\n",
    "# The only known timestamp issue remaining is the fallback ambiguity"
   ]
  },
  {
   "cell_type": "code",
   "execution_count": 22,
   "metadata": {
    "collapsed": false
   },
   "outputs": [
    {
     "name": "stdout",
     "output_type": "stream",
     "text": [
      "12137199\n",
      "12137199\n",
      "12137199\n",
      "12137199\n"
     ]
    }
   ],
   "source": [
    "# Jan 2016 snowstorm: All bicycles remained checked into the system during the Snowzilla. No rides for almost five days.\n",
    "print((DF['Start date'] < '2016-01-22 19:10').sum())\n",
    "print((DF['Start date'] < '2016-01-27 15:43').sum())\n",
    "print((DF['End date'] < '2016-01-22 19:10').sum())\n",
    "print((DF['End date'] < '2016-01-27 15:43').sum())"
   ]
  },
  {
   "cell_type": "code",
   "execution_count": 26,
   "metadata": {
    "collapsed": false
   },
   "outputs": [
    {
     "name": "stdout",
     "output_type": "stream",
     "text": [
      "['23750', '23751', '23752', '23753', '23754', '23755', '23756', '23757', '51020', '51033', '51045', '65005', '65009', '65012', '65013', '65033', '65038', '65043', '70004', '70011', '70015', '70029', '70031', '70047', '70049', '70059', '70063', '70064', '70079', '70087', '70094', '70105', '70138', '70142', '70151', '70159', '70172', '70174', '70176', '70180', '70203', '70231', '70232', '70241', '?(0x0000000008D291C0)', '?(0x000000000CB3A1A6)', '?(0x000000000D11CC6B)', '?(0x000000001A4D699F)', '?(0x0000000026B3BBA8)', '?(0x000000002FD1067B)', '?(0x000000003EB026B9)', '?(0x000000004443704F)', '?(0x000000004752DD3A)', '?(0x000000005F128A5C)', '?(0x000000006945F6DC)', '?(0x000000006DFB8596)', '?(0x0000000074BEBCE4)', '?(0x000000007C120F6A)', '?(0xFFFFFFFF83DE3658)', '?(0xFFFFFFFF9A5FEA16)', '?(0xFFFFFFFFAAC5A4C0)', '?(0xFFFFFFFFADC1C69A)', '?(0xFFFFFFFFB44D36A5)', '?(0xFFFFFFFFE74EA88B)', '?(0xFFFFFFFFEB7B5641)', '?(0xFFFFFFFFEB8D4246)', '?(0xFFFFFFFFEBA95C18)', '?(0xFFFFFFFFEE8DADF1)', '?(0xFFFFFFFFF2B05C1E)', '?(0xFFFFFFFFFAF0B948)', '?(0xFFFFFFFFFBAC9E2A)', 'E00008', 'E00009', 'E00013', 'E00024', 'E00037', 'E00038', 'E00040', 'E00042', 'E00043', 'E00062', 'E00066', 'E00069', 'E00073', 'E00078', 'E00087', 'E00089', 'E00092', 'E00093', 'E00094', 'E00098', 'E00099', 'E00101', 'E00103', 'E00104', 'E00108', 'E00109', 'E00113', 'E00116', 'E00117', 'E00118', 'E00122', 'E00124', 'E00125', 'E00126', 'E00128', 'E00129', 'E00133', 'E00134', 'E00137', 'E00138', 'E00139', 'E00140', 'E00141', 'E00143', 'E00144', 'E00145', 'E00146', 'E00147', 'W00005', 'W00006', 'W00007', 'W00008', 'W00009', 'W00010', 'W00011', 'W00012', 'W00013', 'W00014', 'W00015', 'W00016', 'W00017', 'W00018', 'W00019', 'W00020', 'W00021', 'W00022', 'W00024', 'W00025', 'W00026', 'W00027', 'W00028', 'W00029', 'W00030', 'W00031', 'W00032', 'W00033', 'W00034', 'W00035', 'W00036', 'W00037', 'W00038', 'W00039', 'W00040', 'W00041', 'W00042', 'W00043', 'W00044', 'W00045', 'W00046', 'W00047', 'W00048', 'W00049', 'W00050', 'W00051', 'W00054', 'W00055', 'W00057', 'W00058', 'W00059', 'W00060', 'W00061', 'W00062', 'W00063', 'W00064', 'W00065', 'W00066', 'W00067', 'W00068', 'W00069', 'W00070', 'W00071', 'W00072', 'W00073', 'W00074', 'W00075', 'W00076', 'W00077', 'W00078', 'W00079', 'W00080', 'W00081', 'W00082', 'W00083', 'W00084', 'W00085', 'W00086', 'W00087', 'W00088', 'W00089', 'W00090', 'W00091', 'W00092', 'W00093', 'W00094', 'W00095', 'W00096', 'W00097', 'W00098', 'W00099', 'W00100', 'W00101', 'W00102', 'W00103', 'W00105', 'W00106', 'W00107', 'W00108', 'W00109', 'W00110', 'W00111', 'W00112', 'W00113', 'W00114', 'W00115', 'W00116', 'W00117', 'W00118', 'W00119', 'W00120', 'W00121', 'W00122', 'W00123', 'W00124', 'W00125', 'W00126', 'W00127', 'W00128', 'W00129', 'W00130', 'W00131', 'W00132', 'W00133', 'W00134', 'W00135', 'W00136', 'W00137', 'W00138', 'W00139', 'W00140', 'W00141', 'W00142', 'W00143', 'W00144', 'W00145', 'W00146', 'W00147', 'W00148', 'W00149', 'W00150', 'W00151', 'W00152', 'W00153', 'W00154', 'W00155', 'W00156', 'W00157', 'W00158', 'W00159', 'W00161', 'W00162', 'W00163', 'W00164', 'W00165', 'W00166', 'W00167', 'W00168', 'W00169', 'W00170', 'W00171', 'W00172', 'W00173', 'W00174', 'W00175', 'W00176', 'W00177', 'W00178', 'W00179', 'W00180', 'W00181', 'W00182', 'W00183', 'W00184', 'W00185', 'W00186', 'W00187', 'W00188', 'W00189', 'W00190', 'W00191', 'W00192', 'W00193', 'W00194', 'W00195', 'W00196', 'W00197', 'W00198', 'W00199', 'W00200', 'W00201', 'W00202', 'W00203', 'W00204', 'W00205', 'W00206', 'W00207', 'W00208', 'W00209', 'W00210', 'W00211', 'W00212', 'W00213', 'W00214', 'W00215', 'W00216', 'W00217', 'W00218', 'W00219', 'W00220', 'W00221', 'W00222', 'W00224', 'W00225', 'W00226', 'W00227', 'W00228', 'W00229', 'W00230', 'W00231', 'W00232', 'W00233', 'W00234', 'W00235', 'W00236', 'W00237', 'W00238', 'W00239', 'W00240', 'W00241', 'W00242', 'W00243', 'W00244', 'W00245', 'W00246', 'W00247', 'W00248', 'W00249', 'W00251', 'W00252', 'W00253', 'W00254', 'W00255', 'W00256', 'W00257', 'W00258', 'W00259', 'W00260', 'W00261', 'W00263', 'W00264', 'W00265', 'W00266', 'W00267', 'W00268', 'W00269', 'W00270', 'W00272', 'W00273', 'W00274', 'W00275', 'W00276', 'W00277', 'W00278', 'W00279', 'W00280', 'W00281', 'W00282', 'W00283', 'W00284', 'W00285', 'W00286', 'W00287', 'W00288', 'W00289', 'W00290', 'W00291', 'W00292', 'W00293', 'W00294', 'W00295', 'W00300', 'W00301', 'W00302', 'W00303', 'W00304', 'W00305', 'W00306', 'W00307', 'W00308', 'W00309', 'W00310', 'W00311', 'W00312', 'W00314', 'W00315', 'W00316', 'W00317', 'W00318', 'W00319', 'W00320', 'W00321', 'W00322', 'W00324', 'W00325', 'W00326', 'W00327', 'W00328', 'W00329', 'W00330', 'W00331', 'W00332', 'W00333', 'W00334', 'W00335', 'W00336', 'W00337', 'W00338', 'W00339', 'W00340', 'W00341', 'W00342', 'W00343', 'W00344', 'W00345', 'W00346', 'W00347', 'W00348', 'W00349', 'W00350', 'W00351', 'W00352', 'W00353', 'W00354', 'W00355', 'W00356', 'W00357', 'W00358', 'W00359', 'W00360', 'W00361', 'W00362', 'W00363', 'W00364', 'W00365', 'W00366', 'W00367', 'W00368', 'W00369', 'W00370', 'W00371', 'W00372', 'W00373', 'W00374', 'W00375', 'W00376', 'W00377', 'W00378', 'W00379', 'W00380', 'W00381', 'W00382', 'W00383', 'W00384', 'W00385', 'W00386', 'W00387', 'W00388', 'W00389', 'W00390', 'W00391', 'W00392', 'W00393', 'W00394', 'W00395', 'W00397', 'W00398', 'W00399', 'W00400', 'W00401', 'W00402', 'W00403', 'W00404', 'W00405', 'W00406', 'W00407', 'W00408', 'W00409', 'W00410', 'W00411', 'W00412', 'W00413', 'W00414', 'W00415', 'W00416', 'W00417', 'W00418', 'W00419', 'W00420', 'W00421', 'W00422', 'W00425', 'W00426', 'W00427', 'W00428', 'W00429', 'W00430', 'W00431', 'W00432', 'W00433', 'W00434', 'W00435', 'W00436', 'W00437', 'W00438', 'W00439', 'W00440', 'W00441', 'W00442', 'W00443', 'W00444', 'W00445', 'W00446', 'W00447', 'W00448', 'W00449', 'W00450', 'W00451', 'W00452', 'W00453', 'W00454', 'W00455', 'W00456', 'W00457', 'W00458', 'W00459', 'W00460', 'W00461', 'W00462', 'W00463', 'W00464', 'W00465', 'W00466', 'W00467', 'W00468', 'W00469', 'W00470', 'W00471', 'W00472', 'W00473', 'W00474', 'W00475', 'W00476', 'W00477', 'W00478', 'W00479', 'W00480', 'W00481', 'W00482', 'W00483', 'W00484', 'W00485', 'W00486', 'W00487', 'W00488', 'W00489', 'W00490', 'W00491', 'W00492', 'W00493', 'W00494', 'W00495', 'W00496', 'W00497', 'W00498', 'W00499', 'W00500', 'W00501', 'W00502', 'W00503', 'W00504', 'W00505', 'W00506', 'W00507', 'W00508', 'W00509', 'W00510', 'W00511', 'W00512', 'W00513', 'W00514', 'W00515', 'W00516', 'W00517', 'W00518', 'W00519', 'W00520', 'W00521', 'W00522', 'W00523', 'W00524', 'W00525', 'W00526', 'W00527', 'W00528', 'W00529', 'W00530', 'W00531', 'W00532', 'W00533', 'W00534', 'W00535', 'W00536', 'W00537', 'W00538', 'W00539', 'W00540', 'W00541', 'W00542', 'W00543', 'W00544', 'W00545', 'W00546', 'W00547', 'W00548', 'W00549', 'W00550', 'W00551', 'W00552', 'W00553', 'W00554', 'W00555', 'W00556', 'W00557', 'W00558', 'W00559', 'W00560', 'W00561', 'W00562', 'W00563', 'W00564', 'W00565', 'W00566', 'W00567', 'W00568', 'W00569', 'W00570', 'W00571', 'W00572', 'W00573', 'W00574', 'W00575', 'W00576', 'W00577', 'W00579', 'W00580', 'W00581', 'W00582', 'W00583', 'W00584', 'W00585', 'W00586', 'W00587', 'W00588', 'W00589', 'W00590', 'W00591', 'W00592', 'W00593', 'W00594', 'W00595', 'W00596', 'W00597', 'W00598', 'W00599', 'W00600', 'W00601', 'W00602', 'W00603', 'W00604', 'W00605', 'W00606', 'W00607', 'W00608', 'W00609', 'W00610', 'W00611', 'W00612', 'W00613', 'W00614', 'W00615', 'W00616', 'W00617', 'W00618', 'W00619', 'W00620', 'W00621', 'W00622', 'W00623', 'W00624', 'W00625', 'W00626', 'W00627', 'W00628', 'W00629', 'W00630', 'W00631', 'W00632', 'W00633', 'W00634', 'W00635', 'W00636', 'W00637', 'W00638', 'W00639', 'W00640', 'W00641', 'W00642', 'W00643', 'W00644', 'W00645', 'W00646', 'W00647', 'W00648', 'W00649', 'W00650', 'W00651', 'W00652', 'W00653', 'W00654', 'W00655', 'W00656', 'W00657', 'W00658', 'W00659', 'W00660', 'W00661', 'W00662', 'W00663', 'W00664', 'W00665', 'W00666', 'W00667', 'W00668', 'W00669', 'W00670', 'W00671', 'W00672', 'W00673', 'W00674', 'W00675', 'W00676', 'W00677', 'W00678', 'W00679', 'W00680', 'W00681', 'W00682', 'W00683', 'W00684', 'W00685', 'W00686', 'W00687', 'W00688', 'W00689', 'W00690', 'W00691', 'W00692', 'W00693', 'W00694', 'W00695', 'W00696', 'W00697', 'W00698', 'W00699', 'W00700', 'W00701', 'W00702', 'W00703', 'W00704', 'W00705', 'W00706', 'W00707', 'W00708', 'W00709', 'W00710', 'W00711', 'W00712', 'W00713', 'W00714', 'W00715', 'W00716', 'W00717', 'W00718', 'W00719', 'W00720', 'W00721', 'W00722', 'W00723', 'W00724', 'W00725', 'W00726', 'W00727', 'W00728', 'W00729', 'W00730', 'W00731', 'W00732', 'W00733', 'W00734', 'W00735', 'W00736', 'W00737', 'W00738', 'W00739', 'W00740', 'W00741', 'W00742', 'W00743', 'W00744', 'W00745', 'W00746', 'W00747', 'W00748', 'W00749', 'W00750', 'W00751', 'W00752', 'W00753', 'W00754', 'W00755', 'W00756', 'W00757', 'W00758', 'W00759', 'W00760', 'W00761', 'W00762', 'W00763', 'W00764', 'W00765', 'W00766', 'W00767', 'W00768', 'W00769', 'W00770', 'W00771', 'W00772', 'W00773', 'W00774', 'W00775', 'W00776', 'W00777', 'W00778', 'W00779', 'W00780', 'W00781', 'W00782', 'W00783', 'W00784', 'W00785', 'W00786', 'W00787', 'W00788', 'W00789', 'W00790', 'W00791', 'W00792', 'W00793', 'W00794', 'W00795', 'W00796', 'W00797', 'W00798', 'W00799', 'W00800', 'W00801', 'W00802', 'W00803', 'W00804', 'W00805', 'W00806', 'W00807', 'W00808', 'W00809', 'W00810', 'W00811', 'W00812', 'W00813', 'W00814', 'W00815', 'W00816', 'W00817', 'W00818', 'W00819', 'W00820', 'W00821', 'W00822', 'W00823', 'W00824', 'W00825', 'W00826', 'W00827', 'W00828', 'W00829', 'W00830', 'W00831', 'W00832', 'W00833', 'W00834', 'W00835', 'W00836', 'W00837', 'W00838', 'W00839', 'W00840', 'W00841', 'W00842', 'W00843', 'W00844', 'W00845', 'W00846', 'W00847', 'W00848', 'W00849', 'W00850', 'W00851', 'W00852', 'W00853', 'W00854', 'W00855', 'W00856', 'W00857', 'W00858', 'W00859', 'W00860', 'W00861', 'W00862', 'W00863', 'W00864', 'W00865', 'W00866', 'W00867', 'W00868', 'W00869', 'W00870', 'W00871', 'W00872', 'W00873', 'W00874', 'W00875', 'W00876', 'W00877', 'W00878', 'W00879', 'W00880', 'W00881', 'W00882', 'W00883', 'W00884', 'W00885', 'W00886', 'W00887', 'W00888', 'W00889', 'W00890', 'W00891', 'W00892', 'W00893', 'W00894', 'W00895', 'W00896', 'W00897', 'W00898', 'W00899', 'W00900', 'W00901', 'W00902', 'W00903', 'W00904', 'W00905', 'W00906', 'W00907', 'W00908', 'W00909', 'W00910', 'W00911', 'W00912', 'W00913', 'W00914', 'W00915', 'W00916', 'W00917', 'W00918', 'W00919', 'W00920', 'W00921', 'W00922', 'W00923', 'W00924', 'W00925', 'W00926', 'W00927', 'W00928', 'W00929', 'W00930', 'W00931', 'W00932', 'W00933', 'W00934', 'W00935', 'W00936', 'W00937', 'W00938', 'W00939', 'W00940', 'W00941', 'W00942', 'W00943', 'W00944', 'W00945', 'W00946', 'W00947', 'W00948', 'W00949', 'W00950', 'W00951', 'W00952', 'W00953', 'W00954', 'W00955', 'W00956', 'W00957', 'W00958', 'W00959', 'W00960', 'W00961', 'W00962', 'W00963', 'W00964', 'W00965', 'W00966', 'W00967', 'W00968', 'W00969', 'W00970', 'W00971', 'W00972', 'W00973', 'W00974', 'W00975', 'W00976', 'W00977', 'W00978', 'W00979', 'W00980', 'W00981', 'W00982', 'W00983', 'W00984', 'W00985', 'W00986', 'W00987', 'W00988', 'W00989', 'W00990', 'W00991', 'W00992', 'W00993', 'W00994', 'W00995', 'W00996', 'W00997', 'W00998', 'W00999', 'W01000', 'W01001', 'W01002', 'W01003', 'W01004', 'W01005', 'W01006', 'W01007', 'W01008', 'W01009', 'W01010', 'W01011', 'W01012', 'W01013', 'W01014', 'W01015', 'W01016', 'W01017', 'W01018', 'W01019', 'W01020', 'W01021', 'W01022', 'W01023', 'W01024', 'W01025', 'W01026', 'W01027', 'W01028', 'W01029', 'W01030', 'W01031', 'W01032', 'W01033', 'W01034', 'W01035', 'W01036', 'W01037', 'W01038', 'W01039', 'W01040', 'W01041', 'W01042', 'W01043', 'W01044', 'W01045', 'W01046', 'W01047', 'W01048', 'W01049', 'W01050', 'W01051', 'W01052', 'W01053', 'W01054', 'W01055', 'W01056', 'W01057', 'W01058', 'W01059', 'W01060', 'W01061', 'W01062', 'W01063', 'W01064', 'W01065', 'W01066', 'W01067', 'W01068', 'W01069', 'W01070', 'W01071', 'W01072', 'W01073', 'W01074', 'W01075', 'W01076', 'W01077', 'W01078', 'W01079', 'W01080', 'W01081', 'W01082', 'W01083', 'W01084', 'W01085', 'W01087', 'W01088', 'W01089', 'W01090', 'W01091', 'W01092', 'W01093', 'W01094', 'W01095', 'W01096', 'W01097', 'W01098', 'W01099', 'W01101', 'W01102', 'W01103', 'W01104', 'W01105', 'W01106', 'W01107', 'W01108', 'W01109', 'W01110', 'W01111', 'W01112', 'W01113', 'W01114', 'W01115', 'W01116', 'W01117', 'W01119', 'W01120', 'W01121', 'W01122', 'W01123', 'W01124', 'W01125', 'W01126', 'W01127', 'W01128', 'W01129', 'W01130', 'W01131', 'W01132', 'W01133', 'W01134', 'W01135', 'W01136', 'W01137', 'W01138', 'W01139', 'W01140', 'W01141', 'W01142', 'W01143', 'W01144', 'W01145', 'W01146', 'W01147', 'W01148', 'W01149', 'W01150', 'W01151', 'W01152', 'W01153', 'W01154', 'W01155', 'W01156', 'W01158', 'W01159', 'W01160', 'W01161', 'W01162', 'W01163', 'W01164', 'W01165', 'W01166', 'W01167', 'W01168', 'W01169', 'W01170', 'W01171', 'W01172', 'W01173', 'W01174', 'W01175', 'W01176', 'W01177', 'W01178', 'W01179', 'W01180', 'W01181', 'W01182', 'W01183', 'W01184', 'W01185', 'W01186', 'W01187', 'W01188', 'W01189', 'W01190', 'W01191', 'W01192', 'W01193', 'W01194', 'W01195', 'W01196', 'W01197', 'W01198', 'W01199', 'W01200', 'W01201', 'W01202', 'W01203', 'W01204', 'W01205', 'W01206', 'W01207', 'W01208', 'W01209', 'W01210', 'W01211', 'W01212', 'W01213', 'W01214', 'W01215', 'W01216', 'W01217', 'W01218', 'W01219', 'W01220', 'W01221', 'W01222', 'W01223', 'W01224', 'W01225', 'W01226', 'W01227', 'W01228', 'W01229', 'W01230', 'W01231', 'W01232', 'W01233', 'W01234', 'W01235', 'W01236', 'W01237', 'W01238', 'W01239', 'W01240', 'W01241', 'W01242', 'W01243', 'W01244', 'W01245', 'W01246', 'W01247', 'W01248', 'W01249', 'W01250', 'W01251', 'W01252', 'W01253', 'W01254', 'W01255', 'W01256', 'W01257', 'W01258', 'W01259', 'W01260', 'W01261', 'W01262', 'W01263', 'W01264', 'W01265', 'W01266', 'W01267', 'W01268', 'W01269', 'W01270', 'W01271', 'W01272', 'W01273', 'W01274', 'W01275', 'W01276', 'W01277', 'W01278', 'W01279', 'W01280', 'W01281', 'W01282', 'W01283', 'W01284', 'W01285', 'W01286', 'W01287', 'W01288', 'W01289', 'W01290', 'W01291', 'W01292', 'W01293', 'W01294', 'W01295', 'W01296', 'W01297', 'W01298', 'W01299', 'W01300', 'W01301', 'W01302', 'W01303', 'W01304', 'W01305', 'W01306', 'W01307', 'W01308', 'W01309', 'W01310', 'W01311', 'W01312', 'W01313', 'W01314', 'W01315', 'W01316', 'W01317', 'W01318', 'W01319', 'W01320', 'W01321', 'W01322', 'W01323', 'W01324', 'W01325', 'W01326', 'W01327', 'W01328', 'W01329', 'W01330', 'W01331', 'W01332', 'W01333', 'W01334', 'W01335', 'W01336', 'W01337', 'W01338', 'W01339', 'W01340', 'W01341', 'W01342', 'W01343', 'W01344', 'W01345', 'W01346', 'W01347', 'W01348', 'W01349', 'W01350', 'W01351', 'W01352', 'W01353', 'W01354', 'W01355', 'W01356', 'W01357', 'W01358', 'W01359', 'W01360', 'W01361', 'W01362', 'W01363', 'W01364', 'W01365', 'W01366', 'W01367', 'W01368', 'W01369', 'W01370', 'W01371', 'W01372', 'W01373', 'W01374', 'W01375', 'W01376', 'W01377', 'W01378', 'W01379', 'W01380', 'W01381', 'W01382', 'W01383', 'W01384', 'W01385', 'W01386', 'W01387', 'W01388', 'W01389', 'W01390', 'W01391', 'W01392', 'W01393', 'W01394', 'W01395', 'W01396', 'W01397', 'W01398', 'W01399', 'W01400', 'W01401', 'W01402', 'W01403', 'W01404', 'W01405', 'W01406', 'W01407', 'W01408', 'W01409', 'W01410', 'W01411', 'W01412', 'W01413', 'W01414', 'W01415', 'W01416', 'W01417', 'W01418', 'W01419', 'W01420', 'W01421', 'W01422', 'W01423', 'W01424', 'W01425', 'W01426', 'W01427', 'W01428', 'W01429', 'W01430', 'W01431', 'W01432', 'W01433', 'W01434', 'W01435', 'W01436', 'W01437', 'W01438', 'W01439', 'W01440', 'W01442', 'W01443', 'W01444', 'W01445', 'W01446', 'W01447', 'W01448', 'W01449', 'W01450', 'W01451', 'W01452', 'W01453', 'W01454', 'W01455', 'W01456', 'W01457', 'W01458', 'W01459', 'W01460', 'W01461', 'W01462', 'W01463', 'W01464', 'W01465', 'W01466', 'W01467', 'W01468', 'W01469', 'W01470', 'W01474', 'W01477', 'W01479', 'W01480', 'W01481', 'W01482', 'W01483', 'W01484', 'W01486', 'W01487', 'W01493', 'W01494', 'W01495', 'W01496', 'W01497', 'W01498', 'W01499', 'W01500', 'W20000', 'W20001', 'W20002', 'W20003', 'W20004', 'W20005', 'W20006', 'W20007', 'W20008', 'W20009', 'W20011', 'W20012', 'W20013', 'W20014', 'W20015', 'W20016', 'W20017', 'W20018', 'W20019', 'W20020', 'W20021', 'W20022', 'W20023', 'W20024', 'W20026', 'W20027', 'W20028', 'W20029', 'W20030', 'W20031', 'W20032', 'W20033', 'W20034', 'W20035', 'W20036', 'W20037', 'W20038', 'W20039', 'W20040', 'W20041', 'W20042', 'W20043', 'W20044', 'W20045', 'W20046', 'W20047', 'W20048', 'W20049', 'W20050', 'W20051', 'W20052', 'W20053', 'W20054', 'W20055', 'W20056', 'W20057', 'W20058', 'W20059', 'W20060', 'W20061', 'W20062', 'W20063', 'W20064', 'W20065', 'W20066', 'W20067', 'W20068', 'W20069', 'W20070', 'W20071', 'W20072', 'W20073', 'W20074', 'W20075', 'W20076', 'W20077', 'W20078', 'W20079', 'W20080', 'W20081', 'W20082', 'W20083', 'W20084', 'W20085', 'W20086', 'W20087', 'W20088', 'W20089', 'W20090', 'W20091', 'W20092', 'W20093', 'W20094', 'W20095', 'W20096', 'W20097', 'W20098', 'W20099', 'W20100', 'W20102', 'W20103', 'W20104', 'W20105', 'W20106', 'W20107', 'W20108', 'W20109', 'W20111', 'W20112', 'W20113', 'W20114', 'W20115', 'W20116', 'W20117', 'W20118', 'W20119', 'W20120', 'W20121', 'W20122', 'W20123', 'W20124', 'W20125', 'W20126', 'W20127', 'W20128', 'W20129', 'W20130', 'W20131', 'W20132', 'W20134', 'W20136', 'W20138', 'W20139', 'W20140', 'W20141', 'W20142', 'W20143', 'W20144', 'W20145', 'W20146', 'W20147', 'W20148', 'W20149', 'W20150', 'W20151', 'W20152', 'W20153', 'W20154', 'W20155', 'W20156', 'W20157', 'W20158', 'W20159', 'W20160', 'W20161', 'W20162', 'W20163', 'W20164', 'W20165', 'W20166', 'W20167', 'W20168', 'W20169', 'W20170', 'W20171', 'W20172', 'W20173', 'W20174', 'W20175', 'W20176', 'W20177', 'W20178', 'W20179', 'W20180', 'W20181', 'W20182', 'W20183', 'W20184', 'W20185', 'W20186', 'W20187', 'W20188', 'W20189', 'W20191', 'W20192', 'W20193', 'W20194', 'W20195', 'W20197', 'W20198', 'W20199', 'W20200', 'W20201', 'W20202', 'W20203', 'W20204', 'W20205', 'W20206', 'W20207', 'W20208', 'W20209', 'W20210', 'W20211', 'W20212', 'W20213', 'W20214', 'W20215', 'W20216', 'W20217', 'W20218', 'W20219', 'W20220', 'W20221', 'W20222', 'W20223', 'W20224', 'W20225', 'W20226', 'W20227', 'W20228', 'W20229', 'W20230', 'W20231', 'W20232', 'W20233', 'W20234', 'W20235', 'W20236', 'W20237', 'W20238', 'W20239', 'W20240', 'W20241', 'W20242', 'W20243', 'W20244', 'W20245', 'W20246', 'W20247', 'W20248', 'W20249', 'W20250', 'W20251', 'W20252', 'W20253', 'W20254', 'W20255', 'W20256', 'W20257', 'W20258', 'W20259', 'W20260', 'W20261', 'W20262', 'W20263', 'W20264', 'W20265', 'W20266', 'W20267', 'W20268', 'W20269', 'W20270', 'W20271', 'W20272', 'W20273', 'W20274', 'W20275', 'W20276', 'W20277', 'W20278', 'W20279', 'W20280', 'W20281', 'W20282', 'W20283', 'W20284', 'W20285', 'W20286', 'W20287', 'W20288', 'W20289', 'W20290', 'W20291', 'W20292', 'W20293', 'W20294', 'W20295', 'W20296', 'W20297', 'W20298', 'W20299', 'W20300', 'W20301', 'W20302', 'W20303', 'W20304', 'W20305', 'W20306', 'W20307', 'W20308', 'W20309', 'W20310', 'W20311', 'W20312', 'W20313', 'W20314', 'W20315', 'W20316', 'W20317', 'W20318', 'W20319', 'W20320', 'W20321', 'W20322', 'W20323', 'W20324', 'W20325', 'W20326', 'W20327', 'W20328', 'W20329', 'W20330', 'W20331', 'W20332', 'W20333', 'W20334', 'W20335', 'W20336', 'W20337', 'W20338', 'W20339', 'W20340', 'W20341', 'W20342', 'W20343', 'W20344', 'W20345', 'W20346', 'W20347', 'W20348', 'W20349', 'W20350', 'W20351', 'W20352', 'W20353', 'W20354', 'W20355', 'W20356', 'W20357', 'W20358', 'W20359', 'W20360', 'W20361', 'W20362', 'W20363', 'W20364', 'W20365', 'W20366', 'W20367', 'W20368', 'W20369', 'W20370', 'W20371', 'W20372', 'W20373', 'W20374', 'W20375', 'W20376', 'W20377', 'W20378', 'W20379', 'W20380', 'W20381', 'W20382', 'W20383', 'W20384', 'W20385', 'W20386', 'W20387', 'W20388', 'W20389', 'W20390', 'W20391', 'W20392', 'W20393', 'W20394', 'W20395', 'W20396', 'W20397', 'W20398', 'W20399', 'W20400', 'W20401', 'W20402', 'W20403', 'W20404', 'W20405', 'W20406', 'W20407', 'W20408', 'W20409', 'W20410', 'W20411', 'W20412', 'W20413', 'W20414', 'W20415', 'W20416', 'W20417', 'W20418', 'W20419', 'W20420', 'W20421', 'W20422', 'W20423', 'W20424', 'W20425', 'W20426', 'W20427', 'W20428', 'W20429', 'W20430', 'W20431', 'W20432', 'W20433', 'W20434', 'W20435', 'W20436', 'W20437', 'W20438', 'W20439', 'W20440', 'W20441', 'W20442', 'W20443', 'W20444', 'W20445', 'W20446', 'W20447', 'W20448', 'W20449', 'W20450', 'W20451', 'W20452', 'W20453', 'W20454', 'W20455', 'W20456', 'W20457', 'W20458', 'W20459', 'W20460', 'W20461', 'W20462', 'W20463', 'W20464', 'W20465', 'W20466', 'W20467', 'W20468', 'W20469', 'W20470', 'W20471', 'W20472', 'W20473', 'W20474', 'W20475', 'W20476', 'W20477', 'W20478', 'W20479', 'W20480', 'W20481', 'W20482', 'W20483', 'W20484', 'W20485', 'W20486', 'W20487', 'W20488', 'W20489', 'W20490', 'W20491', 'W20492', 'W20493', 'W20494', 'W20495', 'W20496', 'W20497', 'W20498', 'W20499', 'W20500', 'W20501', 'W20502', 'W20503', 'W20504', 'W20505', 'W20506', 'W20507', 'W20508', 'W20509', 'W20510', 'W20511', 'W20512', 'W20513', 'W20514', 'W20515', 'W20516', 'W20517', 'W20518', 'W20519', 'W20520', 'W20521', 'W20522', 'W20523', 'W20524', 'W20525', 'W20526', 'W20527', 'W20528', 'W20529', 'W20530', 'W20531', 'W20532', 'W20533', 'W20534', 'W20535', 'W20536', 'W20537', 'W20538', 'W20539', 'W20540', 'W20541', 'W20542', 'W20543', 'W20544', 'W20545', 'W20546', 'W20547', 'W20548', 'W20549', 'W20550', 'W20551', 'W20552', 'W20553', 'W20554', 'W20555', 'W20556', 'W20557', 'W20558', 'W20559', 'W20560', 'W20561', 'W20562', 'W20563', 'W20564', 'W20565', 'W20566', 'W20567', 'W20568', 'W20569', 'W20570', 'W20571', 'W20572', 'W20573', 'W20574', 'W20575', 'W20576', 'W20577', 'W20578', 'W20579', 'W20580', 'W20581', 'W20582', 'W20583', 'W20584', 'W20585', 'W20586', 'W20587', 'W20588', 'W20589', 'W20590', 'W20591', 'W20592', 'W20593', 'W20594', 'W20595', 'W20596', 'W20597', 'W20598', 'W20599', 'W20600', 'W20601', 'W20602', 'W20603', 'W20604', 'W20605', 'W20606', 'W20607', 'W20608', 'W20609', 'W20610', 'W20612', 'W20613', 'W20614', 'W20615', 'W20616', 'W20617', 'W20618', 'W20619', 'W20620', 'W20621', 'W20622', 'W20623', 'W20624', 'W20625', 'W20626', 'W20627', 'W20628', 'W20629', 'W20630', 'W20631', 'W20632', 'W20633', 'W20634', 'W20635', 'W20636', 'W20637', 'W20638', 'W20639', 'W20640', 'W20641', 'W20642', 'W20643', 'W20644', 'W20645', 'W20646', 'W20647', 'W20648', 'W20649', 'W20650', 'W20651', 'W20652', 'W20653', 'W20654', 'W20655', 'W20656', 'W20657', 'W20658', 'W20659', 'W20660', 'W20661', 'W20662', 'W20663', 'W20664', 'W20665', 'W20666', 'W20667', 'W20668', 'W20669', 'W20670', 'W20671', 'W20672', 'W20673', 'W20674', 'W20675', 'W20676', 'W20677', 'W20678', 'W20679', 'W20680', 'W20681', 'W20682', 'W20683', 'W20684', 'W20685', 'W20686', 'W20687', 'W20688', 'W20689', 'W20690', 'W20691', 'W20692', 'W20693', 'W20694', 'W20695', 'W20696', 'W20697', 'W20698', 'W20699', 'W20700', 'W20701', 'W20702', 'W20703', 'W20704', 'W20705', 'W20706', 'W20707', 'W20708', 'W20709', 'W20710', 'W20711', 'W20712', 'W20713', 'W20714', 'W20715', 'W20716', 'W20717', 'W20718', 'W20719', 'W20720', 'W20721', 'W20722', 'W20723', 'W20724', 'W20725', 'W20726', 'W20727', 'W20728', 'W20729', 'W20730', 'W20731', 'W20732', 'W20733', 'W20734', 'W20735', 'W20736', 'W20737', 'W20738', 'W20739', 'W20740', 'W20741', 'W20742', 'W20743', 'W20744', 'W20745', 'W20746', 'W20747', 'W20748', 'W20749', 'W20750', 'W20751', 'W20752', 'W20753', 'W20754', 'W20755', 'W20756', 'W20757', 'W20758', 'W20759', 'W20760', 'W20761', 'W20762', 'W20763', 'W20764', 'W20765', 'W20766', 'W20767', 'W20768', 'W20769', 'W20770', 'W20771', 'W20772', 'W20773', 'W20774', 'W20775', 'W20776', 'W20777', 'W20778', 'W20779', 'W20780', 'W20781', 'W20782', 'W20783', 'W20784', 'W20785', 'W20786', 'W20787', 'W20788', 'W20789', 'W20790', 'W20791', 'W20792', 'W20793', 'W20794', 'W20795', 'W20796', 'W20797', 'W20798', 'W20799', 'W20800', 'W20801', 'W20802', 'W20803', 'W20804', 'W20805', 'W20806', 'W20807', 'W20808', 'W20809', 'W20810', 'W20811', 'W20812', 'W20813', 'W20814', 'W20815', 'W20816', 'W20817', 'W20818', 'W20819', 'W20820', 'W20821', 'W20822', 'W20823', 'W20824', 'W20825', 'W20826', 'W20827', 'W20828', 'W20829', 'W20830', 'W20831', 'W20832', 'W20833', 'W20834', 'W20835', 'W20836', 'W20837', 'W20838', 'W20839', 'W20840', 'W20841', 'W20842', 'W20843', 'W20844', 'W20845', 'W20846', 'W20847', 'W20848', 'W20849', 'W20850', 'W20851', 'W20852', 'W20853', 'W20854', 'W20855', 'W20856', 'W20857', 'W20858', 'W20859', 'W20860', 'W20861', 'W20862', 'W20863', 'W20864', 'W20865', 'W20866', 'W20867', 'W20868', 'W20869', 'W20870', 'W20871', 'W20872', 'W20873', 'W20874', 'W20875', 'W20876', 'W20877', 'W20878', 'W20879', 'W20880', 'W20881', 'W20882', 'W20883', 'W20884', 'W20885', 'W20886', 'W20887', 'W20888', 'W20889', 'W20890', 'W20891', 'W20892', 'W20893', 'W20894', 'W20895', 'W20896', 'W20897', 'W20898', 'W20899', 'W20900', 'W20901', 'W20902', 'W20903', 'W20904', 'W20905', 'W20906', 'W20907', 'W20908', 'W20910', 'W20911', 'W20912', 'W20913', 'W20914', 'W20915', 'W20916', 'W20917', 'W20918', 'W20919', 'W20920', 'W20921', 'W20922', 'W20923', 'W20924', 'W20925', 'W20926', 'W20927', 'W20928', 'W20929', 'W20930', 'W20931', 'W20932', 'W20933', 'W20934', 'W20935', 'W20936', 'W20938', 'W20939', 'W20940', 'W20941', 'W20942', 'W20943', 'W20944', 'W20945', 'W20946', 'W20947', 'W20948', 'W20949', 'W20950', 'W20951', 'W20952', 'W20953', 'W20954', 'W20955', 'W20956', 'W20957', 'W20958', 'W20959', 'W20960', 'W20961', 'W20962', 'W20963', 'W20964', 'W20965', 'W20966', 'W20967', 'W20968', 'W20969', 'W20970', 'W20971', 'W20972', 'W20973', 'W20974', 'W20975', 'W20976', 'W20977', 'W20978', 'W20979', 'W20980', 'W20981', 'W20982', 'W20983', 'W20984', 'W20985', 'W20986', 'W20987', 'W20988', 'W20989', 'W20990', 'W20992', 'W20993', 'W20994', 'W20995', 'W20996', 'W20997', 'W20998', 'W20999', 'W21000', 'W21001', 'W21002', 'W21003', 'W21004', 'W21005', 'W21006', 'W21007', 'W21008', 'W21009', 'W21010', 'W21011', 'W21012', 'W21013', 'W21014', 'W21015', 'W21016', 'W21017', 'W21018', 'W21019', 'W21020', 'W21021', 'W21022', 'W21023', 'W21024', 'W21025', 'W21026', 'W21027', 'W21028', 'W21029', 'W21030', 'W21031', 'W21032', 'W21033', 'W21034', 'W21035', 'W21036', 'W21037', 'W21038', 'W21039', 'W21040', 'W21041', 'W21042', 'W21043', 'W21044', 'W21045', 'W21046', 'W21047', 'W21048', 'W21049', 'W21050', 'W21051', 'W21052', 'W21053', 'W21054', 'W21055', 'W21056', 'W21057', 'W21058', 'W21059', 'W21060', 'W21061', 'W21063', 'W21064', 'W21065', 'W21066', 'W21067', 'W21068', 'W21069', 'W21070', 'W21071', 'W21072', 'W21073', 'W21074', 'W21075', 'W21076', 'W21077', 'W21078', 'W21079', 'W21080', 'W21081', 'W21082', 'W21083', 'W21085', 'W21086', 'W21087', 'W21088', 'W21089', 'W21090', 'W21091', 'W21092', 'W21093', 'W21094', 'W21095', 'W21096', 'W21097', 'W21098', 'W21099', 'W21100', 'W21101', 'W21102', 'W21103', 'W21104', 'W21105', 'W21106', 'W21107', 'W21108', 'W21109', 'W21110', 'W21111', 'W21112', 'W21113', 'W21114', 'W21115', 'W21116', 'W21117', 'W21118', 'W21119', 'W21120', 'W21121', 'W21122', 'W21123', 'W21124', 'W21125', 'W21126', 'W21127', 'W21128', 'W21129', 'W21130', 'W21131', 'W21132', 'W21133', 'W21134', 'W21137', 'W21138', 'W21139', 'W21140', 'W21141', 'W21142', 'W21143', 'W21144', 'W21145', 'W21146', 'W21147', 'W21148', 'W21149', 'W21150', 'W21151', 'W21152', 'W21153', 'W21154', 'W21155', 'W21156', 'W21157', 'W21158', 'W21159', 'W21160', 'W21161', 'W21162', 'W21163', 'W21164', 'W21165', 'W21167', 'W21168', 'W21169', 'W21170', 'W21171', 'W21172', 'W21173', 'W21174', 'W21175', 'W21176', 'W21177', 'W21178', 'W21179', 'W21180', 'W21181', 'W21182', 'W21183', 'W21184', 'W21185', 'W21186', 'W21187', 'W21188', 'W21189', 'W21190', 'W21191', 'W21192', 'W21193', 'W21194', 'W21195', 'W21196', 'W21197', 'W21198', 'W21199', 'W21200', 'W21201', 'W21202', 'W21203', 'W21204', 'W21205', 'W21206', 'W21207', 'W21208', 'W21209', 'W21210', 'W21211', 'W21212', 'W21213', 'W21214', 'W21215', 'W21216', 'W21217', 'W21218', 'W21219', 'W21220', 'W21221', 'W21222', 'W21223', 'W21224', 'W21225', 'W21226', 'W21227', 'W21228', 'W21229', 'W21230', 'W21231', 'W21232', 'W21233', 'W21234', 'W21235', 'W21236', 'W21237', 'W21238', 'W21239', 'W21240', 'W21241', 'W21242', 'W21243', 'W21244', 'W21245', 'W21246', 'W21247', 'W21248', 'W21249', 'W21250', 'W21251', 'W21252', 'W21253', 'W21254', 'W21255', 'W21256', 'W21257', 'W21258', 'W21259', 'W21260', 'W21261', 'W21262', 'W21263', 'W21264', 'W21265', 'W21266', 'W21267', 'W21268', 'W21269', 'W21270', 'W21271', 'W21272', 'W21273', 'W21274', 'W21275', 'W21276', 'W21277', 'W21278', 'W21279', 'W21280', 'W21281', 'W21282', 'W21283', 'W21284', 'W21285', 'W21286', 'W21287', 'W21288', 'W21289', 'W21290', 'W21291', 'W21292', 'W21293', 'W21294', 'W21295', 'W21296', 'W21297', 'W21298', 'W21299', 'W21300', 'W21301', 'W21302', 'W21303', 'W21304', 'W21305', 'W21306', 'W21307', 'W21308', 'W21309', 'W21310', 'W21311', 'W21312', 'W21313', 'W21314', 'W21315', 'W21316', 'W21317', 'W21318', 'W21319', 'W21320', 'W21321', 'W21322', 'W21323', 'W21324', 'W21325', 'W21326', 'W21327', 'W21328', 'W21329', 'W21330', 'W21331', 'W21332', 'W21333', 'W21334', 'W21335', 'W21336', 'W21337', 'W21338', 'W21339', 'W21340', 'W21341', 'W21342', 'W21343', 'W21344', 'W21345', 'W21346', 'W21347', 'W21348', 'W21349', 'W21350', 'W21351', 'W21352', 'W21353', 'W21354', 'W21355', 'W21356', 'W21357', 'W21358', 'W21359', 'W21360', 'W21361', 'W21362', 'W21363', 'W21364', 'W21365', 'W21366', 'W21367', 'W21368', 'W21369', 'W21370', 'W21371', 'W21372', 'W21373', 'W21374', 'W21375', 'W21376', 'W21377', 'W21378', 'W21379', 'W21380', 'W21381', 'W21382', 'W21383', 'W21384', 'W21385', 'W21386', 'W21387', 'W21388', 'W21389', 'W21390', 'W21391', 'W21392', 'W21393', 'W21394', 'W21395', 'W21396', 'W21397', 'W21398', 'W21399', 'W21400', 'W21401', 'W21402', 'W21403', 'W21404', 'W21405', 'W21406', 'W21407', 'W21408', 'W21409', 'W21410', 'W21411', 'W21412', 'W21413', 'W21414', 'W21415', 'W21416', 'W21417', 'W21418', 'W21419', 'W21420', 'W21421', 'W21422', 'W21423', 'W21424', 'W21425', 'W21426', 'W21427', 'W21428', 'W21429', 'W21430', 'W21431', 'W21432', 'W21433', 'W21434', 'W21435', 'W21436', 'W21437', 'W21438', 'W21439', 'W21440', 'W21441', 'W21442', 'W21443', 'W21444', 'W21445', 'W21446', 'W21447', 'W21448', 'W21449', 'W21450', 'W21451', 'W21452', 'W21453', 'W21454', 'W21455', 'W21456', 'W21457', 'W21458', 'W21459', 'W21460', 'W21461', 'W21462', 'W21463', 'W21464', 'W21465', 'W21466', 'W21467', 'W21468', 'W21469', 'W21470', 'W21471', 'W21472', 'W21473', 'W21474', 'W21475', 'W21476', 'W21477', 'W21478', 'W21479', 'W21480', 'W21481', 'W21482', 'W21483', 'W21484', 'W21485', 'W21486', 'W21487', 'W21488', 'W21489', 'W21490', 'W21491', 'W21492', 'W21493', 'W21494', 'W21495', 'W21496', 'W21497', 'W21498', 'W21499', 'W21500', 'W21501', 'W21502', 'W21503', 'W21504', 'W21505', 'W21506', 'W21507', 'W21508', 'W21509', 'W21510', 'W21511', 'W21512', 'W21513', 'W21514', 'W21515', 'W21516', 'W21517', 'W21518', 'W21519', 'W21520', 'W21521', 'W21522', 'W21523', 'W21524', 'W21525', 'W21526', 'W21527', 'W21528', 'W21529', 'W21530', 'W21531', 'W21532', 'W21533', 'W21534', 'W21535', 'W21536', 'W21537', 'W21538', 'W21539', 'W21540', 'W21541', 'W21542', 'W21543', 'W21544', 'W21545', 'W21546', 'W21547', 'W21548', 'W21549', 'W21550', 'W21551', 'W21552', 'W21553', 'W21554', 'W21555', 'W21556', 'W21557', 'W21558', 'W21559', 'W21560', 'W21561', 'W21562', 'W21563', 'W21564', 'W21565', 'W21566', 'W21567', 'W21568', 'W21569', 'W21570', 'W21571', 'W21572', 'W21573', 'W21574', 'W21575', 'W21576', 'W21577', 'W21578', 'W21579', 'W21580', 'W21581', 'W21582', 'W21583', 'W21584', 'W21585', 'W21586', 'W21587', 'W21588', 'W21589', 'W21590', 'W21591', 'W21592', 'W21593', 'W21594', 'W21595', 'W21596', 'W21597', 'W21598', 'W21599', 'W21600', 'W21601', 'W21602', 'W21603', 'W21604', 'W21605', 'W21606', 'W21607', 'W21608', 'W21609', 'W21610', 'W21611', 'W21612', 'W21613', 'W21614', 'W21615', 'W21616', 'W21617', 'W21618', 'W21619', 'W21620', 'W21621', 'W21622', 'W21623', 'W21624', 'W21625', 'W21626', 'W21627', 'W21628', 'W21629', 'W21630', 'W21631', 'W21632', 'W21633', 'W21634', 'W21636', 'W21637', 'W21638', 'W21639', 'W21640', 'W21641', 'W21642', 'W21643', 'W21644', 'W21645', 'W21646', 'W21647', 'W21648', 'W21649', 'W21650', 'W21651', 'W21652', 'W21653', 'W21654', 'W21655', 'W21656', 'W21657', 'W21659', 'W21660', 'W21661', 'W21662', 'W21663', 'W21664', 'W21665', 'W21666', 'W21667', 'W21668', 'W21669', 'W21670', 'W21671', 'W21672', 'W21673', 'W21674', 'W21675', 'W21676', 'W21677', 'W21678', 'W21679', 'W21680', 'W21681', 'W21682', 'W21683', 'W21684', 'W21685', 'W21686', 'W21687', 'W21688', 'W21689', 'W21690', 'W21691', 'W21692', 'W21693', 'W21694', 'W21695', 'W21696', 'W21698', 'W21699', 'W21700', 'W21701', 'W21702', 'W21703', 'W21704', 'W21705', 'W21706', 'W21707', 'W21708', 'W21709', 'W21710', 'W21711', 'W21712', 'W21713', 'W21714', 'W21715', 'W21716', 'W21717', 'W21718', 'W21719', 'W21720', 'W21721', 'W21722', 'W21724', 'W21726', 'W21727', 'W21728', 'W21729', 'W21730', 'W21731', 'W21732', 'W21733', 'W21734', 'W21735', 'W21736', 'W21737', 'W21738', 'W21739', 'W21740', 'W21741', 'W21742', 'W21743', 'W21744', 'W21745', 'W21746', 'W21747', 'W21748', 'W21749', 'W21750', 'W21751', 'W21753', 'W21754', 'W21755', 'W21756', 'W21757', 'W21758', 'W21759', 'W21760', 'W21761', 'W21762', 'W21763', 'W21764', 'W21765', 'W21766', 'W21767', 'W21768', 'W21769', 'W21770', 'W21771', 'W21773', 'W21774', 'W21775', 'W21777', 'W21778', 'W21779', 'W21780', 'W21781', 'W21782', 'W21783', 'W21785', 'W21786', 'W21787', 'W21788', 'W21789', 'W21790', 'W21791', 'W21792', 'W21794', 'W21795', 'W21796', 'W21797', 'W21798', 'W21800', 'W21801', 'W21802', 'W21803', 'W21804', 'W21805', 'W21806', 'W21807', 'W21808', 'W21810', 'W21811', 'W21812', 'W21813', 'W21814', 'W21815', 'W21816', 'W21817', 'W21818', 'W21819', 'W21820', 'W21821', 'W21822', 'W21823', 'W21824', 'W21825', 'W21826', 'W21827', 'W21828', 'W21829', 'W21830', 'W21831', 'W21832', 'W21833', 'W21834', 'W21835', 'W21836', 'W21838', 'W21839', 'W21840', 'W21841', 'W21842', 'W21843', 'W21844', 'W21845', 'W21846', 'W21847', 'W21848', 'W21849', 'W21850', 'W21852', 'W21853', 'W21855', 'W21856', 'W21857', 'W21858', 'W21859', 'W21860', 'W21862', 'W21864', 'W21865', 'W21866', 'W21867', 'W21868', 'W21869', 'W21870', 'W21871', 'W21873', 'W21874', 'W21875', 'W21876', 'W21877', 'W21878', 'W21879', 'W21880', 'W21881', 'W21882', 'W21883', 'W21884', 'W21885', 'W21886', 'W21887', 'W21888', 'W21889', 'W21890', 'W21891', 'W21892', 'W21893', 'W21894', 'W21895', 'W21896', 'W21897', 'W21898', 'W21899', 'W21900', 'W21901', 'W21902', 'W21904', 'W21905', 'W21906', 'W21907', 'W21908', 'W21909', 'W21910', 'W21911', 'W21912', 'W21914', 'W21915', 'W21916', 'W21917', 'W21918', 'W21919', 'W21920', 'W21921', 'W21922', 'W21923', 'W21924', 'W21925', 'W21926', 'W21927', 'W21928', 'W21929', 'W21930', 'W21931', 'W21932', 'W21933', 'W21934', 'W21935', 'W21936', 'W21937', 'W21938', 'W21939', 'W21940', 'W21941', 'W21942', 'W21943', 'W21944', 'W21945', 'W21946', 'W21947', 'W21948', 'W21949', 'W21950', 'W21951', 'W21953', 'W21954', 'W21955', 'W21956', 'W21957', 'W21958', 'W21959', 'W21960', 'W21961', 'W21962', 'W21963', 'W21964', 'W21966', 'W21967', 'W21968', 'W21969', 'W21970', 'W21971', 'W21972', 'W21973', 'W21974', 'W21975', 'W21976', 'W21977', 'W21978', 'W21979', 'W21980', 'W21981', 'W21982', 'W21983', 'W21984', 'W21985', 'W21986', 'W21987', 'W21988', 'W21989', 'W21992', 'W21993', 'W21995', 'W21996', 'W21997', 'W21998', 'W21999', 'W22000', 'W22001', 'W22002', 'W22003', 'W22004', 'W22005', 'W22006', 'W22007', 'W22008', 'W22009', 'W22010', 'W22011', 'W22012', 'W22013', 'W22014', 'W22015', 'W22016', 'W22017', 'W22018', 'W22019', 'W22020', 'W22021', 'W22022', 'W22024', 'W22025', 'W22026', 'W22027', 'W22028', 'W22029', 'W22030', 'W22031', 'W22032', 'W22033', 'W22034', 'W22036', 'W22037', 'W22038', 'W22039', 'W22040', 'W22041', 'W22042', 'W22043', 'W22044', 'W22045', 'W22046', 'W22047', 'W22048', 'W22049', 'W22050', 'W22051', 'W22052', 'W22053', 'W22054', 'W22055', 'W22056', 'W22057', 'W22058', 'W22059', 'W22060', 'W22061', 'W22062', 'W22063', 'W22064', 'W22065', 'W22066', 'W22067', 'W22068', 'W22069', 'W22070', 'W22071', 'W22072', 'W22073', 'W22074', 'W22075', 'W22076', 'W22077', 'W22078', 'W22079', 'W22080', 'W22081', 'W22082', 'W22083', 'W22084', 'W22085', 'W22086', 'W22087', 'W22088', 'W22089', 'W22090', 'W22092', 'W22093', 'W22094', 'W22095', 'W22096', 'W22097', 'W22098', 'W22099', 'W22100', 'W22101', 'W22102', 'W22103', 'W22104', 'W22105', 'W22106', 'W22107', 'W22108', 'W22109', 'W22110', 'W22111', 'W22112', 'W22113', 'W22114', 'W22115', 'W22116', 'W22117', 'W22118', 'W22119', 'W22120', 'W22121', 'W22122', 'W22123', 'W22124', 'W22125', 'W22126', 'W22127', 'W22128', 'W22129', 'W22130', 'W22131', 'W22132', 'W22133', 'W22135', 'W22136', 'W22137', 'W22138', 'W22139', 'W22140', 'W22141', 'W22142', 'W22143', 'W22144', 'W22145', 'W22146', 'W22147', 'W22148', 'W22149', 'W22150', 'W22151', 'W22152', 'W22153', 'W22154', 'W22155', 'W22156', 'W22157', 'W22158', 'W22159', 'W22161', 'W22162', 'W22163', 'W22164', 'W22165', 'W22166', 'W22167', 'W22168', 'W22169', 'W22170', 'W22171', 'W22172', 'W22173', 'W22174', 'W22176', 'W22177', 'W22178', 'W22179', 'W22180', 'W22181', 'W22182', 'W22183', 'W22184', 'W22185', 'W22187', 'W22188', 'W22189', 'W22190', 'W22191', 'W22192', 'W22193', 'W22194', 'W22195', 'W22196', 'W22197', 'W22198', 'W22199', 'W22200', 'W22201', 'W22202', 'W22203', 'W22204', 'W22205', 'W22206', 'W22207', 'W22208', 'W22209', 'W22210', 'W22211', 'W22212', 'W22213', 'W22214', 'W22215', 'W22216', 'W22217', 'W22218', 'W22219', 'W22220', 'W22221', 'W22222', 'W22223', 'W22224', 'W22225', 'W22226', 'W22227', 'W22228', 'W22229', 'W22230', 'W22231', 'W22232', 'W22233', 'W22234', 'W22235', 'W22236', 'W22237', 'W22238', 'W22239', 'W22240', 'W22242', 'W22243', 'W22244', 'W22245', 'W22246', 'W22247', 'W22248', 'W22249', 'W22250', 'W22251', 'W22252', 'W22253', 'W22254', 'W22255', 'W22256', 'W22257', 'W22258', 'W22259', 'W22260', 'W22261', 'W22262', 'W22263', 'W22264', 'W22265', 'W22266', 'W22267', 'W22268', 'W22269', 'W22270', 'W22271', 'W22272', 'W22273', 'W22274', 'W22275', 'W22276', 'W22277', 'W22278', 'W22279', 'W22280', 'W22281', 'W22282', 'W22283', 'W22284', 'W22285', 'W22286', 'W22287', 'W22288', 'W22289', 'W22290', 'W22291', 'W22292', 'W22293', 'W22294', 'W22295', 'W22296', 'W22297', 'W22298', 'W22299', 'W22300', 'W22301', 'W22302', 'W22303', 'W22304', 'W22305', 'W22306', 'W22307', 'W22308', 'W22309', 'W22310', 'W22311', 'W22312', 'W22313', 'W22314', 'W22315', 'W22316', 'W22317', 'W22318', 'W22319', 'W22320', 'W22321', 'W22322', 'W22323', 'W22324', 'W22325', 'W22326', 'W22327', 'W22328', 'W22329', 'W22330', 'W22331', 'W22332', 'W22333', 'W22335', 'W22336', 'W22337', 'W22338', 'W22339', 'W22340', 'W22341', 'W22342', 'W22343', 'W22344', 'W22345', 'W22346', 'W22347', 'W22348', 'W22349', 'W22350', 'W22351', 'W22352', 'W22353', 'W22354', 'W22357', 'W22358', 'W22359', 'W22360', 'W22361', 'W22362', 'W22363', 'W22364', 'W22365', 'W22366', 'W22367', 'W22368', 'W22369', 'W22370', 'W22371', 'W22372', 'W22373', 'W22374', 'W22375', 'W22376', 'W22377', 'W22378', 'W22379', 'W22380', 'W22381', 'W22382', 'W22383', 'W22384', 'W22385', 'W22386', 'W22387', 'W22388', 'W22389', 'W22390', 'W22391', 'W22392', 'W22393', 'W22394', 'W22395', 'W22396', 'W22397', 'W22398', 'W22399', 'W22400', 'W22401', 'W22402', 'W22403', 'W22404', 'W22405', 'W22406', 'W22407', 'W22408', 'W22409', 'W22410', 'W22411', 'W22412', 'W22413', 'W22414', 'W22415', 'W22416', 'W22417', 'W22418', 'W22419', 'W22420', 'W22421', 'W22422', 'W22423', 'W22424', 'W22425', 'W22426', 'W22427', 'W22428', 'W22429', 'W22430', 'W22431', 'W22432', 'W22433', 'W22434', 'W22435', 'W22436', 'W22437', 'W22438', 'W22439', 'W22440', 'W22441', 'W22442', 'W22443', 'W22444', 'W22445', 'W22446', 'W22447', 'W22448', 'W22449', 'W22450', 'W22451', 'W22452', 'W22453', 'W22454', 'W22455', 'W22456', 'W22457', 'W22458', 'W22459', 'W22460', 'W22461', 'W22462', 'W22463', 'W22464', 'W22465', 'W22466', 'W22467', 'W22468', 'W22469', 'W22470', 'W22471', 'W22472', 'W22473', 'W22474', 'W22475', 'W22476', 'W22477', 'W22478', 'W22479', 'W22480', 'W22481', 'W22482', 'W22483', 'W22484', 'W22485', 'W22486', 'W22487', 'W22488', 'W22489', 'W22490', 'W22491', 'W22492', 'W22493', 'W22494', 'W22495', 'W22496', 'W22497', 'W22498', 'W22499', 'W22500', 'W22501', 'W22502', 'W22503', 'W22504', 'W22505', 'W22506', 'W22507', 'W22508', 'W22509', 'W22510', 'W22511', 'W22512', 'W22513', 'W22514', 'W22515', 'W22516', 'W22517', 'W22518', 'W22519', 'W22520', 'W22521', 'W22522', 'W22523', 'W22524', 'W22525', 'W22526', 'W22527', 'W22528', 'W22529', 'W22530', 'W22531', 'W22532', 'W22533', 'W22534', 'W22535', 'W22536', 'W22537', 'W22538', 'W22539', 'W22540', 'W22541', 'W22542', 'W22543', 'W22544', 'W22545', 'W22546', 'W22547', 'W22548', 'W22549', 'W22550', 'W22551', 'W22552', 'W22553', 'W22554', 'W22555', 'W22556', 'W22557', 'W22558', 'W22559', 'W22560', 'W22561', 'W22562', 'W22563', 'W22564', 'W22565', 'W22566', 'W22567', 'W22568', 'W22569', 'W22570', 'W22571', 'W22572', 'W22573', 'W22574', 'W22575', 'W22576', 'W22577', 'W22578', 'W22579', 'W22580', 'W22581', 'W22582', 'W22583', 'W22584', 'W22585', 'W22586', 'W22587', 'W22588', 'W22590', 'W22591', 'W22592', 'W22593', 'W22594', 'W22595', 'W22596', 'W22597', 'W22598', 'W22599', 'W22600', 'W22601', 'W22602', 'W22603', 'W22604', 'W22605', 'W22606', 'W22607', 'W22608', 'W22609', 'W22610', 'W22611', 'W22612', 'W22613', 'W22614', 'W22615', 'W22616', 'W22617', 'W22618', 'W22619', 'W22620', 'W22621', 'W22622', 'W22623', 'W22624', 'W22625', 'W22626', 'W22627', 'W22628', 'W22629', 'W22630', 'W22631', 'W22632', 'W22633', 'W22634', 'W22635', 'W22636', 'W22637', 'W22638', 'W22639', 'W22640', 'W22641', 'W22642', 'W22643', 'W22644', 'W22645', 'W22646', 'W22647', 'W22648', 'W22649', 'W22650', 'W22651', 'W22652', 'W22653', 'W22654', 'W22655', 'W22656', 'W22657', 'W22658', 'W22659', 'W22660', 'W22661', 'W22662', 'W22663', 'W22664', 'W22665', 'W22666', 'W22667', 'W22668', 'W22669', 'W22670', 'W22671', 'W22672', 'W22673', 'W22674', 'W22675', 'W22676', 'W22677', 'W22678', 'W22679', 'W22680', 'W22681', 'W22682', 'W22683', 'W22684', 'W22685', 'W22686', 'W22687', 'W22688', 'W22689', 'W22690', 'W22691', 'W22692', 'W22693', 'W22694', 'W22695', 'W22696', 'W22697', 'W22698', 'W22699', 'W22700', 'W22701', 'W22702', 'W22703', 'W22704', 'W22705', 'W22706', 'W22707', 'W22708', 'W22709', 'W22710', 'W22711', 'W22712', 'W22713', 'W22714', 'W22715', 'W22716', 'W22717', 'W22718', 'W22719', 'W22720', 'W22721', 'W22722', 'W22723', 'W22724', 'W22725', 'W22726', 'W22727', 'W22728', 'W22729', 'W22730', 'W22731', 'W22732', 'W22733', 'W22734', 'W22735', 'W22736', 'W22737', 'W22738', 'W22739', 'W22740', 'W22741', 'W22742', 'W22743', 'W22744', 'W22745', 'W22746', 'W22747', 'W22748', 'W22749', 'W22750', 'W22751', 'W22752', 'W22753', 'W22754', 'W22755', 'W22756', 'W22757', 'W22758', 'W22759', 'W22760', 'W22761', 'W22762', 'W22763', 'W22764', 'W22765', 'W22766', 'W22767', 'W22768', 'W22769', 'W22770', 'W22771', 'W22772', 'W22773', 'W22774', 'W22775', 'W22776', 'W22777', 'W22778', 'W22779', 'W22780', 'W22781', 'W22782', 'W22783', 'W22784', 'W22785', 'W22786', 'W22787', 'W22788', 'W22789', 'W22790', 'W22791', 'W22792', 'W22793', 'W22794', 'W22795', 'W22796', 'W22797', 'W22798', 'W22799', 'W22800', 'W22801', 'W22802', 'W22803', 'W22804', 'W22805', 'W22806', 'W22807', 'W22808', 'W22809', 'W22810', 'W22811', 'W22812', 'W22813', 'W22814', 'W22815', 'W22816', 'W22817', 'W22818', 'W22819', 'W22820', 'W22821', 'W22822', 'W22823', 'W22824', 'W22825', 'W22826', 'W22827', 'W22828', 'W22829', 'W22830', 'W22831', 'W22832', 'W22833', 'W22834', 'W22835', 'W22836', 'W22837', 'W22838', 'W22839', 'W22840', 'W22841', 'W22842', 'W22843', 'W22844', 'W22845', 'W22846', 'W22847', 'W22848', 'W22849', 'W22850', 'W22851', 'W22852', 'W22853', 'W22854', 'W22855', 'W22856', 'W22857', 'W22858', 'W22859', 'W22860', 'W22861', 'W22862', 'W22863', 'W22864', 'W22865', 'W22866', 'W22867', 'W22868', 'W22869', 'W22870', 'W22871', 'W22872', 'W22873', 'W22874', 'W22875', 'W22876', 'W22877', 'W22878', 'W22879', 'W22880', 'W22881', 'W22882', 'W22883', 'W22884', 'W22885', 'W22886', 'W22887', 'W22888', 'W22889', 'W22890', 'W22891', 'W22892', 'W22893', 'W22894', 'W22895', 'W22896', 'W22897', 'W22898', 'W22899', 'W22900', 'W22901', 'W22902', 'W22903', 'W22904', 'W22905', 'W22906', 'W22907', 'W22908', 'W22909', 'W22910', 'W22911', 'W22912', 'W22913', 'W22914', 'W22915', 'W22916', 'W22917', 'W22918', 'W22919', 'W22920', 'W22921', 'W22922', 'W22923', 'W22924', 'W22925', 'W22926', 'W22927', 'W22928', 'W22929', 'W22930', 'W22931', 'W22932', 'W22933', 'W22934', 'W22935', 'W22936', 'W22937', 'W22938', 'W22939', 'W22940', 'W22941', 'W22942', 'W22943', 'W22944', 'W22945', 'W22946', 'W22947', 'W22948', 'W22949', 'W22950', 'W22951', 'W22952', 'W22953', 'W22954', 'W22955', 'W22956', 'W22957', 'W22958', 'W22959', 'W22960', 'W22961', 'W22962', 'W22963', 'W22964', 'W22965', 'W22966', 'W22967', 'W22968', 'W22969', 'W22970', 'W22971', 'W22972', 'W22973', 'W22974', 'W22975', 'W22976', 'W22977', 'W22978', 'W22979', 'W22980', 'W22981', 'W22982', 'W22983', 'W22984', 'W22985', 'W22986', 'W22987', 'W22988', 'W22989', 'W22990', 'W22991', 'W22992', 'W22993', 'W22994', 'W22995', 'W22996', 'W22997', 'W22998', 'W22999', 'W23000', 'W23001', 'W23002', 'W23003', 'W23004', 'W23005', 'W23006', 'W23007', 'W23008', 'W23009', 'W23010', 'W23011', 'W23012', 'W23013', 'W23014', 'W23015', 'W23016', 'W23017', 'W23018', 'W23019', 'W23020', 'W23021', 'W23022', 'W23023', 'W23024', 'W23025', 'W23026', 'W23027', 'W23028', 'W23029', 'W23030', 'W23031', 'W23032', 'W23033', 'W23034', 'W23035', 'W23036', 'W23037', 'W23038', 'W23039', 'W23040', 'W23041', 'W23042', 'W23043', 'W23044', 'W23045', 'W23046', 'W23047', 'W23048', 'W23049', 'W23050', 'W23051', 'W23052', 'W23053', 'W23054', 'W23055', 'W23056', 'W23057', 'W23058', 'W23059', 'W23060', 'W23061', 'W23062', 'W23063', 'W23064', 'W23065', 'W23066', 'W23067', 'W23068', 'W23069', 'W23070', 'W23071', 'W23072', 'W23073', 'W23074', 'W23075', 'W23076', 'W23077', 'W23078', 'W23079', 'W23080', 'W23081', 'W23082', 'W23083', 'W23084', 'W23085', 'W23086', 'W23087', 'W23088', 'W23089', 'W23090', 'W23091', 'W23092', 'W23093', 'W23094', 'W23095', 'W23096', 'W23097', 'W23098', 'W23099', 'W23100', 'W23101', 'W23102', 'W23103', 'W23104', 'W23105', 'W23106', 'W23107', 'W23108', 'W23109', 'W23110', 'W23111', 'W23112', 'W23113', 'W23114', 'W23115', 'W23116', 'W23117', 'W23118', 'W23119', 'W23120', 'W23121', 'W23122', 'W23123', 'W23124', 'W23125', 'W23126', 'W23127', 'W23128', 'W23129', 'W23130', 'W23131', 'W23132', 'W23133', 'W23134', 'W23135', 'W23136', 'W23137', 'W23138', 'W23139', 'W23140', 'W23141', 'W23142', 'W23143', 'W23144', 'W23145', 'W23146', 'W23147', 'W23148', 'W23149', 'W23150', 'W23151', 'W23152', 'W23153', 'W23154', 'W23155', 'W23156', 'W23157', 'W23158', 'W23159', 'W23160', 'W23161', 'W23162', 'W23163', 'W23164', 'W23165', 'W23166', 'W23167', 'W23168', 'W23169', 'W23170', 'W23171', 'W23172', 'W23173', 'W23174', 'W23175', 'W23176', 'W23177', 'W23178', 'W23179', 'W23180', 'W23181', 'W23182', 'W23183', 'W23184', 'W23185', 'W23186', 'W23187', 'W23188', 'W23189', 'W23190', 'W23191', 'W23192', 'W23193', 'W23194', 'W23195', 'W23196', 'W23197', 'W23198', 'W23199', 'W23200', 'W23201', 'W23202', 'W23203', 'W23204', 'W23205', 'W23206', 'W23207', 'W23208', 'W23209', 'W23210', 'W23211', 'W23212', 'W23213', 'W23214', 'W23215', 'W23216', 'W23217', 'W23218', 'W23219', 'W23220', 'W23221', 'W23222', 'W23223', 'W23224', 'W23225', 'W23226', 'W23227', 'W23228', 'W23229', 'W23230', 'W23231', 'W23232', 'W23233', 'W23234', 'W23235', 'W23236', 'W23237', 'W23238', 'W23239', 'W23240', 'W23241', 'W23242', 'W23243', 'W23244', 'W23245', 'W23246', 'W23247', 'W23248', 'W23249', 'W23250', 'W23251', 'W23252', 'W23253', 'W23254', 'W23255', 'W23256', 'W23257', 'W23258', 'W23259', 'W23260', 'W23261', 'W23262', 'W23263', 'W23264', 'W23265', 'W23266', 'W23267', 'W23268', 'W23269', 'W23270', 'W23271', 'W23272', 'W23273', 'W23274', 'W23275', 'W23276', 'W23277', 'W23278', 'W23279', 'W23280', 'W23281', 'W23284', 'W23285', 'W23286', 'W23287', 'W23288', 'W23289', 'W23290', 'W23291', 'W23292', 'W23293', 'W23295', 'W23296', 'W23297', 'W23299', 'W23300', 'W23301', 'W23302', 'W23303', 'W23304', 'W23305', 'W23306', 'W23307', 'W23308', 'W23309', 'W23310', 'W23311', 'W23312', 'W23313', 'W23314', 'W23315', 'W23316', 'W23317', 'W23318', 'W23319', 'W23320', 'W23321', 'W23322', 'W23323', 'W23324', 'W23325', 'W23326', 'W23327', 'W23328', 'W23329', 'W23330', 'W23331', 'W23332', 'W23333', 'W23334', 'W23335', 'W23336', 'W23337', 'W23338', 'W23339', 'W23340', 'W23341', 'W23342', 'W23343', 'W23344', 'W23345', 'W23346', 'W23347', 'W23348', 'W23349', 'W23350', 'W23351', 'W23352', 'W23353', 'W23354', 'W23355', 'W23356', 'W23357', 'W23358', 'W23359', 'W23360', 'W23361', 'W23362', 'W23363', 'W23364', 'W23365', 'W23366', 'W23367', 'W23368', 'W23369', 'W23370', 'W23371', 'W23372', 'W23373', 'W23374', 'W23375', 'W23376', 'W23377', 'W23378', 'W23379', 'W23380', 'W23381', 'W23382', 'W23383', 'W23384', 'W23385', 'W23386', 'W23387', 'W23388', 'W23389', 'W23390', 'W23391', 'W23392', 'W23393', 'W23394', 'W23395', 'W23396', 'W23397', 'W23398', 'W23399', 'W23400', 'W23401', 'W23404', 'W23405', 'W23406', 'W23407', 'W23408', 'W23409', 'W23410', 'W23411', 'W23412', 'W23413', 'W23414', 'W23415', 'W23416', 'W23417', 'W23419', 'W23421', 'W23422', 'W23423', 'W23425', 'W23426', 'W23427', 'W23428', 'W23429', 'W23430', 'W23431', 'W23432', 'W23433', 'W23434', 'W23435', 'W23436', 'W23437', 'W23438', 'W23439', 'W23440', 'W23441', 'W23442', 'W23443', 'W23444', 'W23445', 'W23446', 'W23447', 'W23448', 'W23449', 'W23450', 'W23451', 'W23452', 'W23453', 'W23454', 'W23455', 'W23456', 'W23457', 'W23458', 'W23459', 'W23460', 'W23461', 'W23462', 'W23463', 'W23464', 'W23465', 'W23466', 'W23467', 'W23468', 'W23469', 'W23470', 'W23471', 'W23472', 'W23473', 'W23474', 'W23475', 'W23476', 'W23477', 'W23478', 'W23479', 'W23480', 'W23481', 'W23482', 'W23483', 'W23484', 'W23485', 'W23486', 'W23487', 'W23488', 'W23489', 'W23490', 'W23491', 'W23492', 'W23493', 'W23494', 'W23495', 'W23496', 'W23497', 'W23498', 'W23499', 'W23500', 'W23501', 'W23502', 'W23503', 'W23504', 'W23505', 'W23506', 'W23507', 'W23508', 'W23509', 'W23510', 'W23511', 'W23512', 'W23513', 'W23514', 'W23515', 'W23517', 'W23518', 'W23519', 'W23520', 'W23521', 'W23522', 'W23523', 'W23524', 'W23525', 'W23526', 'W23527', 'W23528', 'W23529', 'W23530', 'W23531', 'W23532', 'W23533', 'W23534', 'W23535', 'W23536', 'W23537', 'W23538', 'W23539', 'W23540', 'W23541', 'W23542', 'W23543', 'W23544', 'W23545', 'W23546', 'W23547', 'W23548', 'W23549', 'W23550', 'W23551', 'W23552', 'W23553', 'W23554', 'W23555', 'W23556', 'W23557', 'W23558', 'W23559', 'W23560', 'W23561', 'W23562', 'W23563', 'W23564', 'W23565', 'W23566', 'W23567', 'W23568', 'W23569', 'W23570', 'W23571', 'W23572', 'W23573', 'W23574', 'W23575', 'W23576', 'W23577', 'W23578', 'W23579', 'W23580', 'W23581', 'W23582', 'W23583', 'W23584', 'W23585', 'W23586', 'W23587', 'W23588', 'W23589', 'W23590', 'W23591', 'W23592', 'W23593', 'W23594', 'W23595', 'W23596', 'W23597', 'W23598', 'W23599', 'W23600', 'W23601', 'W23602', 'W23603', 'W23604', 'W23605', 'W23606', 'W23607', 'W23608', 'W23609', 'W23610', 'W23611', 'W23612', 'W23613', 'W23614', 'W23615', 'W23616', 'W23617', 'W23618', 'W23619', 'W23620', 'W23621', 'W23622', 'W23623', 'W23624', 'W23625', 'W23626', 'W23627', 'W23628', 'W23629', 'W23630', 'W23631', 'W23632', 'W23633', 'W23634', 'W23635', 'W23636', 'W23637', 'W23638', 'W23639', 'W23640', 'W23641', 'W23642', 'W23643', 'W23644', 'W23645', 'W23646', 'W23647', 'W23648', 'W23649', 'W23650', 'W23651', 'W23652', 'W23653', 'W23654', 'W23655', 'W23656', 'W23657', 'W23658', 'W23659', 'W23660', 'W23661', 'W23662', 'W23663', 'W23664', 'W23665', 'W23666', 'W23667', 'W23668', 'W23669', 'W23670', 'W23671', 'W23672', 'W23673', 'W23674', 'W23675', 'W23676', 'W23677', 'W23678', 'W23679', 'W23680', 'W23681', 'W23682', 'W23683', 'W23684', 'W23685', 'W23686', 'W23687', 'W23688', 'W23689', 'W23690', 'W23691', 'W23692', 'W23693', 'W23694', 'W23695', 'W23696', 'W23697', 'W23698', 'W23699', 'W23700', 'W23701', 'W23702', 'W23703', 'W23704', 'W23705', 'W23706', 'W23707', 'W23708', 'W23709', 'W23710', 'W23711', 'W23712', 'W23713', 'W23714', 'W23715', 'W23716', 'W23717', 'W23718', 'W23719', 'W23720', 'W23721', 'W23722', 'W23723', 'W23724', 'W23725', 'W23726', 'W23727', 'W23728', 'W23729', 'W23730', 'W23731', 'W23732', 'W23733', 'W23734', 'W23735', 'W23736', 'W23737', 'W23738', 'W23739', 'W23740', 'W23741', 'W23742', 'W23743', 'W23744', 'W23745', 'W23746', 'W23747', 'W23748', 'W23749', 'W23750', 'W23751', 'W23752', 'W23753', 'W23754', 'W23755', 'W23756', 'W23757', 'W23758', 'W23759', 'W23760', 'W23761', 'W23762', 'W23763', 'W23764', 'W23765', 'W23766', 'W23767', 'W23768', 'W23769', 'W23770', 'W23771', 'W23772', 'W23773', 'W23774', 'W23775', 'W23776', 'W23777', 'W23778', 'W23779', 'W23780', 'W23781', 'W23782', 'W23783', 'W23784', 'W23785', 'W23786', 'W23787', 'W23788', 'W23789', 'W23790', 'W23791', 'W23792', 'W23793', 'W23794', 'W23795', 'W23796', 'W23797', 'W23798', 'W23799', 'W23800', 'W23801', 'W23802', 'W23803', 'W23804', 'W23805', 'W23806', 'W23807', 'W23808', 'W23809', 'W23810', 'W23811', 'W23812', 'W23813', 'W23814', 'W23815', 'W23816', 'W23817', 'W23818', 'W23819', 'W23820', 'W23821', 'W23822', 'W23823', 'W23824', 'W23825', 'W23826', 'W23827', 'W23828', 'W23829', 'W23830', 'W23831', 'W23832', 'W23833', 'W23834', 'W23835', 'W23836', 'W23837', 'W23838', 'W23839', 'W23840', 'W23841', 'W23842', 'W23843', 'W23844', 'W23845', 'W23846', 'W23847', 'W23848', 'W23849', 'W23850', 'W23851', 'W23852', 'W23853', 'W23854', 'W23855', 'W23856', 'W23857', 'W23858', 'W23859', 'W23860', 'W23861', 'W23862', 'W23863', 'W23864', 'W23865', 'W23866', 'W23867', 'W23868', 'W23869', 'W23870', 'W23871', 'W23872', 'W23873', 'W23874', 'W23875', 'W23876', 'W23877', 'W23878', 'W23879', 'W23880', 'W23881', 'W23882', 'W23883', 'W23884', 'W23885', 'W23886', 'W23887', 'W23888', 'W23889', 'W23890', 'W23891', 'W23892', 'W23893', 'W23894', 'W23895', 'W23896', 'W23897', 'W23898', 'W23899', 'W23900', 'W23901', 'W23902', 'W23903', 'W23904', 'W23905', 'W23906', 'W23907', 'W23908', 'W23909', 'W23910', 'W23911', 'W23912', 'W23913', 'W23914', 'W23915', 'W23916', 'W23917', 'W23918', 'W23919', 'W23920', 'W23921', 'W23922', 'W23923', 'W23924', 'W23925', 'W23926', 'W23927', 'W23928', 'W23929', 'W23930', 'W23931', 'W23932', 'W23933', 'W23934', 'W23935', 'W23936', 'W23937', 'W23938', 'W23939', 'W23940', 'W23941', 'W23942', 'W23943', 'W23944', 'W23945', 'W23946', 'W23947', 'W23948', 'W23949', 'W23950', 'W23951', 'W23952', 'W23953', 'W23954', 'W23955', 'W23956', 'W23957', 'W23958', 'W23959', 'W23960', 'W23961', 'W23962', 'W23963', 'W23964', 'W23965', 'W23966', 'W23967', 'W23968', 'W23969', 'W23970', 'W23971', 'W23972', 'W23973', 'W23974', 'W23975', 'W23976', 'W23977', 'W23978', 'W23979', 'W23980', 'W23981', 'W23982', 'W23983', 'W23984', 'W23985', 'W23986', 'W23987', 'W23988', 'W23989', 'W23990', 'W23991', 'W23992', 'W23993', 'W23994', 'W23995', 'W23996', 'W23997', 'W23998', 'W23999', 'W24000', 'W24001', 'W24002', 'W24003', 'W24004', 'W24005', 'W24006', 'W24007', 'W24008', 'W24009', 'W24010', 'W24011', 'W24012', 'W24013', 'W24014', 'W24015', 'W24016', 'W24017', 'W24018', 'W24019', 'W24020', 'W24021', 'W24022', 'W24023', 'W24024', 'W24025', 'W24026', 'W24027', 'W24028', 'W24029', 'W24030', 'W24031', 'W24032', 'W24033', 'W24034', 'W24035', 'W24036', 'W24037', 'W24038', 'W24039', 'W24040', 'W24041', 'W24042', 'W24043', 'W24044', 'W24045', 'W24046', 'W24047', 'W24048', 'W24049', 'W24050', 'W24051', 'W24052', 'W24053', 'W24054', 'W24055', 'W24056', 'W24057', 'W24058', 'W24059', 'W24060', 'W24061', 'W24062', 'W24063', 'W24064', 'W24065', 'W24066', 'W24067', 'W24068', 'W24069', 'W24070', 'W24071', 'W24072', 'W24073', 'W24074', 'W24075', 'W24076', 'W24077', 'W24078', 'W24079', 'W24080', 'W24081', 'W24082', 'W24083', 'W24084', 'W24085', 'W24086', 'W24087', 'W24088', 'W24089', 'W24090', 'W24091', 'W24093', 'W24094', 'W24095', 'W24096', 'W24097', 'W24098', 'W24099', 'W24100', 'W24101', 'W24102', 'W24103', 'W24104', 'W24105', 'W24106', 'W24107', 'W24108', 'W24109', 'W24110', 'W24111', 'W24112', 'W24113', 'W24114', 'W24115', 'W24116', 'W24117', 'W24118', 'W24119', 'W24120', 'W24121', 'W24122', 'W24123', 'W24124', 'W24125', 'W24126', 'W24137', 'W24138', 'W24139', 'W24140', 'W24141', 'W24142', 'W24143', 'W24144', 'W24145', 'W24146', 'W24147', 'W24148', 'W24149', 'W24150', 'W24151', 'W24152', 'W24153', 'W24154', 'W24155', 'W24156', 'W24157', 'W24158', 'W24159', 'W24160', 'W24161', 'W24162', 'W24163', 'W24164', 'W24165', 'W24166', 'W24167', 'W24168', 'W24169', 'W24170', 'W24172', 'W24174', 'W24175', 'W24176', 'W99910', 'Z00046', 'w00059', 'w00223', 'w00461', 'w00527', 'w00583', 'w00644', 'w00765', 'w01100', 'w01117']\n"
     ]
    }
   ],
   "source": [
    "print(sorted(uB))"
   ]
  },
  {
   "cell_type": "code",
   "execution_count": null,
   "metadata": {
    "collapsed": true
   },
   "outputs": [],
   "source": []
  },
  {
   "cell_type": "code",
   "execution_count": null,
   "metadata": {
    "collapsed": true
   },
   "outputs": [],
   "source": []
  },
  {
   "cell_type": "code",
   "execution_count": null,
   "metadata": {
    "collapsed": true
   },
   "outputs": [],
   "source": []
  },
  {
   "cell_type": "code",
   "execution_count": null,
   "metadata": {
    "collapsed": true
   },
   "outputs": [],
   "source": []
  },
  {
   "cell_type": "code",
   "execution_count": null,
   "metadata": {
    "collapsed": true
   },
   "outputs": [],
   "source": []
  },
  {
   "cell_type": "code",
   "execution_count": null,
   "metadata": {
    "collapsed": true
   },
   "outputs": [],
   "source": []
  },
  {
   "cell_type": "code",
   "execution_count": 26,
   "metadata": {
    "collapsed": true
   },
   "outputs": [],
   "source": [
    "# It would be nice to have numeric format for the timestamps. The conversion takes a while though!\n",
    "    # Looks like time.mktime can convert 80000 timestamps per second\n",
    "    # so it should take ten minutes to do 45M"
   ]
  },
  {
   "cell_type": "code",
   "execution_count": 23,
   "metadata": {
    "collapsed": false
   },
   "outputs": [
    {
     "data": {
      "text/html": [
       "<div>\n",
       "<table border=\"1\" class=\"dataframe\">\n",
       "  <thead>\n",
       "    <tr style=\"text-align: right;\">\n",
       "      <th></th>\n",
       "      <th>Duration</th>\n",
       "      <th>Start date</th>\n",
       "      <th>End date</th>\n",
       "      <th>Start station number</th>\n",
       "      <th>Start station</th>\n",
       "      <th>End station number</th>\n",
       "      <th>End station</th>\n",
       "      <th>Bike number</th>\n",
       "      <th>Member type</th>\n",
       "    </tr>\n",
       "  </thead>\n",
       "  <tbody>\n",
       "    <tr>\n",
       "      <th>0</th>\n",
       "      <td>1012</td>\n",
       "      <td>2010-09-20 11:27:04</td>\n",
       "      <td>2010-09-20 11:43:56</td>\n",
       "      <td>31208</td>\n",
       "      <td>M St &amp; New Jersey Ave SE</td>\n",
       "      <td>31108</td>\n",
       "      <td>4th &amp; M St SW</td>\n",
       "      <td>W00742</td>\n",
       "      <td>Member</td>\n",
       "    </tr>\n",
       "    <tr>\n",
       "      <th>1</th>\n",
       "      <td>61</td>\n",
       "      <td>2010-09-20 11:41:22</td>\n",
       "      <td>2010-09-20 11:42:23</td>\n",
       "      <td>31209</td>\n",
       "      <td>1st &amp; N St  SE</td>\n",
       "      <td>31209</td>\n",
       "      <td>1st &amp; N St  SE</td>\n",
       "      <td>W00032</td>\n",
       "      <td>Member</td>\n",
       "    </tr>\n",
       "    <tr>\n",
       "      <th>2</th>\n",
       "      <td>2690</td>\n",
       "      <td>2010-09-20 12:05:37</td>\n",
       "      <td>2010-09-20 12:50:27</td>\n",
       "      <td>31600</td>\n",
       "      <td>5th &amp; K St NW</td>\n",
       "      <td>31100</td>\n",
       "      <td>19th St &amp; Pennsylvania Ave NW</td>\n",
       "      <td>W00993</td>\n",
       "      <td>Member</td>\n",
       "    </tr>\n",
       "    <tr>\n",
       "      <th>3</th>\n",
       "      <td>1406</td>\n",
       "      <td>2010-09-20 12:06:05</td>\n",
       "      <td>2010-09-20 12:29:32</td>\n",
       "      <td>31600</td>\n",
       "      <td>5th &amp; K St NW</td>\n",
       "      <td>31602</td>\n",
       "      <td>Park Rd &amp; Holmead Pl NW</td>\n",
       "      <td>W00344</td>\n",
       "      <td>Member</td>\n",
       "    </tr>\n",
       "    <tr>\n",
       "      <th>4</th>\n",
       "      <td>1413</td>\n",
       "      <td>2010-09-20 12:10:43</td>\n",
       "      <td>2010-09-20 12:34:17</td>\n",
       "      <td>31100</td>\n",
       "      <td>19th St &amp; Pennsylvania Ave NW</td>\n",
       "      <td>31201</td>\n",
       "      <td>15th &amp; P St NW</td>\n",
       "      <td>W00883</td>\n",
       "      <td>Member</td>\n",
       "    </tr>\n",
       "  </tbody>\n",
       "</table>\n",
       "</div>"
      ],
      "text/plain": [
       "   Duration           Start date             End date  Start station number  \\\n",
       "0      1012  2010-09-20 11:27:04  2010-09-20 11:43:56                 31208   \n",
       "1        61  2010-09-20 11:41:22  2010-09-20 11:42:23                 31209   \n",
       "2      2690  2010-09-20 12:05:37  2010-09-20 12:50:27                 31600   \n",
       "3      1406  2010-09-20 12:06:05  2010-09-20 12:29:32                 31600   \n",
       "4      1413  2010-09-20 12:10:43  2010-09-20 12:34:17                 31100   \n",
       "\n",
       "                   Start station  End station number  \\\n",
       "0       M St & New Jersey Ave SE               31108   \n",
       "1                 1st & N St  SE               31209   \n",
       "2                  5th & K St NW               31100   \n",
       "3                  5th & K St NW               31602   \n",
       "4  19th St & Pennsylvania Ave NW               31201   \n",
       "\n",
       "                     End station Bike number Member type  \n",
       "0                  4th & M St SW      W00742      Member  \n",
       "1                 1st & N St  SE      W00032      Member  \n",
       "2  19th St & Pennsylvania Ave NW      W00993      Member  \n",
       "3        Park Rd & Holmead Pl NW      W00344      Member  \n",
       "4                 15th & P St NW      W00883      Member  "
      ]
     },
     "execution_count": 23,
     "metadata": {},
     "output_type": "execute_result"
    }
   ],
   "source": [
    "DF.head()"
   ]
  },
  {
   "cell_type": "code",
   "execution_count": 24,
   "metadata": {
    "collapsed": false
   },
   "outputs": [
    {
     "name": "stdout",
     "output_type": "stream",
     "text": [
      "Wed Jun 05 10:50:52 2019\n",
      "Wed Jun 05 10:56:03 2019\n",
      "Wed Jun 05 11:01:14 2019\n"
     ]
    }
   ],
   "source": [
    "# Takes 10 minutes to convert 45M strings timestamps into floats!\n",
    "\n",
    "tStr = '%Y-%m-%d %H:%M:%S'\n",
    "print(time.ctime())\n",
    "DF['Start time'] = DF['Start date'].apply(lambda x: time.mktime(datetime.datetime.strptime(x,tStr).timetuple()))\n",
    "print(time.ctime())\n",
    "DF['End time'] = DF['End date'].apply(lambda x: time.mktime(datetime.datetime.strptime(x,tStr).timetuple()))\n",
    "print(time.ctime())"
   ]
  },
  {
   "cell_type": "code",
   "execution_count": 25,
   "metadata": {
    "collapsed": false
   },
   "outputs": [
    {
     "data": {
      "text/html": [
       "<div>\n",
       "<table border=\"1\" class=\"dataframe\">\n",
       "  <thead>\n",
       "    <tr style=\"text-align: right;\">\n",
       "      <th></th>\n",
       "      <th>Duration</th>\n",
       "      <th>Start date</th>\n",
       "      <th>End date</th>\n",
       "      <th>Start station number</th>\n",
       "      <th>Start station</th>\n",
       "      <th>End station number</th>\n",
       "      <th>End station</th>\n",
       "      <th>Bike number</th>\n",
       "      <th>Member type</th>\n",
       "      <th>Start time</th>\n",
       "      <th>End time</th>\n",
       "    </tr>\n",
       "  </thead>\n",
       "  <tbody>\n",
       "    <tr>\n",
       "      <th>0</th>\n",
       "      <td>1012</td>\n",
       "      <td>2010-09-20 11:27:04</td>\n",
       "      <td>2010-09-20 11:43:56</td>\n",
       "      <td>31208</td>\n",
       "      <td>M St &amp; New Jersey Ave SE</td>\n",
       "      <td>31108</td>\n",
       "      <td>4th &amp; M St SW</td>\n",
       "      <td>W00742</td>\n",
       "      <td>Member</td>\n",
       "      <td>1.284996e+09</td>\n",
       "      <td>1.284997e+09</td>\n",
       "    </tr>\n",
       "    <tr>\n",
       "      <th>1</th>\n",
       "      <td>61</td>\n",
       "      <td>2010-09-20 11:41:22</td>\n",
       "      <td>2010-09-20 11:42:23</td>\n",
       "      <td>31209</td>\n",
       "      <td>1st &amp; N St  SE</td>\n",
       "      <td>31209</td>\n",
       "      <td>1st &amp; N St  SE</td>\n",
       "      <td>W00032</td>\n",
       "      <td>Member</td>\n",
       "      <td>1.284997e+09</td>\n",
       "      <td>1.284997e+09</td>\n",
       "    </tr>\n",
       "    <tr>\n",
       "      <th>2</th>\n",
       "      <td>2690</td>\n",
       "      <td>2010-09-20 12:05:37</td>\n",
       "      <td>2010-09-20 12:50:27</td>\n",
       "      <td>31600</td>\n",
       "      <td>5th &amp; K St NW</td>\n",
       "      <td>31100</td>\n",
       "      <td>19th St &amp; Pennsylvania Ave NW</td>\n",
       "      <td>W00993</td>\n",
       "      <td>Member</td>\n",
       "      <td>1.284999e+09</td>\n",
       "      <td>1.285001e+09</td>\n",
       "    </tr>\n",
       "    <tr>\n",
       "      <th>3</th>\n",
       "      <td>1406</td>\n",
       "      <td>2010-09-20 12:06:05</td>\n",
       "      <td>2010-09-20 12:29:32</td>\n",
       "      <td>31600</td>\n",
       "      <td>5th &amp; K St NW</td>\n",
       "      <td>31602</td>\n",
       "      <td>Park Rd &amp; Holmead Pl NW</td>\n",
       "      <td>W00344</td>\n",
       "      <td>Member</td>\n",
       "      <td>1.284999e+09</td>\n",
       "      <td>1.285000e+09</td>\n",
       "    </tr>\n",
       "    <tr>\n",
       "      <th>4</th>\n",
       "      <td>1413</td>\n",
       "      <td>2010-09-20 12:10:43</td>\n",
       "      <td>2010-09-20 12:34:17</td>\n",
       "      <td>31100</td>\n",
       "      <td>19th St &amp; Pennsylvania Ave NW</td>\n",
       "      <td>31201</td>\n",
       "      <td>15th &amp; P St NW</td>\n",
       "      <td>W00883</td>\n",
       "      <td>Member</td>\n",
       "      <td>1.284999e+09</td>\n",
       "      <td>1.285000e+09</td>\n",
       "    </tr>\n",
       "  </tbody>\n",
       "</table>\n",
       "</div>"
      ],
      "text/plain": [
       "   Duration           Start date             End date  Start station number  \\\n",
       "0      1012  2010-09-20 11:27:04  2010-09-20 11:43:56                 31208   \n",
       "1        61  2010-09-20 11:41:22  2010-09-20 11:42:23                 31209   \n",
       "2      2690  2010-09-20 12:05:37  2010-09-20 12:50:27                 31600   \n",
       "3      1406  2010-09-20 12:06:05  2010-09-20 12:29:32                 31600   \n",
       "4      1413  2010-09-20 12:10:43  2010-09-20 12:34:17                 31100   \n",
       "\n",
       "                   Start station  End station number  \\\n",
       "0       M St & New Jersey Ave SE               31108   \n",
       "1                 1st & N St  SE               31209   \n",
       "2                  5th & K St NW               31100   \n",
       "3                  5th & K St NW               31602   \n",
       "4  19th St & Pennsylvania Ave NW               31201   \n",
       "\n",
       "                     End station Bike number Member type    Start time  \\\n",
       "0                  4th & M St SW      W00742      Member  1.284996e+09   \n",
       "1                 1st & N St  SE      W00032      Member  1.284997e+09   \n",
       "2  19th St & Pennsylvania Ave NW      W00993      Member  1.284999e+09   \n",
       "3        Park Rd & Holmead Pl NW      W00344      Member  1.284999e+09   \n",
       "4                 15th & P St NW      W00883      Member  1.284999e+09   \n",
       "\n",
       "       End time  \n",
       "0  1.284997e+09  \n",
       "1  1.284997e+09  \n",
       "2  1.285001e+09  \n",
       "3  1.285000e+09  \n",
       "4  1.285000e+09  "
      ]
     },
     "execution_count": 25,
     "metadata": {},
     "output_type": "execute_result"
    }
   ],
   "source": [
    "DF.head()"
   ]
  },
  {
   "cell_type": "code",
   "execution_count": null,
   "metadata": {
    "collapsed": false
   },
   "outputs": [],
   "source": [
    "DF['End time'].dtype"
   ]
  },
  {
   "cell_type": "code",
   "execution_count": 27,
   "metadata": {
    "collapsed": false
   },
   "outputs": [
    {
     "data": {
      "text/plain": [
       "u'C:\\\\Users\\\\rek\\\\Desktop\\\\GH\\\\cabi'"
      ]
     },
     "execution_count": 27,
     "metadata": {},
     "output_type": "execute_result"
    }
   ],
   "source": [
    "pwd"
   ]
  },
  {
   "cell_type": "code",
   "execution_count": 5,
   "metadata": {
    "collapsed": true
   },
   "outputs": [],
   "source": [
    "def rek_writeSQL(dbName,tableName,DF,wa,index=True):\n",
    "    myConnection = sqlite3.connect(dbName)\n",
    "    try:\n",
    "        if (wa=='w'):\n",
    "            DF.to_sql(tableName,myConnection,if_exists='replace',index=index)    \n",
    "        elif (wa=='a'):\n",
    "            DF.to_sql(tableName,myConnection,if_exists='append',index=index)\n",
    "    except:\n",
    "        print('error with rek_writeSQL')\n",
    "    myConnection.close()\n",
    "    \n",
    "def rek_readSQL(dbName,tableName):\n",
    "    myConnection = sqlite3.connect(dbName)\n",
    "    try:\n",
    "        tableDF = pd.read_sql(\"SELECT * FROM \"+tableName,myConnection)\n",
    "    except:\n",
    "        tableDF = []\n",
    "    myConnection.close()\n",
    "    return tableDF"
   ]
  },
  {
   "cell_type": "code",
   "execution_count": 29,
   "metadata": {
    "collapsed": false
   },
   "outputs": [
    {
     "name": "stdout",
     "output_type": "stream",
     "text": [
      "Wed Jun 05 12:16:07 2019\n"
     ]
    },
    {
     "name": "stderr",
     "output_type": "stream",
     "text": [
      "C:\\Users\\rek\\Desktop\\sw\\Anaconda\\lib\\site-packages\\pandas\\core\\generic.py:1165: UserWarning: The spaces in these column names will not be changed. In pandas versions < 0.14, spaces were converted to underscores.\n",
      "  chunksize=chunksize, dtype=dtype)\n"
     ]
    },
    {
     "name": "stdout",
     "output_type": "stream",
     "text": [
      "Wed Jun 05 12:18:33 2019\n",
      "Wed Jun 05 12:20:28 2019\n"
     ]
    }
   ],
   "source": [
    "# Takes 2.5 minutes to write Trip History to sql DB:\n",
    "\n",
    "dbName = 'C:\\\\Users\\\\rek\\\\Desktop\\\\tempCabi2019\\\\db\\\\cabi_20190605.db'\n",
    "tableName = 'TH'\n",
    "print(time.ctime())\n",
    "tableName = 'TH_i1'\n",
    "rek_writeSQL(dbName,tableName,DF,'w',index=True)\n",
    "print(time.ctime())\n",
    "tableName = 'TH_i0'\n",
    "rek_writeSQL(dbName,tableName,DF,'w',index=False)\n",
    "print(time.ctime())"
   ]
  },
  {
   "cell_type": "code",
   "execution_count": 6,
   "metadata": {
    "collapsed": false
   },
   "outputs": [
    {
     "name": "stdout",
     "output_type": "stream",
     "text": [
      "Wed Jun 12 11:42:24 2019\n",
      "Wed Jun 12 11:44:27 2019\n",
      "Wed Jun 12 11:46:35 2019\n"
     ]
    }
   ],
   "source": [
    "# Read TH from database (2 minutes):\n",
    "dbName = 'C:\\\\Users\\\\rek\\\\Desktop\\\\tempCabi2019\\\\db\\\\cabi_20190605.db'\n",
    "tableName = 'TH'\n",
    "print(time.ctime())\n",
    "DF65i1 = rek_readSQL(dbName,'TH_i1')\n",
    "print(time.ctime())\n",
    "DF65i0 = rek_readSQL(dbName,'TH_i0')\n",
    "print(time.ctime())"
   ]
  },
  {
   "cell_type": "code",
   "execution_count": null,
   "metadata": {
    "collapsed": true
   },
   "outputs": [],
   "source": []
  },
  {
   "cell_type": "code",
   "execution_count": null,
   "metadata": {
    "collapsed": true
   },
   "outputs": [],
   "source": []
  },
  {
   "cell_type": "code",
   "execution_count": 41,
   "metadata": {
    "collapsed": false
   },
   "outputs": [
    {
     "name": "stdout",
     "output_type": "stream",
     "text": [
      "22641646\n",
      "22641646\n",
      "22641646\n",
      "(22641646, 12)\n",
      "(22641646, 11)\n"
     ]
    },
    {
     "data": {
      "text/plain": [
       "True"
      ]
     },
     "execution_count": 41,
     "metadata": {},
     "output_type": "execute_result"
    }
   ],
   "source": [
    "print(len(DF))\n",
    "print(len(DF65i1))\n",
    "print(len(DF65i0))\n",
    "print(DF65i1.shape)\n",
    "print(DF65i0.shape)\n",
    "#print(DF==DF63) actually this gives a ValueError: \n",
    "\n",
    "    # can only compare identically labeled DataFrame objects\n",
    "    \n",
    "    # DF63 has an \"index\" column added ...\n",
    "#print(DF==DF65i0) \n",
    "    # but this still doesn't work either\n",
    "    \n",
    "# perhaps it's because the index values changed. Original DeDuping did not re-number rows.\n",
    "#print(DF.tail(2))\n",
    "#print(DF65i0.tail(2))\n",
    "\n",
    "all(DF.loc[22660325] == DF65i0.loc[22641644])\n"
   ]
  },
  {
   "cell_type": "code",
   "execution_count": 39,
   "metadata": {
    "collapsed": false
   },
   "outputs": [
    {
     "data": {
      "text/html": [
       "<div>\n",
       "<table border=\"1\" class=\"dataframe\">\n",
       "  <thead>\n",
       "    <tr style=\"text-align: right;\">\n",
       "      <th></th>\n",
       "      <th>index</th>\n",
       "      <th>Duration</th>\n",
       "      <th>Start date</th>\n",
       "      <th>End date</th>\n",
       "      <th>Start station number</th>\n",
       "      <th>Start station</th>\n",
       "      <th>End station number</th>\n",
       "      <th>End station</th>\n",
       "      <th>Bike number</th>\n",
       "      <th>Member type</th>\n",
       "      <th>Start time</th>\n",
       "      <th>End time</th>\n",
       "    </tr>\n",
       "  </thead>\n",
       "  <tbody>\n",
       "    <tr>\n",
       "      <th>0</th>\n",
       "      <td>0</td>\n",
       "      <td>1012</td>\n",
       "      <td>2010-09-20 11:27:04</td>\n",
       "      <td>2010-09-20 11:43:56</td>\n",
       "      <td>31208</td>\n",
       "      <td>M St &amp; New Jersey Ave SE</td>\n",
       "      <td>31108</td>\n",
       "      <td>4th &amp; M St SW</td>\n",
       "      <td>W00742</td>\n",
       "      <td>Member</td>\n",
       "      <td>1.284996e+09</td>\n",
       "      <td>1.284997e+09</td>\n",
       "    </tr>\n",
       "    <tr>\n",
       "      <th>1</th>\n",
       "      <td>1</td>\n",
       "      <td>61</td>\n",
       "      <td>2010-09-20 11:41:22</td>\n",
       "      <td>2010-09-20 11:42:23</td>\n",
       "      <td>31209</td>\n",
       "      <td>1st &amp; N St  SE</td>\n",
       "      <td>31209</td>\n",
       "      <td>1st &amp; N St  SE</td>\n",
       "      <td>W00032</td>\n",
       "      <td>Member</td>\n",
       "      <td>1.284997e+09</td>\n",
       "      <td>1.284997e+09</td>\n",
       "    </tr>\n",
       "    <tr>\n",
       "      <th>2</th>\n",
       "      <td>2</td>\n",
       "      <td>2690</td>\n",
       "      <td>2010-09-20 12:05:37</td>\n",
       "      <td>2010-09-20 12:50:27</td>\n",
       "      <td>31600</td>\n",
       "      <td>5th &amp; K St NW</td>\n",
       "      <td>31100</td>\n",
       "      <td>19th St &amp; Pennsylvania Ave NW</td>\n",
       "      <td>W00993</td>\n",
       "      <td>Member</td>\n",
       "      <td>1.284999e+09</td>\n",
       "      <td>1.285001e+09</td>\n",
       "    </tr>\n",
       "    <tr>\n",
       "      <th>3</th>\n",
       "      <td>3</td>\n",
       "      <td>1406</td>\n",
       "      <td>2010-09-20 12:06:05</td>\n",
       "      <td>2010-09-20 12:29:32</td>\n",
       "      <td>31600</td>\n",
       "      <td>5th &amp; K St NW</td>\n",
       "      <td>31602</td>\n",
       "      <td>Park Rd &amp; Holmead Pl NW</td>\n",
       "      <td>W00344</td>\n",
       "      <td>Member</td>\n",
       "      <td>1.284999e+09</td>\n",
       "      <td>1.285000e+09</td>\n",
       "    </tr>\n",
       "    <tr>\n",
       "      <th>4</th>\n",
       "      <td>4</td>\n",
       "      <td>1413</td>\n",
       "      <td>2010-09-20 12:10:43</td>\n",
       "      <td>2010-09-20 12:34:17</td>\n",
       "      <td>31100</td>\n",
       "      <td>19th St &amp; Pennsylvania Ave NW</td>\n",
       "      <td>31201</td>\n",
       "      <td>15th &amp; P St NW</td>\n",
       "      <td>W00883</td>\n",
       "      <td>Member</td>\n",
       "      <td>1.284999e+09</td>\n",
       "      <td>1.285000e+09</td>\n",
       "    </tr>\n",
       "  </tbody>\n",
       "</table>\n",
       "</div>"
      ],
      "text/plain": [
       "   index  Duration           Start date             End date  \\\n",
       "0      0      1012  2010-09-20 11:27:04  2010-09-20 11:43:56   \n",
       "1      1        61  2010-09-20 11:41:22  2010-09-20 11:42:23   \n",
       "2      2      2690  2010-09-20 12:05:37  2010-09-20 12:50:27   \n",
       "3      3      1406  2010-09-20 12:06:05  2010-09-20 12:29:32   \n",
       "4      4      1413  2010-09-20 12:10:43  2010-09-20 12:34:17   \n",
       "\n",
       "   Start station number                  Start station  End station number  \\\n",
       "0                 31208       M St & New Jersey Ave SE               31108   \n",
       "1                 31209                 1st & N St  SE               31209   \n",
       "2                 31600                  5th & K St NW               31100   \n",
       "3                 31600                  5th & K St NW               31602   \n",
       "4                 31100  19th St & Pennsylvania Ave NW               31201   \n",
       "\n",
       "                     End station Bike number Member type    Start time  \\\n",
       "0                  4th & M St SW      W00742      Member  1.284996e+09   \n",
       "1                 1st & N St  SE      W00032      Member  1.284997e+09   \n",
       "2  19th St & Pennsylvania Ave NW      W00993      Member  1.284999e+09   \n",
       "3        Park Rd & Holmead Pl NW      W00344      Member  1.284999e+09   \n",
       "4                 15th & P St NW      W00883      Member  1.284999e+09   \n",
       "\n",
       "       End time  \n",
       "0  1.284997e+09  \n",
       "1  1.284997e+09  \n",
       "2  1.285001e+09  \n",
       "3  1.285000e+09  \n",
       "4  1.285000e+09  "
      ]
     },
     "execution_count": 39,
     "metadata": {},
     "output_type": "execute_result"
    }
   ],
   "source": [
    "DF63.head()"
   ]
  },
  {
   "cell_type": "code",
   "execution_count": null,
   "metadata": {
    "collapsed": true
   },
   "outputs": [],
   "source": []
  },
  {
   "cell_type": "code",
   "execution_count": null,
   "metadata": {
    "collapsed": true
   },
   "outputs": [],
   "source": []
  },
  {
   "cell_type": "code",
   "execution_count": null,
   "metadata": {
    "collapsed": true
   },
   "outputs": [],
   "source": []
  },
  {
   "cell_type": "code",
   "execution_count": null,
   "metadata": {
    "collapsed": true
   },
   "outputs": [],
   "source": []
  },
  {
   "cell_type": "code",
   "execution_count": null,
   "metadata": {
    "collapsed": false
   },
   "outputs": [],
   "source": [
    "DF.iloc[19536692:19536694]"
   ]
  },
  {
   "cell_type": "code",
   "execution_count": null,
   "metadata": {
    "collapsed": false
   },
   "outputs": [],
   "source": [
    "print(DF.loc[22312349:22312351,['Start date','Start time']])\n",
    "print(DF.loc[19536692:19536694,['Start date','Start time']])"
   ]
  },
  {
   "cell_type": "code",
   "execution_count": null,
   "metadata": {
    "collapsed": false
   },
   "outputs": [],
   "source": [
    "print(DF['Start time'].iloc[22312350]-DF['Start time'].iloc[22312349])\n",
    "print(DF['Start time'].iloc[19536693]-DF['Start time'].iloc[19536692])\n",
    "# Nov: python automatically assumes that anything listed in the 1am hour is EST, but anything before is EDT\n",
    "# Mar: python automatically assumes that 3am is EDT, 1am is EST. So only 5.5 minutes between timestamps 01:56:38 and 03:02:09\n",
    "\n",
    "# i.e. it automatically includes and accounts for DST in its computations of a unix time stamp"
   ]
  },
  {
   "cell_type": "code",
   "execution_count": null,
   "metadata": {
    "collapsed": true
   },
   "outputs": [],
   "source": []
  },
  {
   "cell_type": "code",
   "execution_count": 10,
   "metadata": {
    "collapsed": true
   },
   "outputs": [],
   "source": [
    "# Okay enough of that\n",
    "# If reading from DB, we will want to move the data into variable 'DF':\n",
    "DF=DF65i0"
   ]
  },
  {
   "cell_type": "code",
   "execution_count": null,
   "metadata": {
    "collapsed": true
   },
   "outputs": [],
   "source": []
  },
  {
   "cell_type": "code",
   "execution_count": null,
   "metadata": {
    "collapsed": true
   },
   "outputs": [],
   "source": []
  },
  {
   "cell_type": "code",
   "execution_count": null,
   "metadata": {
    "collapsed": true
   },
   "outputs": [],
   "source": []
  },
  {
   "cell_type": "code",
   "execution_count": null,
   "metadata": {
    "collapsed": true
   },
   "outputs": [],
   "source": []
  },
  {
   "cell_type": "code",
   "execution_count": null,
   "metadata": {
    "collapsed": true
   },
   "outputs": [],
   "source": []
  },
  {
   "cell_type": "code",
   "execution_count": null,
   "metadata": {
    "collapsed": true
   },
   "outputs": [],
   "source": []
  },
  {
   "cell_type": "code",
   "execution_count": null,
   "metadata": {
    "collapsed": true
   },
   "outputs": [],
   "source": []
  },
  {
   "cell_type": "code",
   "execution_count": null,
   "metadata": {
    "collapsed": true
   },
   "outputs": [],
   "source": []
  },
  {
   "cell_type": "code",
   "execution_count": null,
   "metadata": {
    "collapsed": true
   },
   "outputs": [],
   "source": []
  },
  {
   "cell_type": "code",
   "execution_count": 11,
   "metadata": {
    "collapsed": false
   },
   "outputs": [
    {
     "data": {
      "text/plain": [
       "u'C:\\\\Users\\\\rek\\\\Desktop\\\\GH\\\\cabi'"
      ]
     },
     "execution_count": 11,
     "metadata": {},
     "output_type": "execute_result"
    }
   ],
   "source": [
    "pwd"
   ]
  },
  {
   "cell_type": "code",
   "execution_count": 12,
   "metadata": {
    "collapsed": false
   },
   "outputs": [
    {
     "name": "stderr",
     "output_type": "stream",
     "text": [
      "C:\\Users\\rek\\Desktop\\sw\\Anaconda\\lib\\site-packages\\IPython\\core\\interactiveshell.py:2717: DtypeWarning: Columns (22,27,39) have mixed types. Specify dtype option on import or set low_memory=False.\n",
      "  interactivity=interactivity, compiler=compiler, result=result)\n"
     ]
    }
   ],
   "source": [
    "W = pd.read_csv('KDCA_mesowest_2010-2018.csv',header=6,skiprows=[7])"
   ]
  },
  {
   "cell_type": "code",
   "execution_count": 13,
   "metadata": {
    "collapsed": false
   },
   "outputs": [
    {
     "data": {
      "text/html": [
       "<div>\n",
       "<table border=\"1\" class=\"dataframe\">\n",
       "  <thead>\n",
       "    <tr style=\"text-align: right;\">\n",
       "      <th></th>\n",
       "      <th>Station_ID</th>\n",
       "      <th>Date_Time</th>\n",
       "      <th>altimeter_set_1</th>\n",
       "      <th>air_temp_set_1</th>\n",
       "      <th>dew_point_temperature_set_1</th>\n",
       "      <th>relative_humidity_set_1</th>\n",
       "      <th>wind_speed_set_1</th>\n",
       "      <th>wind_direction_set_1</th>\n",
       "      <th>wind_gust_set_1</th>\n",
       "      <th>snow_depth_set_1</th>\n",
       "      <th>...</th>\n",
       "      <th>peak_wind_direction_set_1</th>\n",
       "      <th>dew_point_temperature_set_1d</th>\n",
       "      <th>wind_chill_set_1d</th>\n",
       "      <th>wind_cardinal_direction_set_1d</th>\n",
       "      <th>pressure_set_1d</th>\n",
       "      <th>sea_level_pressure_set_1d</th>\n",
       "      <th>heat_index_set_1d</th>\n",
       "      <th>weather_condition_set_1d</th>\n",
       "      <th>Unnamed: 38</th>\n",
       "      <th>Unnamed: 39</th>\n",
       "    </tr>\n",
       "  </thead>\n",
       "  <tbody>\n",
       "    <tr>\n",
       "      <th>0</th>\n",
       "      <td>KDCA</td>\n",
       "      <td>12/30/2009 03:52 EST</td>\n",
       "      <td>30.50</td>\n",
       "      <td>24.08</td>\n",
       "      <td>NaN</td>\n",
       "      <td>51.83</td>\n",
       "      <td>3.44</td>\n",
       "      <td>340.0</td>\n",
       "      <td>NaN</td>\n",
       "      <td>NaN</td>\n",
       "      <td>...</td>\n",
       "      <td>NaN</td>\n",
       "      <td>8.74</td>\n",
       "      <td>NaN</td>\n",
       "      <td>NNW</td>\n",
       "      <td>30.49</td>\n",
       "      <td>30.50</td>\n",
       "      <td>NaN</td>\n",
       "      <td>Clear</td>\n",
       "      <td>NaN</td>\n",
       "      <td>NaN</td>\n",
       "    </tr>\n",
       "    <tr>\n",
       "      <th>1</th>\n",
       "      <td>KDCA</td>\n",
       "      <td>12/30/2009 04:52 EST</td>\n",
       "      <td>30.51</td>\n",
       "      <td>24.08</td>\n",
       "      <td>NaN</td>\n",
       "      <td>51.83</td>\n",
       "      <td>3.44</td>\n",
       "      <td>290.0</td>\n",
       "      <td>NaN</td>\n",
       "      <td>NaN</td>\n",
       "      <td>...</td>\n",
       "      <td>NaN</td>\n",
       "      <td>8.74</td>\n",
       "      <td>NaN</td>\n",
       "      <td>WNW</td>\n",
       "      <td>30.50</td>\n",
       "      <td>30.51</td>\n",
       "      <td>NaN</td>\n",
       "      <td>Mostly Cloudy</td>\n",
       "      <td>NaN</td>\n",
       "      <td>NaN</td>\n",
       "    </tr>\n",
       "    <tr>\n",
       "      <th>2</th>\n",
       "      <td>KDCA</td>\n",
       "      <td>12/30/2009 05:52 EST</td>\n",
       "      <td>30.52</td>\n",
       "      <td>24.08</td>\n",
       "      <td>NaN</td>\n",
       "      <td>51.83</td>\n",
       "      <td>4.61</td>\n",
       "      <td>280.0</td>\n",
       "      <td>NaN</td>\n",
       "      <td>NaN</td>\n",
       "      <td>...</td>\n",
       "      <td>NaN</td>\n",
       "      <td>8.74</td>\n",
       "      <td>NaN</td>\n",
       "      <td>W</td>\n",
       "      <td>30.51</td>\n",
       "      <td>30.52</td>\n",
       "      <td>NaN</td>\n",
       "      <td>Overcast</td>\n",
       "      <td>NaN</td>\n",
       "      <td>NaN</td>\n",
       "    </tr>\n",
       "    <tr>\n",
       "      <th>3</th>\n",
       "      <td>KDCA</td>\n",
       "      <td>12/30/2009 06:52 EST</td>\n",
       "      <td>30.52</td>\n",
       "      <td>24.08</td>\n",
       "      <td>NaN</td>\n",
       "      <td>54.41</td>\n",
       "      <td>8.05</td>\n",
       "      <td>340.0</td>\n",
       "      <td>NaN</td>\n",
       "      <td>NaN</td>\n",
       "      <td>...</td>\n",
       "      <td>NaN</td>\n",
       "      <td>9.83</td>\n",
       "      <td>17.77</td>\n",
       "      <td>NNW</td>\n",
       "      <td>30.51</td>\n",
       "      <td>30.52</td>\n",
       "      <td>NaN</td>\n",
       "      <td>Overcast</td>\n",
       "      <td>NaN</td>\n",
       "      <td>NaN</td>\n",
       "    </tr>\n",
       "    <tr>\n",
       "      <th>4</th>\n",
       "      <td>KDCA</td>\n",
       "      <td>12/30/2009 07:52 EST</td>\n",
       "      <td>30.52</td>\n",
       "      <td>24.98</td>\n",
       "      <td>NaN</td>\n",
       "      <td>52.40</td>\n",
       "      <td>8.05</td>\n",
       "      <td>330.0</td>\n",
       "      <td>NaN</td>\n",
       "      <td>NaN</td>\n",
       "      <td>...</td>\n",
       "      <td>NaN</td>\n",
       "      <td>9.82</td>\n",
       "      <td>18.83</td>\n",
       "      <td>NNW</td>\n",
       "      <td>30.51</td>\n",
       "      <td>30.52</td>\n",
       "      <td>NaN</td>\n",
       "      <td>Overcast</td>\n",
       "      <td>NaN</td>\n",
       "      <td>NaN</td>\n",
       "    </tr>\n",
       "    <tr>\n",
       "      <th>5</th>\n",
       "      <td>KDCA</td>\n",
       "      <td>12/30/2009 08:52 EST</td>\n",
       "      <td>30.51</td>\n",
       "      <td>26.96</td>\n",
       "      <td>NaN</td>\n",
       "      <td>48.27</td>\n",
       "      <td>0.00</td>\n",
       "      <td>0.0</td>\n",
       "      <td>NaN</td>\n",
       "      <td>NaN</td>\n",
       "      <td>...</td>\n",
       "      <td>NaN</td>\n",
       "      <td>9.81</td>\n",
       "      <td>NaN</td>\n",
       "      <td>N</td>\n",
       "      <td>30.50</td>\n",
       "      <td>30.51</td>\n",
       "      <td>NaN</td>\n",
       "      <td>Overcast</td>\n",
       "      <td>NaN</td>\n",
       "      <td>NaN</td>\n",
       "    </tr>\n",
       "    <tr>\n",
       "      <th>6</th>\n",
       "      <td>KDCA</td>\n",
       "      <td>12/30/2009 09:52 EST</td>\n",
       "      <td>30.52</td>\n",
       "      <td>28.04</td>\n",
       "      <td>NaN</td>\n",
       "      <td>46.16</td>\n",
       "      <td>3.44</td>\n",
       "      <td>80.0</td>\n",
       "      <td>NaN</td>\n",
       "      <td>NaN</td>\n",
       "      <td>...</td>\n",
       "      <td>NaN</td>\n",
       "      <td>9.80</td>\n",
       "      <td>NaN</td>\n",
       "      <td>E</td>\n",
       "      <td>30.51</td>\n",
       "      <td>30.52</td>\n",
       "      <td>NaN</td>\n",
       "      <td>Overcast</td>\n",
       "      <td>NaN</td>\n",
       "      <td>NaN</td>\n",
       "    </tr>\n",
       "    <tr>\n",
       "      <th>7</th>\n",
       "      <td>KDCA</td>\n",
       "      <td>12/30/2009 10:52 EST</td>\n",
       "      <td>30.53</td>\n",
       "      <td>28.94</td>\n",
       "      <td>NaN</td>\n",
       "      <td>48.60</td>\n",
       "      <td>4.61</td>\n",
       "      <td>170.0</td>\n",
       "      <td>NaN</td>\n",
       "      <td>NaN</td>\n",
       "      <td>...</td>\n",
       "      <td>NaN</td>\n",
       "      <td>11.79</td>\n",
       "      <td>NaN</td>\n",
       "      <td>S</td>\n",
       "      <td>30.52</td>\n",
       "      <td>30.53</td>\n",
       "      <td>NaN</td>\n",
       "      <td>Overcast</td>\n",
       "      <td>NaN</td>\n",
       "      <td>NaN</td>\n",
       "    </tr>\n",
       "    <tr>\n",
       "      <th>8</th>\n",
       "      <td>KDCA</td>\n",
       "      <td>12/30/2009 11:52 EST</td>\n",
       "      <td>30.49</td>\n",
       "      <td>30.02</td>\n",
       "      <td>NaN</td>\n",
       "      <td>44.32</td>\n",
       "      <td>6.91</td>\n",
       "      <td>170.0</td>\n",
       "      <td>NaN</td>\n",
       "      <td>NaN</td>\n",
       "      <td>...</td>\n",
       "      <td>NaN</td>\n",
       "      <td>10.69</td>\n",
       "      <td>NaN</td>\n",
       "      <td>S</td>\n",
       "      <td>30.48</td>\n",
       "      <td>30.49</td>\n",
       "      <td>NaN</td>\n",
       "      <td>Overcast</td>\n",
       "      <td>NaN</td>\n",
       "      <td>NaN</td>\n",
       "    </tr>\n",
       "    <tr>\n",
       "      <th>9</th>\n",
       "      <td>KDCA</td>\n",
       "      <td>12/30/2009 12:52 EST</td>\n",
       "      <td>30.47</td>\n",
       "      <td>30.02</td>\n",
       "      <td>NaN</td>\n",
       "      <td>48.40</td>\n",
       "      <td>8.05</td>\n",
       "      <td>180.0</td>\n",
       "      <td>NaN</td>\n",
       "      <td>NaN</td>\n",
       "      <td>...</td>\n",
       "      <td>NaN</td>\n",
       "      <td>12.69</td>\n",
       "      <td>24.75</td>\n",
       "      <td>S</td>\n",
       "      <td>30.46</td>\n",
       "      <td>30.47</td>\n",
       "      <td>NaN</td>\n",
       "      <td>Overcast</td>\n",
       "      <td>NaN</td>\n",
       "      <td>NaN</td>\n",
       "    </tr>\n",
       "  </tbody>\n",
       "</table>\n",
       "<p>10 rows × 40 columns</p>\n",
       "</div>"
      ],
      "text/plain": [
       "  Station_ID             Date_Time  altimeter_set_1  air_temp_set_1  \\\n",
       "0       KDCA  12/30/2009 03:52 EST            30.50           24.08   \n",
       "1       KDCA  12/30/2009 04:52 EST            30.51           24.08   \n",
       "2       KDCA  12/30/2009 05:52 EST            30.52           24.08   \n",
       "3       KDCA  12/30/2009 06:52 EST            30.52           24.08   \n",
       "4       KDCA  12/30/2009 07:52 EST            30.52           24.98   \n",
       "5       KDCA  12/30/2009 08:52 EST            30.51           26.96   \n",
       "6       KDCA  12/30/2009 09:52 EST            30.52           28.04   \n",
       "7       KDCA  12/30/2009 10:52 EST            30.53           28.94   \n",
       "8       KDCA  12/30/2009 11:52 EST            30.49           30.02   \n",
       "9       KDCA  12/30/2009 12:52 EST            30.47           30.02   \n",
       "\n",
       "   dew_point_temperature_set_1  relative_humidity_set_1  wind_speed_set_1  \\\n",
       "0                          NaN                    51.83              3.44   \n",
       "1                          NaN                    51.83              3.44   \n",
       "2                          NaN                    51.83              4.61   \n",
       "3                          NaN                    54.41              8.05   \n",
       "4                          NaN                    52.40              8.05   \n",
       "5                          NaN                    48.27              0.00   \n",
       "6                          NaN                    46.16              3.44   \n",
       "7                          NaN                    48.60              4.61   \n",
       "8                          NaN                    44.32              6.91   \n",
       "9                          NaN                    48.40              8.05   \n",
       "\n",
       "   wind_direction_set_1  wind_gust_set_1  snow_depth_set_1     ...       \\\n",
       "0                 340.0              NaN               NaN     ...        \n",
       "1                 290.0              NaN               NaN     ...        \n",
       "2                 280.0              NaN               NaN     ...        \n",
       "3                 340.0              NaN               NaN     ...        \n",
       "4                 330.0              NaN               NaN     ...        \n",
       "5                   0.0              NaN               NaN     ...        \n",
       "6                  80.0              NaN               NaN     ...        \n",
       "7                 170.0              NaN               NaN     ...        \n",
       "8                 170.0              NaN               NaN     ...        \n",
       "9                 180.0              NaN               NaN     ...        \n",
       "\n",
       "   peak_wind_direction_set_1  dew_point_temperature_set_1d  wind_chill_set_1d  \\\n",
       "0                        NaN                          8.74                NaN   \n",
       "1                        NaN                          8.74                NaN   \n",
       "2                        NaN                          8.74                NaN   \n",
       "3                        NaN                          9.83              17.77   \n",
       "4                        NaN                          9.82              18.83   \n",
       "5                        NaN                          9.81                NaN   \n",
       "6                        NaN                          9.80                NaN   \n",
       "7                        NaN                         11.79                NaN   \n",
       "8                        NaN                         10.69                NaN   \n",
       "9                        NaN                         12.69              24.75   \n",
       "\n",
       "   wind_cardinal_direction_set_1d  pressure_set_1d  sea_level_pressure_set_1d  \\\n",
       "0                             NNW            30.49                      30.50   \n",
       "1                             WNW            30.50                      30.51   \n",
       "2                               W            30.51                      30.52   \n",
       "3                             NNW            30.51                      30.52   \n",
       "4                             NNW            30.51                      30.52   \n",
       "5                               N            30.50                      30.51   \n",
       "6                               E            30.51                      30.52   \n",
       "7                               S            30.52                      30.53   \n",
       "8                               S            30.48                      30.49   \n",
       "9                               S            30.46                      30.47   \n",
       "\n",
       "   heat_index_set_1d  weather_condition_set_1d  Unnamed: 38  Unnamed: 39  \n",
       "0                NaN                     Clear          NaN          NaN  \n",
       "1                NaN             Mostly Cloudy          NaN          NaN  \n",
       "2                NaN                  Overcast          NaN          NaN  \n",
       "3                NaN                  Overcast          NaN          NaN  \n",
       "4                NaN                  Overcast          NaN          NaN  \n",
       "5                NaN                  Overcast          NaN          NaN  \n",
       "6                NaN                  Overcast          NaN          NaN  \n",
       "7                NaN                  Overcast          NaN          NaN  \n",
       "8                NaN                  Overcast          NaN          NaN  \n",
       "9                NaN                  Overcast          NaN          NaN  \n",
       "\n",
       "[10 rows x 40 columns]"
      ]
     },
     "execution_count": 13,
     "metadata": {},
     "output_type": "execute_result"
    }
   ],
   "source": [
    "W.head(10)"
   ]
  },
  {
   "cell_type": "code",
   "execution_count": 14,
   "metadata": {
    "collapsed": false
   },
   "outputs": [
    {
     "data": {
      "text/plain": [
       "(355730, 40)"
      ]
     },
     "execution_count": 14,
     "metadata": {},
     "output_type": "execute_result"
    }
   ],
   "source": [
    "W.shape"
   ]
  },
  {
   "cell_type": "code",
   "execution_count": 15,
   "metadata": {
    "collapsed": false
   },
   "outputs": [
    {
     "data": {
      "text/plain": [
       "Index([u'Station_ID', u'Date_Time', u'altimeter_set_1', u'air_temp_set_1',\n",
       "       u'dew_point_temperature_set_1', u'relative_humidity_set_1',\n",
       "       u'wind_speed_set_1', u'wind_direction_set_1', u'wind_gust_set_1',\n",
       "       u'snow_depth_set_1', u'sea_level_pressure_set_1',\n",
       "       u'weather_cond_code_set_1', u'cloud_layer_3_code_set_1',\n",
       "       u'pressure_tendency_set_1', u'precip_accum_one_hour_set_1',\n",
       "       u'precip_accum_three_hour_set_1', u'cloud_layer_1_code_set_1',\n",
       "       u'cloud_layer_2_code_set_1', u'precip_accum_six_hour_set_1',\n",
       "       u'precip_accum_24_hour_set_1', u'visibility_set_1',\n",
       "       u'metar_remark_set_1', u'metar_set_1', u'air_temp_high_6_hour_set_1',\n",
       "       u'air_temp_low_6_hour_set_1', u'peak_wind_speed_set_1',\n",
       "       u'ceiling_set_1', u'pressure_change_code_set_1',\n",
       "       u'air_temp_high_24_hour_set_1', u'air_temp_low_24_hour_set_1',\n",
       "       u'peak_wind_direction_set_1', u'dew_point_temperature_set_1d',\n",
       "       u'wind_chill_set_1d', u'wind_cardinal_direction_set_1d',\n",
       "       u'pressure_set_1d', u'sea_level_pressure_set_1d', u'heat_index_set_1d',\n",
       "       u'weather_condition_set_1d', u'Unnamed: 38', u'Unnamed: 39'],\n",
       "      dtype='object')"
      ]
     },
     "execution_count": 15,
     "metadata": {},
     "output_type": "execute_result"
    }
   ],
   "source": [
    "W.columns"
   ]
  },
  {
   "cell_type": "code",
   "execution_count": 16,
   "metadata": {
    "collapsed": false
   },
   "outputs": [
    {
     "name": "stdout",
     "output_type": "stream",
     "text": [
      "Station_ID:    object\n",
      "Date_Time:    object\n",
      "altimeter_set_1:    float64\n",
      "air_temp_set_1:    float64\n",
      "dew_point_temperature_set_1:    float64\n",
      "relative_humidity_set_1:    float64\n",
      "wind_speed_set_1:    float64\n",
      "wind_direction_set_1:    float64\n",
      "wind_gust_set_1:    float64\n",
      "snow_depth_set_1:    float64\n",
      "sea_level_pressure_set_1:    float64\n",
      "weather_cond_code_set_1:    float64\n",
      "cloud_layer_3_code_set_1:    float64\n",
      "pressure_tendency_set_1:    float64\n",
      "precip_accum_one_hour_set_1:    float64\n",
      "precip_accum_three_hour_set_1:    float64\n",
      "cloud_layer_1_code_set_1:    float64\n",
      "cloud_layer_2_code_set_1:    float64\n",
      "precip_accum_six_hour_set_1:    float64\n",
      "precip_accum_24_hour_set_1:    float64\n",
      "visibility_set_1:    float64\n",
      "metar_remark_set_1:    float64\n",
      "metar_set_1:    object\n",
      "air_temp_high_6_hour_set_1:    float64\n",
      "air_temp_low_6_hour_set_1:    float64\n",
      "peak_wind_speed_set_1:    float64\n",
      "ceiling_set_1:    float64\n",
      "pressure_change_code_set_1:    object\n",
      "air_temp_high_24_hour_set_1:    float64\n",
      "air_temp_low_24_hour_set_1:    float64\n",
      "peak_wind_direction_set_1:    float64\n",
      "dew_point_temperature_set_1d:    float64\n",
      "wind_chill_set_1d:    float64\n",
      "wind_cardinal_direction_set_1d:    object\n",
      "pressure_set_1d:    float64\n",
      "sea_level_pressure_set_1d:    float64\n",
      "heat_index_set_1d:    float64\n",
      "weather_condition_set_1d:    object\n",
      "Unnamed: 38:    object\n",
      "Unnamed: 39:    object\n"
     ]
    }
   ],
   "source": [
    "for col in W.columns:\n",
    "    print('%s:    %s' % (col,W[col].dtype))"
   ]
  },
  {
   "cell_type": "code",
   "execution_count": 17,
   "metadata": {
    "collapsed": false
   },
   "outputs": [
    {
     "data": {
      "text/plain": [
       "Station_ID                                  KDCA\n",
       "Date_Time                   01/21/2010 20:16 EST\n",
       "weather_condition_set_1d              Light Rain\n",
       "Unnamed: 38                           Light Snow\n",
       "Unnamed: 39                    Light Ice Pellets\n",
       "Name: 652, dtype: object"
      ]
     },
     "execution_count": 17,
     "metadata": {},
     "output_type": "execute_result"
    }
   ],
   "source": [
    "# Unnamed columns 38 and 39 appear to be spillovers from weather_condition_set_1d\n",
    "    # Perhaps the data entered are supposed to be comma-separated strings all in one cell\n",
    "        # Example, row 652\n",
    "                # Looks like mixed precipitation falling into three columns, probably unintentional\n",
    "W.iloc[652,[0,1,37,38,39]]"
   ]
  },
  {
   "cell_type": "code",
   "execution_count": 18,
   "metadata": {
    "collapsed": false,
    "scrolled": true
   },
   "outputs": [
    {
     "name": "stdout",
     "output_type": "stream",
     "text": [
      "['Clear' 'Mostly Cloudy' 'Overcast' 'Light Frz Rain' 'Light Rain' 'Mist'\n",
      " 'Partly Cloudy' 'Mostly Clear' 'Light Snow' 'Snow' 'Rain' 'Heavy Rain'\n",
      " 'Light Drizzle' 'Light Ice Pellets' 'Heavy Snow' 'Haze' 'Frz Rain'\n",
      " 'Light Frz Drizzle' 'Thunderstorm' 'Heavy Rain/Thunderstorm' 'Thunder'\n",
      " 'Light Rain/Thunderstorm' 'Fog' 'Squalls' 'Ice pellets' nan 'Blowing Snow'\n",
      " 'Unknown Precip' 'Ice Fog' 'Heavy Ice Pellets']\n",
      "[nan 'Light Ice Pellets' 'Mist' 'Ice Fog' 'Light Snow' 'Light Rain' 'Fog'\n",
      " 'Blowing Snow' 'Snow' 'Haze' 'Hail' 'Squalls' 'Ice pellets' 'Rain'\n",
      " 'Heavy Hail' 'Heavy Rain']\n",
      "[nan 'Mist' 'Light Snow' 'Light Ice Pellets' 'Rain' 'Squalls' 'Fog'\n",
      " 'Blowing Snow' 'Ice pellets' 'Ice Fog']\n"
     ]
    }
   ],
   "source": [
    "print(W.weather_condition_set_1d.unique())\n",
    "print(W['Unnamed: 38'].unique())\n",
    "print(W['Unnamed: 39'].unique())\n",
    "\n",
    "# unique() appears to sort its entries by order of their first appearance in the pandas Series"
   ]
  },
  {
   "cell_type": "code",
   "execution_count": 19,
   "metadata": {
    "collapsed": false
   },
   "outputs": [
    {
     "data": {
      "text/plain": [
       "336216L"
      ]
     },
     "execution_count": 19,
     "metadata": {},
     "output_type": "execute_result"
    }
   ],
   "source": [
    "W.groupby('weather_condition_set_1d').Station_ID.count().sum()\n",
    "# 19514 rows have no weather condition listed at all\n",
    "    # These rows are ignored by groupby !!!"
   ]
  },
  {
   "cell_type": "code",
   "execution_count": 20,
   "metadata": {
    "collapsed": false
   },
   "outputs": [
    {
     "data": {
      "text/plain": [
       "(19514, 40)"
      ]
     },
     "execution_count": 20,
     "metadata": {},
     "output_type": "execute_result"
    }
   ],
   "source": [
    "(W[W.weather_condition_set_1d.isnull()]).shape"
   ]
  },
  {
   "cell_type": "code",
   "execution_count": 21,
   "metadata": {
    "collapsed": false
   },
   "outputs": [
    {
     "data": {
      "text/html": [
       "<div>\n",
       "<table border=\"1\" class=\"dataframe\">\n",
       "  <thead>\n",
       "    <tr style=\"text-align: right;\">\n",
       "      <th></th>\n",
       "      <th>Station_ID</th>\n",
       "      <th>Date_Time</th>\n",
       "      <th>altimeter_set_1</th>\n",
       "      <th>air_temp_set_1</th>\n",
       "      <th>dew_point_temperature_set_1</th>\n",
       "      <th>relative_humidity_set_1</th>\n",
       "      <th>wind_speed_set_1</th>\n",
       "      <th>wind_direction_set_1</th>\n",
       "      <th>wind_gust_set_1</th>\n",
       "      <th>snow_depth_set_1</th>\n",
       "      <th>...</th>\n",
       "      <th>peak_wind_direction_set_1</th>\n",
       "      <th>dew_point_temperature_set_1d</th>\n",
       "      <th>wind_chill_set_1d</th>\n",
       "      <th>wind_cardinal_direction_set_1d</th>\n",
       "      <th>pressure_set_1d</th>\n",
       "      <th>sea_level_pressure_set_1d</th>\n",
       "      <th>heat_index_set_1d</th>\n",
       "      <th>weather_condition_set_1d</th>\n",
       "      <th>Unnamed: 38</th>\n",
       "      <th>Unnamed: 39</th>\n",
       "    </tr>\n",
       "  </thead>\n",
       "  <tbody>\n",
       "    <tr>\n",
       "      <th>14681</th>\n",
       "      <td>KDCA</td>\n",
       "      <td>05/13/2011 15:18 EDT</td>\n",
       "      <td>29.84</td>\n",
       "      <td>64.40</td>\n",
       "      <td>NaN</td>\n",
       "      <td>82.65</td>\n",
       "      <td>11.50</td>\n",
       "      <td>150.0</td>\n",
       "      <td>NaN</td>\n",
       "      <td>NaN</td>\n",
       "      <td>...</td>\n",
       "      <td>NaN</td>\n",
       "      <td>58.97</td>\n",
       "      <td>NaN</td>\n",
       "      <td>SSE</td>\n",
       "      <td>29.83</td>\n",
       "      <td>29.81</td>\n",
       "      <td>NaN</td>\n",
       "      <td>NaN</td>\n",
       "      <td>NaN</td>\n",
       "      <td>NaN</td>\n",
       "    </tr>\n",
       "    <tr>\n",
       "      <th>24358</th>\n",
       "      <td>KDCA</td>\n",
       "      <td>03/29/2012 01:52 EDT</td>\n",
       "      <td>29.69</td>\n",
       "      <td>69.98</td>\n",
       "      <td>NaN</td>\n",
       "      <td>27.66</td>\n",
       "      <td>12.66</td>\n",
       "      <td>300.0</td>\n",
       "      <td>23.02</td>\n",
       "      <td>NaN</td>\n",
       "      <td>...</td>\n",
       "      <td>NaN</td>\n",
       "      <td>34.99</td>\n",
       "      <td>NaN</td>\n",
       "      <td>WNW</td>\n",
       "      <td>29.68</td>\n",
       "      <td>29.68</td>\n",
       "      <td>NaN</td>\n",
       "      <td>NaN</td>\n",
       "      <td>NaN</td>\n",
       "      <td>NaN</td>\n",
       "    </tr>\n",
       "    <tr>\n",
       "      <th>29739</th>\n",
       "      <td>KDCA</td>\n",
       "      <td>10/02/2012 22:52 EDT</td>\n",
       "      <td>29.95</td>\n",
       "      <td>71.06</td>\n",
       "      <td>NaN</td>\n",
       "      <td>93.48</td>\n",
       "      <td>3.44</td>\n",
       "      <td>60.0</td>\n",
       "      <td>NaN</td>\n",
       "      <td>NaN</td>\n",
       "      <td>...</td>\n",
       "      <td>NaN</td>\n",
       "      <td>69.07</td>\n",
       "      <td>NaN</td>\n",
       "      <td>ENE</td>\n",
       "      <td>29.94</td>\n",
       "      <td>29.91</td>\n",
       "      <td>NaN</td>\n",
       "      <td>NaN</td>\n",
       "      <td>NaN</td>\n",
       "      <td>NaN</td>\n",
       "    </tr>\n",
       "    <tr>\n",
       "      <th>43108</th>\n",
       "      <td>KDCA</td>\n",
       "      <td>12/25/2013 01:52 EST</td>\n",
       "      <td>30.50</td>\n",
       "      <td>24.98</td>\n",
       "      <td>NaN</td>\n",
       "      <td>47.93</td>\n",
       "      <td>6.91</td>\n",
       "      <td>320.0</td>\n",
       "      <td>NaN</td>\n",
       "      <td>NaN</td>\n",
       "      <td>...</td>\n",
       "      <td>NaN</td>\n",
       "      <td>7.83</td>\n",
       "      <td>NaN</td>\n",
       "      <td>NW</td>\n",
       "      <td>30.49</td>\n",
       "      <td>30.50</td>\n",
       "      <td>NaN</td>\n",
       "      <td>NaN</td>\n",
       "      <td>NaN</td>\n",
       "      <td>NaN</td>\n",
       "    </tr>\n",
       "    <tr>\n",
       "      <th>43111</th>\n",
       "      <td>KDCA</td>\n",
       "      <td>12/25/2013 04:52 EST</td>\n",
       "      <td>30.51</td>\n",
       "      <td>23.00</td>\n",
       "      <td>NaN</td>\n",
       "      <td>53.36</td>\n",
       "      <td>11.50</td>\n",
       "      <td>330.0</td>\n",
       "      <td>NaN</td>\n",
       "      <td>NaN</td>\n",
       "      <td>...</td>\n",
       "      <td>NaN</td>\n",
       "      <td>8.39</td>\n",
       "      <td>14.54</td>\n",
       "      <td>NNW</td>\n",
       "      <td>30.50</td>\n",
       "      <td>30.51</td>\n",
       "      <td>NaN</td>\n",
       "      <td>NaN</td>\n",
       "      <td>NaN</td>\n",
       "      <td>NaN</td>\n",
       "    </tr>\n",
       "  </tbody>\n",
       "</table>\n",
       "<p>5 rows × 40 columns</p>\n",
       "</div>"
      ],
      "text/plain": [
       "      Station_ID             Date_Time  altimeter_set_1  air_temp_set_1  \\\n",
       "14681       KDCA  05/13/2011 15:18 EDT            29.84           64.40   \n",
       "24358       KDCA  03/29/2012 01:52 EDT            29.69           69.98   \n",
       "29739       KDCA  10/02/2012 22:52 EDT            29.95           71.06   \n",
       "43108       KDCA  12/25/2013 01:52 EST            30.50           24.98   \n",
       "43111       KDCA  12/25/2013 04:52 EST            30.51           23.00   \n",
       "\n",
       "       dew_point_temperature_set_1  relative_humidity_set_1  wind_speed_set_1  \\\n",
       "14681                          NaN                    82.65             11.50   \n",
       "24358                          NaN                    27.66             12.66   \n",
       "29739                          NaN                    93.48              3.44   \n",
       "43108                          NaN                    47.93              6.91   \n",
       "43111                          NaN                    53.36             11.50   \n",
       "\n",
       "       wind_direction_set_1  wind_gust_set_1  snow_depth_set_1     ...       \\\n",
       "14681                 150.0              NaN               NaN     ...        \n",
       "24358                 300.0            23.02               NaN     ...        \n",
       "29739                  60.0              NaN               NaN     ...        \n",
       "43108                 320.0              NaN               NaN     ...        \n",
       "43111                 330.0              NaN               NaN     ...        \n",
       "\n",
       "       peak_wind_direction_set_1  dew_point_temperature_set_1d  \\\n",
       "14681                        NaN                         58.97   \n",
       "24358                        NaN                         34.99   \n",
       "29739                        NaN                         69.07   \n",
       "43108                        NaN                          7.83   \n",
       "43111                        NaN                          8.39   \n",
       "\n",
       "       wind_chill_set_1d  wind_cardinal_direction_set_1d  pressure_set_1d  \\\n",
       "14681                NaN                             SSE            29.83   \n",
       "24358                NaN                             WNW            29.68   \n",
       "29739                NaN                             ENE            29.94   \n",
       "43108                NaN                              NW            30.49   \n",
       "43111              14.54                             NNW            30.50   \n",
       "\n",
       "       sea_level_pressure_set_1d  heat_index_set_1d  weather_condition_set_1d  \\\n",
       "14681                      29.81                NaN                       NaN   \n",
       "24358                      29.68                NaN                       NaN   \n",
       "29739                      29.91                NaN                       NaN   \n",
       "43108                      30.50                NaN                       NaN   \n",
       "43111                      30.51                NaN                       NaN   \n",
       "\n",
       "       Unnamed: 38  Unnamed: 39  \n",
       "14681          NaN          NaN  \n",
       "24358          NaN          NaN  \n",
       "29739          NaN          NaN  \n",
       "43108          NaN          NaN  \n",
       "43111          NaN          NaN  \n",
       "\n",
       "[5 rows x 40 columns]"
      ]
     },
     "execution_count": 21,
     "metadata": {},
     "output_type": "execute_result"
    }
   ],
   "source": [
    "(W[W.weather_condition_set_1d.isnull()]).head()"
   ]
  },
  {
   "cell_type": "code",
   "execution_count": 22,
   "metadata": {
    "collapsed": false
   },
   "outputs": [
    {
     "name": "stdout",
     "output_type": "stream",
     "text": [
      "(8015, 40)\n",
      "(19514, 40)\n"
     ]
    }
   ],
   "source": [
    "nullTemps = W[W.air_temp_set_1.isnull()]\n",
    "print(nullTemps.shape)\n",
    "nullWeatherCondition = W[W.weather_condition_set_1d.isnull()]\n",
    "print(nullWeatherCondition.shape)"
   ]
  },
  {
   "cell_type": "code",
   "execution_count": 37,
   "metadata": {
    "collapsed": false
   },
   "outputs": [
    {
     "data": {
      "text/html": [
       "<div>\n",
       "<table border=\"1\" class=\"dataframe\">\n",
       "  <thead>\n",
       "    <tr style=\"text-align: right;\">\n",
       "      <th></th>\n",
       "      <th>Station_ID</th>\n",
       "      <th>Date_Time</th>\n",
       "      <th>altimeter_set_1</th>\n",
       "      <th>air_temp_set_1</th>\n",
       "      <th>dew_point_temperature_set_1</th>\n",
       "      <th>relative_humidity_set_1</th>\n",
       "      <th>wind_speed_set_1</th>\n",
       "      <th>wind_direction_set_1</th>\n",
       "      <th>wind_gust_set_1</th>\n",
       "      <th>snow_depth_set_1</th>\n",
       "      <th>...</th>\n",
       "      <th>peak_wind_direction_set_1</th>\n",
       "      <th>dew_point_temperature_set_1d</th>\n",
       "      <th>wind_chill_set_1d</th>\n",
       "      <th>wind_cardinal_direction_set_1d</th>\n",
       "      <th>pressure_set_1d</th>\n",
       "      <th>sea_level_pressure_set_1d</th>\n",
       "      <th>heat_index_set_1d</th>\n",
       "      <th>weather_condition_set_1d</th>\n",
       "      <th>Unnamed: 38</th>\n",
       "      <th>Unnamed: 39</th>\n",
       "    </tr>\n",
       "  </thead>\n",
       "  <tbody>\n",
       "    <tr>\n",
       "      <th>349424</th>\n",
       "      <td>KDCA</td>\n",
       "      <td>12/11/2018 11:15 EST</td>\n",
       "      <td>NaN</td>\n",
       "      <td>NaN</td>\n",
       "      <td>NaN</td>\n",
       "      <td>NaN</td>\n",
       "      <td>NaN</td>\n",
       "      <td>NaN</td>\n",
       "      <td>NaN</td>\n",
       "      <td>NaN</td>\n",
       "      <td>...</td>\n",
       "      <td>NaN</td>\n",
       "      <td>NaN</td>\n",
       "      <td>NaN</td>\n",
       "      <td>NaN</td>\n",
       "      <td>NaN</td>\n",
       "      <td>NaN</td>\n",
       "      <td>NaN</td>\n",
       "      <td>NaN</td>\n",
       "      <td>NaN</td>\n",
       "      <td>NaN</td>\n",
       "    </tr>\n",
       "    <tr>\n",
       "      <th>349431</th>\n",
       "      <td>KDCA</td>\n",
       "      <td>12/11/2018 11:50 EST</td>\n",
       "      <td>NaN</td>\n",
       "      <td>NaN</td>\n",
       "      <td>NaN</td>\n",
       "      <td>NaN</td>\n",
       "      <td>NaN</td>\n",
       "      <td>NaN</td>\n",
       "      <td>NaN</td>\n",
       "      <td>NaN</td>\n",
       "      <td>...</td>\n",
       "      <td>NaN</td>\n",
       "      <td>NaN</td>\n",
       "      <td>NaN</td>\n",
       "      <td>NaN</td>\n",
       "      <td>NaN</td>\n",
       "      <td>NaN</td>\n",
       "      <td>NaN</td>\n",
       "      <td>NaN</td>\n",
       "      <td>NaN</td>\n",
       "      <td>NaN</td>\n",
       "    </tr>\n",
       "    <tr>\n",
       "      <th>349433</th>\n",
       "      <td>KDCA</td>\n",
       "      <td>12/11/2018 11:55 EST</td>\n",
       "      <td>NaN</td>\n",
       "      <td>NaN</td>\n",
       "      <td>NaN</td>\n",
       "      <td>NaN</td>\n",
       "      <td>NaN</td>\n",
       "      <td>NaN</td>\n",
       "      <td>NaN</td>\n",
       "      <td>NaN</td>\n",
       "      <td>...</td>\n",
       "      <td>NaN</td>\n",
       "      <td>NaN</td>\n",
       "      <td>NaN</td>\n",
       "      <td>NaN</td>\n",
       "      <td>NaN</td>\n",
       "      <td>NaN</td>\n",
       "      <td>NaN</td>\n",
       "      <td>NaN</td>\n",
       "      <td>NaN</td>\n",
       "      <td>NaN</td>\n",
       "    </tr>\n",
       "    <tr>\n",
       "      <th>349437</th>\n",
       "      <td>KDCA</td>\n",
       "      <td>12/11/2018 12:15 EST</td>\n",
       "      <td>NaN</td>\n",
       "      <td>NaN</td>\n",
       "      <td>NaN</td>\n",
       "      <td>NaN</td>\n",
       "      <td>NaN</td>\n",
       "      <td>NaN</td>\n",
       "      <td>NaN</td>\n",
       "      <td>NaN</td>\n",
       "      <td>...</td>\n",
       "      <td>NaN</td>\n",
       "      <td>NaN</td>\n",
       "      <td>NaN</td>\n",
       "      <td>NaN</td>\n",
       "      <td>NaN</td>\n",
       "      <td>NaN</td>\n",
       "      <td>NaN</td>\n",
       "      <td>NaN</td>\n",
       "      <td>NaN</td>\n",
       "      <td>NaN</td>\n",
       "    </tr>\n",
       "    <tr>\n",
       "      <th>349440</th>\n",
       "      <td>KDCA</td>\n",
       "      <td>12/11/2018 12:30 EST</td>\n",
       "      <td>NaN</td>\n",
       "      <td>NaN</td>\n",
       "      <td>NaN</td>\n",
       "      <td>NaN</td>\n",
       "      <td>NaN</td>\n",
       "      <td>NaN</td>\n",
       "      <td>NaN</td>\n",
       "      <td>NaN</td>\n",
       "      <td>...</td>\n",
       "      <td>NaN</td>\n",
       "      <td>NaN</td>\n",
       "      <td>NaN</td>\n",
       "      <td>NaN</td>\n",
       "      <td>NaN</td>\n",
       "      <td>NaN</td>\n",
       "      <td>NaN</td>\n",
       "      <td>NaN</td>\n",
       "      <td>NaN</td>\n",
       "      <td>NaN</td>\n",
       "    </tr>\n",
       "  </tbody>\n",
       "</table>\n",
       "<p>5 rows × 40 columns</p>\n",
       "</div>"
      ],
      "text/plain": [
       "       Station_ID             Date_Time  altimeter_set_1  air_temp_set_1  \\\n",
       "349424       KDCA  12/11/2018 11:15 EST              NaN             NaN   \n",
       "349431       KDCA  12/11/2018 11:50 EST              NaN             NaN   \n",
       "349433       KDCA  12/11/2018 11:55 EST              NaN             NaN   \n",
       "349437       KDCA  12/11/2018 12:15 EST              NaN             NaN   \n",
       "349440       KDCA  12/11/2018 12:30 EST              NaN             NaN   \n",
       "\n",
       "        dew_point_temperature_set_1  relative_humidity_set_1  \\\n",
       "349424                          NaN                      NaN   \n",
       "349431                          NaN                      NaN   \n",
       "349433                          NaN                      NaN   \n",
       "349437                          NaN                      NaN   \n",
       "349440                          NaN                      NaN   \n",
       "\n",
       "        wind_speed_set_1  wind_direction_set_1  wind_gust_set_1  \\\n",
       "349424               NaN                   NaN              NaN   \n",
       "349431               NaN                   NaN              NaN   \n",
       "349433               NaN                   NaN              NaN   \n",
       "349437               NaN                   NaN              NaN   \n",
       "349440               NaN                   NaN              NaN   \n",
       "\n",
       "        snow_depth_set_1     ...       peak_wind_direction_set_1  \\\n",
       "349424               NaN     ...                             NaN   \n",
       "349431               NaN     ...                             NaN   \n",
       "349433               NaN     ...                             NaN   \n",
       "349437               NaN     ...                             NaN   \n",
       "349440               NaN     ...                             NaN   \n",
       "\n",
       "        dew_point_temperature_set_1d  wind_chill_set_1d  \\\n",
       "349424                           NaN                NaN   \n",
       "349431                           NaN                NaN   \n",
       "349433                           NaN                NaN   \n",
       "349437                           NaN                NaN   \n",
       "349440                           NaN                NaN   \n",
       "\n",
       "        wind_cardinal_direction_set_1d  pressure_set_1d  \\\n",
       "349424                             NaN              NaN   \n",
       "349431                             NaN              NaN   \n",
       "349433                             NaN              NaN   \n",
       "349437                             NaN              NaN   \n",
       "349440                             NaN              NaN   \n",
       "\n",
       "        sea_level_pressure_set_1d  heat_index_set_1d  \\\n",
       "349424                        NaN                NaN   \n",
       "349431                        NaN                NaN   \n",
       "349433                        NaN                NaN   \n",
       "349437                        NaN                NaN   \n",
       "349440                        NaN                NaN   \n",
       "\n",
       "        weather_condition_set_1d  Unnamed: 38  Unnamed: 39  \n",
       "349424                       NaN          NaN          NaN  \n",
       "349431                       NaN          NaN          NaN  \n",
       "349433                       NaN          NaN          NaN  \n",
       "349437                       NaN          NaN          NaN  \n",
       "349440                       NaN          NaN          NaN  \n",
       "\n",
       "[5 rows x 40 columns]"
      ]
     },
     "execution_count": 37,
     "metadata": {},
     "output_type": "execute_result"
    }
   ],
   "source": [
    "nullTemps.tail(5)"
   ]
  },
  {
   "cell_type": "code",
   "execution_count": 23,
   "metadata": {
    "collapsed": true
   },
   "outputs": [],
   "source": [
    "# Objective: Perform QA on Weather Data\n",
    "    # Gaps: We know that there are gaps in pretty much every field.\n",
    "        # So imputation will be required. We'll need to \"fill in\" the gaps.\n",
    "        # We want to determine whether this is reasonable / how large are the imputation errors likely to be\n",
    "            # Assuming that the reported data are accurate where they exist, then, we need to know how long the gaps are\n",
    "                # Some of the gaps are systematic, e.g. certain fields are only reported once every 6 hours\n",
    "                # Others appear to be missing data: those are the ones most concerning\n",
    "                # Could be different for every field, so it would be good to look at each field separately"
   ]
  },
  {
   "cell_type": "code",
   "execution_count": 24,
   "metadata": {
    "collapsed": true
   },
   "outputs": [],
   "source": [
    "# Necessary First step: time stamp conversion from string to unix float\n",
    "        "
   ]
  },
  {
   "cell_type": "code",
   "execution_count": 25,
   "metadata": {
    "collapsed": false
   },
   "outputs": [],
   "source": [
    "cols1 = ['Station_ID','Date_Time','air_temp_set_1','dew_point_temperature_set_1','relative_humidity_set_1',\n",
    "    'wind_speed_set_1','wind_gust_set_1','snow_depth_set_1',\n",
    "    'precip_accum_one_hour_set_1','precip_accum_three_hour_set_1','precip_accum_six_hour_set_1',\n",
    "    'precip_accum_24_hour_set_1','visibility_set_1','dew_point_temperature_set_1d',\n",
    "    'wind_chill_set_1d','heat_index_set_1d','weather_condition_set_1d']\n",
    "\n",
    "# These are the only columns we might be interested in"
   ]
  },
  {
   "cell_type": "code",
   "execution_count": 27,
   "metadata": {
    "collapsed": false
   },
   "outputs": [
    {
     "name": "stdout",
     "output_type": "stream",
     "text": [
      "Wed Jun 12 11:52:29 2019\n",
      "Wed Jun 12 11:52:29 2019\n"
     ]
    }
   ],
   "source": [
    "# usually this is very quick, but one time it took a full minute: ???\n",
    "print(time.ctime())\n",
    "W1 = W[cols1]\n",
    "print(time.ctime())"
   ]
  },
  {
   "cell_type": "code",
   "execution_count": 28,
   "metadata": {
    "collapsed": false
   },
   "outputs": [
    {
     "data": {
      "text/plain": [
       "(355730, 17)"
      ]
     },
     "execution_count": 28,
     "metadata": {},
     "output_type": "execute_result"
    }
   ],
   "source": [
    "W1.shape"
   ]
  },
  {
   "cell_type": "code",
   "execution_count": 29,
   "metadata": {
    "collapsed": false
   },
   "outputs": [
    {
     "name": "stderr",
     "output_type": "stream",
     "text": [
      "C:\\Users\\rek\\Desktop\\sw\\Anaconda\\lib\\site-packages\\numpy\\lib\\function_base.py:3834: RuntimeWarning: Invalid value encountered in percentile\n",
      "  RuntimeWarning)\n"
     ]
    },
    {
     "data": {
      "text/html": [
       "<div>\n",
       "<table border=\"1\" class=\"dataframe\">\n",
       "  <thead>\n",
       "    <tr style=\"text-align: right;\">\n",
       "      <th></th>\n",
       "      <th>air_temp_set_1</th>\n",
       "      <th>dew_point_temperature_set_1</th>\n",
       "      <th>relative_humidity_set_1</th>\n",
       "      <th>wind_speed_set_1</th>\n",
       "      <th>wind_gust_set_1</th>\n",
       "      <th>snow_depth_set_1</th>\n",
       "      <th>precip_accum_one_hour_set_1</th>\n",
       "      <th>precip_accum_three_hour_set_1</th>\n",
       "      <th>precip_accum_six_hour_set_1</th>\n",
       "      <th>precip_accum_24_hour_set_1</th>\n",
       "      <th>visibility_set_1</th>\n",
       "      <th>dew_point_temperature_set_1d</th>\n",
       "      <th>wind_chill_set_1d</th>\n",
       "      <th>heat_index_set_1d</th>\n",
       "    </tr>\n",
       "  </thead>\n",
       "  <tbody>\n",
       "    <tr>\n",
       "      <th>count</th>\n",
       "      <td>347715.000000</td>\n",
       "      <td>46063.000000</td>\n",
       "      <td>347695.000000</td>\n",
       "      <td>347211.000000</td>\n",
       "      <td>21518.000000</td>\n",
       "      <td>328.000000</td>\n",
       "      <td>34316.000000</td>\n",
       "      <td>2182.000000</td>\n",
       "      <td>2897.000000</td>\n",
       "      <td>1087.000000</td>\n",
       "      <td>347695.000000</td>\n",
       "      <td>347695.000000</td>\n",
       "      <td>47809.000000</td>\n",
       "      <td>54270.000000</td>\n",
       "    </tr>\n",
       "    <tr>\n",
       "      <th>mean</th>\n",
       "      <td>60.384233</td>\n",
       "      <td>48.229585</td>\n",
       "      <td>65.760091</td>\n",
       "      <td>8.618289</td>\n",
       "      <td>25.634183</td>\n",
       "      <td>4.984756</td>\n",
       "      <td>0.048643</td>\n",
       "      <td>0.080981</td>\n",
       "      <td>0.116307</td>\n",
       "      <td>0.347038</td>\n",
       "      <td>9.379463</td>\n",
       "      <td>47.674293</td>\n",
       "      <td>29.761972</td>\n",
       "      <td>88.921320</td>\n",
       "    </tr>\n",
       "    <tr>\n",
       "      <th>std</th>\n",
       "      <td>17.872186</td>\n",
       "      <td>19.104544</td>\n",
       "      <td>19.392811</td>\n",
       "      <td>5.059351</td>\n",
       "      <td>6.245845</td>\n",
       "      <td>5.069826</td>\n",
       "      <td>0.108434</td>\n",
       "      <td>0.184056</td>\n",
       "      <td>0.241684</td>\n",
       "      <td>0.504245</td>\n",
       "      <td>1.875291</td>\n",
       "      <td>19.549313</td>\n",
       "      <td>9.400774</td>\n",
       "      <td>6.156068</td>\n",
       "    </tr>\n",
       "    <tr>\n",
       "      <th>min</th>\n",
       "      <td>6.800000</td>\n",
       "      <td>-14.800000</td>\n",
       "      <td>8.730000</td>\n",
       "      <td>0.000000</td>\n",
       "      <td>16.110000</td>\n",
       "      <td>1.000000</td>\n",
       "      <td>0.000000</td>\n",
       "      <td>0.000000</td>\n",
       "      <td>0.000000</td>\n",
       "      <td>0.010000</td>\n",
       "      <td>0.060000</td>\n",
       "      <td>-15.020000</td>\n",
       "      <td>-7.290000</td>\n",
       "      <td>78.520000</td>\n",
       "    </tr>\n",
       "    <tr>\n",
       "      <th>25%</th>\n",
       "      <td>NaN</td>\n",
       "      <td>NaN</td>\n",
       "      <td>NaN</td>\n",
       "      <td>NaN</td>\n",
       "      <td>NaN</td>\n",
       "      <td>NaN</td>\n",
       "      <td>NaN</td>\n",
       "      <td>NaN</td>\n",
       "      <td>NaN</td>\n",
       "      <td>NaN</td>\n",
       "      <td>NaN</td>\n",
       "      <td>NaN</td>\n",
       "      <td>NaN</td>\n",
       "      <td>NaN</td>\n",
       "    </tr>\n",
       "    <tr>\n",
       "      <th>50%</th>\n",
       "      <td>NaN</td>\n",
       "      <td>NaN</td>\n",
       "      <td>NaN</td>\n",
       "      <td>NaN</td>\n",
       "      <td>NaN</td>\n",
       "      <td>NaN</td>\n",
       "      <td>NaN</td>\n",
       "      <td>NaN</td>\n",
       "      <td>NaN</td>\n",
       "      <td>NaN</td>\n",
       "      <td>NaN</td>\n",
       "      <td>NaN</td>\n",
       "      <td>NaN</td>\n",
       "      <td>NaN</td>\n",
       "    </tr>\n",
       "    <tr>\n",
       "      <th>75%</th>\n",
       "      <td>NaN</td>\n",
       "      <td>NaN</td>\n",
       "      <td>NaN</td>\n",
       "      <td>NaN</td>\n",
       "      <td>NaN</td>\n",
       "      <td>NaN</td>\n",
       "      <td>NaN</td>\n",
       "      <td>NaN</td>\n",
       "      <td>NaN</td>\n",
       "      <td>NaN</td>\n",
       "      <td>NaN</td>\n",
       "      <td>NaN</td>\n",
       "      <td>NaN</td>\n",
       "      <td>NaN</td>\n",
       "    </tr>\n",
       "    <tr>\n",
       "      <th>max</th>\n",
       "      <td>105.080000</td>\n",
       "      <td>80.060000</td>\n",
       "      <td>100.000000</td>\n",
       "      <td>51.790000</td>\n",
       "      <td>70.200000</td>\n",
       "      <td>22.000000</td>\n",
       "      <td>2.630000</td>\n",
       "      <td>2.790000</td>\n",
       "      <td>2.860000</td>\n",
       "      <td>4.000000</td>\n",
       "      <td>10.000000</td>\n",
       "      <td>82.410000</td>\n",
       "      <td>42.300000</td>\n",
       "      <td>121.240000</td>\n",
       "    </tr>\n",
       "  </tbody>\n",
       "</table>\n",
       "</div>"
      ],
      "text/plain": [
       "       air_temp_set_1  dew_point_temperature_set_1  relative_humidity_set_1  \\\n",
       "count   347715.000000                 46063.000000            347695.000000   \n",
       "mean        60.384233                    48.229585                65.760091   \n",
       "std         17.872186                    19.104544                19.392811   \n",
       "min          6.800000                   -14.800000                 8.730000   \n",
       "25%               NaN                          NaN                      NaN   \n",
       "50%               NaN                          NaN                      NaN   \n",
       "75%               NaN                          NaN                      NaN   \n",
       "max        105.080000                    80.060000               100.000000   \n",
       "\n",
       "       wind_speed_set_1  wind_gust_set_1  snow_depth_set_1  \\\n",
       "count     347211.000000     21518.000000        328.000000   \n",
       "mean           8.618289        25.634183          4.984756   \n",
       "std            5.059351         6.245845          5.069826   \n",
       "min            0.000000        16.110000          1.000000   \n",
       "25%                 NaN              NaN               NaN   \n",
       "50%                 NaN              NaN               NaN   \n",
       "75%                 NaN              NaN               NaN   \n",
       "max           51.790000        70.200000         22.000000   \n",
       "\n",
       "       precip_accum_one_hour_set_1  precip_accum_three_hour_set_1  \\\n",
       "count                 34316.000000                    2182.000000   \n",
       "mean                      0.048643                       0.080981   \n",
       "std                       0.108434                       0.184056   \n",
       "min                       0.000000                       0.000000   \n",
       "25%                            NaN                            NaN   \n",
       "50%                            NaN                            NaN   \n",
       "75%                            NaN                            NaN   \n",
       "max                       2.630000                       2.790000   \n",
       "\n",
       "       precip_accum_six_hour_set_1  precip_accum_24_hour_set_1  \\\n",
       "count                  2897.000000                 1087.000000   \n",
       "mean                      0.116307                    0.347038   \n",
       "std                       0.241684                    0.504245   \n",
       "min                       0.000000                    0.010000   \n",
       "25%                            NaN                         NaN   \n",
       "50%                            NaN                         NaN   \n",
       "75%                            NaN                         NaN   \n",
       "max                       2.860000                    4.000000   \n",
       "\n",
       "       visibility_set_1  dew_point_temperature_set_1d  wind_chill_set_1d  \\\n",
       "count     347695.000000                 347695.000000       47809.000000   \n",
       "mean           9.379463                     47.674293          29.761972   \n",
       "std            1.875291                     19.549313           9.400774   \n",
       "min            0.060000                    -15.020000          -7.290000   \n",
       "25%                 NaN                           NaN                NaN   \n",
       "50%                 NaN                           NaN                NaN   \n",
       "75%                 NaN                           NaN                NaN   \n",
       "max           10.000000                     82.410000          42.300000   \n",
       "\n",
       "       heat_index_set_1d  \n",
       "count       54270.000000  \n",
       "mean           88.921320  \n",
       "std             6.156068  \n",
       "min            78.520000  \n",
       "25%                  NaN  \n",
       "50%                  NaN  \n",
       "75%                  NaN  \n",
       "max           121.240000  "
      ]
     },
     "execution_count": 29,
     "metadata": {},
     "output_type": "execute_result"
    }
   ],
   "source": [
    "W1.describe()"
   ]
  },
  {
   "cell_type": "code",
   "execution_count": 44,
   "metadata": {
    "collapsed": false
   },
   "outputs": [
    {
     "name": "stdout",
     "output_type": "stream",
     "text": [
      "0.18.1\n"
     ]
    }
   ],
   "source": [
    "# pandas describe() is not computing quantiles for columns containing any NaN values... which is every single column\n",
    "print(pd.__version__)   # 0.18.1\n",
    "    # i think i saw somewhere that this has been fixed since version 0.18 ?????\n",
    "        # anyway, I'd rather get this data set wrangled into a solid ML-ready DF before considering any package updates\n",
    "        \n",
    "        # so let's try to look at this data manually "
   ]
  },
  {
   "cell_type": "code",
   "execution_count": null,
   "metadata": {
    "collapsed": true
   },
   "outputs": [],
   "source": []
  },
  {
   "cell_type": "code",
   "execution_count": null,
   "metadata": {
    "collapsed": true
   },
   "outputs": [],
   "source": []
  },
  {
   "cell_type": "code",
   "execution_count": 45,
   "metadata": {
    "collapsed": false
   },
   "outputs": [
    {
     "name": "stdout",
     "output_type": "stream",
     "text": [
      "Wed Jun 12 13:20:34 2019\n",
      "Wed Jun 12 13:20:52 2019\n"
     ]
    },
    {
     "name": "stderr",
     "output_type": "stream",
     "text": [
      "C:\\Users\\rek\\Desktop\\sw\\Anaconda\\lib\\site-packages\\ipykernel\\__main__.py:7: SettingWithCopyWarning: \n",
      "A value is trying to be set on a copy of a slice from a DataFrame.\n",
      "Try using .loc[row_indexer,col_indexer] = value instead\n",
      "\n",
      "See the caveats in the documentation: http://pandas.pydata.org/pandas-docs/stable/indexing.html#indexing-view-versus-copy\n"
     ]
    }
   ],
   "source": [
    "# Takes 15 seconds to convert 355k timestamps\n",
    "    # about 4x longer, per row, for this conversion, than for the one performed on TripHistory above.\n",
    "        # Why? Perhaps the string slice [:16] \n",
    "\n",
    "tStr = '%m/%d/%Y %H:%M'\n",
    "print(time.ctime())\n",
    "W1['timestamp'] = W1.Date_Time.apply(lambda x: time.mktime(datetime.datetime.strptime(x[:16],tStr).timetuple()))\n",
    "print(time.ctime())"
   ]
  },
  {
   "cell_type": "code",
   "execution_count": 47,
   "metadata": {
    "collapsed": false
   },
   "outputs": [
    {
     "data": {
      "text/html": [
       "<div>\n",
       "<table border=\"1\" class=\"dataframe\">\n",
       "  <thead>\n",
       "    <tr style=\"text-align: right;\">\n",
       "      <th></th>\n",
       "      <th>Date_Time</th>\n",
       "      <th>timestamp</th>\n",
       "    </tr>\n",
       "  </thead>\n",
       "  <tbody>\n",
       "    <tr>\n",
       "      <th>2235</th>\n",
       "      <td>03/14/2010 00:52 EST</td>\n",
       "      <td>1.268546e+09</td>\n",
       "    </tr>\n",
       "    <tr>\n",
       "      <th>2236</th>\n",
       "      <td>03/14/2010 01:11 EST</td>\n",
       "      <td>1.268547e+09</td>\n",
       "    </tr>\n",
       "    <tr>\n",
       "      <th>2237</th>\n",
       "      <td>03/14/2010 01:49 EST</td>\n",
       "      <td>1.268549e+09</td>\n",
       "    </tr>\n",
       "    <tr>\n",
       "      <th>2238</th>\n",
       "      <td>03/14/2010 01:52 EST</td>\n",
       "      <td>1.268550e+09</td>\n",
       "    </tr>\n",
       "    <tr>\n",
       "      <th>2239</th>\n",
       "      <td>03/14/2010 03:02 EDT</td>\n",
       "      <td>1.268550e+09</td>\n",
       "    </tr>\n",
       "    <tr>\n",
       "      <th>2240</th>\n",
       "      <td>03/14/2010 03:19 EDT</td>\n",
       "      <td>1.268551e+09</td>\n",
       "    </tr>\n",
       "    <tr>\n",
       "      <th>2241</th>\n",
       "      <td>03/14/2010 03:42 EDT</td>\n",
       "      <td>1.268553e+09</td>\n",
       "    </tr>\n",
       "    <tr>\n",
       "      <th>2242</th>\n",
       "      <td>03/14/2010 03:52 EDT</td>\n",
       "      <td>1.268553e+09</td>\n",
       "    </tr>\n",
       "  </tbody>\n",
       "</table>\n",
       "</div>"
      ],
      "text/plain": [
       "                 Date_Time     timestamp\n",
       "2235  03/14/2010 00:52 EST  1.268546e+09\n",
       "2236  03/14/2010 01:11 EST  1.268547e+09\n",
       "2237  03/14/2010 01:49 EST  1.268549e+09\n",
       "2238  03/14/2010 01:52 EST  1.268550e+09\n",
       "2239  03/14/2010 03:02 EDT  1.268550e+09\n",
       "2240  03/14/2010 03:19 EDT  1.268551e+09\n",
       "2241  03/14/2010 03:42 EDT  1.268553e+09\n",
       "2242  03/14/2010 03:52 EDT  1.268553e+09"
      ]
     },
     "execution_count": 47,
     "metadata": {},
     "output_type": "execute_result"
    }
   ],
   "source": [
    "W1.loc[2235:2242,['Date_Time','timestamp']]"
   ]
  },
  {
   "cell_type": "code",
   "execution_count": 54,
   "metadata": {
    "collapsed": false
   },
   "outputs": [
    {
     "name": "stdout",
     "output_type": "stream",
     "text": [
      "1268546520.0\n",
      "1268549520.0\n",
      "1268546520.0\n",
      "1268550120.0\n",
      "1289105520.0\n",
      "1289109720.0\n",
      "1289112720.0\n",
      "1289113320.0\n",
      "1289116920.0\n",
      " \n",
      "1289102520.0\n",
      "1289102520.0\n",
      "1289105520.0\n",
      "1289105520.0\n",
      "1289109720.0\n",
      "1289109720.0\n",
      "1289113320.0\n",
      "1289113320.0\n",
      "1289116920.0\n",
      "1289116920.0\n",
      "1289120520.0\n",
      "1289120520.0\n"
     ]
    }
   ],
   "source": [
    "print(time.mktime(datetime.datetime.strptime('03/14/2010 01:02','%m/%d/%Y %H:%M').timetuple())) # assumes EST\n",
    "print(time.mktime(datetime.datetime.strptime('03/14/2010 01:52','%m/%d/%Y %H:%M').timetuple())) # assumes EST\n",
    "print(time.mktime(datetime.datetime.strptime('03/14/2010 02:02','%m/%d/%Y %H:%M').timetuple())) # assumes EDT (i.e.===01:02 EST)\n",
    "                            # altho of course this time 02:02 DNE on a spring-forward day !!!\n",
    "print(time.mktime(datetime.datetime.strptime('03/14/2010 03:02','%m/%d/%Y %H:%M').timetuple())) # assumes EDT\n",
    "print(time.mktime(datetime.datetime.strptime('11/07/2010 00:52','%m/%d/%Y %H:%M').timetuple())) # assumes EDT\n",
    "print(time.mktime(datetime.datetime.strptime('11/07/2010 01:02','%m/%d/%Y %H:%M').timetuple())) # assumes EST !! (second hour)\n",
    "print(time.mktime(datetime.datetime.strptime('11/07/2010 01:52','%m/%d/%Y %H:%M').timetuple())) # assumes EST\n",
    "print(time.mktime(datetime.datetime.strptime('11/07/2010 02:02','%m/%d/%Y %H:%M').timetuple()))\n",
    "print(time.mktime(datetime.datetime.strptime('11/07/2010 03:02','%m/%d/%Y %H:%M').timetuple()))\n",
    "\n",
    "# So perhaps it's using my local settings (which are USA Eastern, including DST between 2ndSun-of-March and 1stSun-of-Nov) !!!\n",
    "print(' ')\n",
    "# Verify vs Unix times for known time zones:\n",
    "print(time.mktime(datetime.datetime.strptime('11/07/2010 00:02 Eastern Daylight Time','%m/%d/%Y %H:%M %Z').timetuple()))\n",
    "print(time.mktime(datetime.datetime.strptime('11/07/2010 00:02 Eastern Standard Time','%m/%d/%Y %H:%M %Z').timetuple()))\n",
    "print(time.mktime(datetime.datetime.strptime('11/07/2010 00:52 Eastern Daylight Time','%m/%d/%Y %H:%M %Z').timetuple()))\n",
    "print(time.mktime(datetime.datetime.strptime('11/07/2010 00:52 Eastern Standard Time','%m/%d/%Y %H:%M %Z').timetuple()))\n",
    "print(time.mktime(datetime.datetime.strptime('11/07/2010 01:02 Eastern Daylight Time','%m/%d/%Y %H:%M %Z').timetuple()))\n",
    "print(time.mktime(datetime.datetime.strptime('11/07/2010 01:02 Eastern Standard Time','%m/%d/%Y %H:%M %Z').timetuple()))\n",
    "print(time.mktime(datetime.datetime.strptime('11/07/2010 02:02 Eastern Daylight Time','%m/%d/%Y %H:%M %Z').timetuple()))\n",
    "print(time.mktime(datetime.datetime.strptime('11/07/2010 02:02 Eastern Standard Time','%m/%d/%Y %H:%M %Z').timetuple()))\n",
    "print(time.mktime(datetime.datetime.strptime('11/07/2010 03:02 Eastern Daylight Time','%m/%d/%Y %H:%M %Z').timetuple()))\n",
    "print(time.mktime(datetime.datetime.strptime('11/07/2010 03:02 Eastern Standard Time','%m/%d/%Y %H:%M %Z').timetuple()))\n",
    "print(time.mktime(datetime.datetime.strptime('11/07/2010 04:02 Eastern Daylight Time','%m/%d/%Y %H:%M %Z').timetuple()))\n",
    "print(time.mktime(datetime.datetime.strptime('11/07/2010 04:02 Eastern Standard Time','%m/%d/%Y %H:%M %Z').timetuple()))"
   ]
  },
  {
   "cell_type": "code",
   "execution_count": 56,
   "metadata": {
    "collapsed": false
   },
   "outputs": [
    {
     "name": "stdout",
     "output_type": "stream",
     "text": [
      " \n"
     ]
    },
    {
     "ename": "ValueError",
     "evalue": "time data '11/07/2010 00:02 Pacific Daylight Time' does not match format '%m/%d/%Y %H:%M %Z'",
     "output_type": "error",
     "traceback": [
      "\u001b[0;31m---------------------------------------------------------------------------\u001b[0m",
      "\u001b[0;31mValueError\u001b[0m                                Traceback (most recent call last)",
      "\u001b[0;32m<ipython-input-56-17d3b846a385>\u001b[0m in \u001b[0;36m<module>\u001b[0;34m()\u001b[0m\n\u001b[1;32m      1\u001b[0m \u001b[1;33m\u001b[0m\u001b[0m\n\u001b[1;32m      2\u001b[0m \u001b[1;32mprint\u001b[0m\u001b[1;33m(\u001b[0m\u001b[1;34m' '\u001b[0m\u001b[1;33m)\u001b[0m\u001b[1;33m\u001b[0m\u001b[0m\n\u001b[0;32m----> 3\u001b[0;31m \u001b[1;32mprint\u001b[0m\u001b[1;33m(\u001b[0m\u001b[0mtime\u001b[0m\u001b[1;33m.\u001b[0m\u001b[0mmktime\u001b[0m\u001b[1;33m(\u001b[0m\u001b[0mdatetime\u001b[0m\u001b[1;33m.\u001b[0m\u001b[0mdatetime\u001b[0m\u001b[1;33m.\u001b[0m\u001b[0mstrptime\u001b[0m\u001b[1;33m(\u001b[0m\u001b[1;34m'11/07/2010 00:02 Pacific Daylight Time'\u001b[0m\u001b[1;33m,\u001b[0m\u001b[1;34m'%m/%d/%Y %H:%M %Z'\u001b[0m\u001b[1;33m)\u001b[0m\u001b[1;33m.\u001b[0m\u001b[0mtimetuple\u001b[0m\u001b[1;33m(\u001b[0m\u001b[1;33m)\u001b[0m\u001b[1;33m)\u001b[0m\u001b[1;33m)\u001b[0m\u001b[1;33m\u001b[0m\u001b[0m\n\u001b[0m\u001b[1;32m      4\u001b[0m \u001b[1;32mprint\u001b[0m\u001b[1;33m(\u001b[0m\u001b[0mtime\u001b[0m\u001b[1;33m.\u001b[0m\u001b[0mmktime\u001b[0m\u001b[1;33m(\u001b[0m\u001b[0mdatetime\u001b[0m\u001b[1;33m.\u001b[0m\u001b[0mdatetime\u001b[0m\u001b[1;33m.\u001b[0m\u001b[0mstrptime\u001b[0m\u001b[1;33m(\u001b[0m\u001b[1;34m'11/07/2010 00:02 Pacific Standard Time'\u001b[0m\u001b[1;33m,\u001b[0m\u001b[1;34m'%m/%d/%Y %H:%M %Z'\u001b[0m\u001b[1;33m)\u001b[0m\u001b[1;33m.\u001b[0m\u001b[0mtimetuple\u001b[0m\u001b[1;33m(\u001b[0m\u001b[1;33m)\u001b[0m\u001b[1;33m)\u001b[0m\u001b[1;33m)\u001b[0m\u001b[1;33m\u001b[0m\u001b[0m\n\u001b[1;32m      5\u001b[0m \u001b[1;32mprint\u001b[0m\u001b[1;33m(\u001b[0m\u001b[0mtime\u001b[0m\u001b[1;33m.\u001b[0m\u001b[0mmktime\u001b[0m\u001b[1;33m(\u001b[0m\u001b[0mdatetime\u001b[0m\u001b[1;33m.\u001b[0m\u001b[0mdatetime\u001b[0m\u001b[1;33m.\u001b[0m\u001b[0mstrptime\u001b[0m\u001b[1;33m(\u001b[0m\u001b[1;34m'11/07/2010 00:52 Pacific Daylight Time'\u001b[0m\u001b[1;33m,\u001b[0m\u001b[1;34m'%m/%d/%Y %H:%M %Z'\u001b[0m\u001b[1;33m)\u001b[0m\u001b[1;33m.\u001b[0m\u001b[0mtimetuple\u001b[0m\u001b[1;33m(\u001b[0m\u001b[1;33m)\u001b[0m\u001b[1;33m)\u001b[0m\u001b[1;33m)\u001b[0m\u001b[1;33m\u001b[0m\u001b[0m\n",
      "\u001b[0;32mC:\\Users\\rek\\Desktop\\sw\\Anaconda\\lib\\_strptime.pyc\u001b[0m in \u001b[0;36m_strptime\u001b[0;34m(data_string, format)\u001b[0m\n\u001b[1;32m    330\u001b[0m     \u001b[1;32mif\u001b[0m \u001b[1;32mnot\u001b[0m \u001b[0mfound\u001b[0m\u001b[1;33m:\u001b[0m\u001b[1;33m\u001b[0m\u001b[0m\n\u001b[1;32m    331\u001b[0m         raise ValueError(\"time data %r does not match format %r\" %\n\u001b[0;32m--> 332\u001b[0;31m                          (data_string, format))\n\u001b[0m\u001b[1;32m    333\u001b[0m     \u001b[1;32mif\u001b[0m \u001b[0mlen\u001b[0m\u001b[1;33m(\u001b[0m\u001b[0mdata_string\u001b[0m\u001b[1;33m)\u001b[0m \u001b[1;33m!=\u001b[0m \u001b[0mfound\u001b[0m\u001b[1;33m.\u001b[0m\u001b[0mend\u001b[0m\u001b[1;33m(\u001b[0m\u001b[1;33m)\u001b[0m\u001b[1;33m:\u001b[0m\u001b[1;33m\u001b[0m\u001b[0m\n\u001b[1;32m    334\u001b[0m         raise ValueError(\"unconverted data remains: %s\" %\n",
      "\u001b[0;31mValueError\u001b[0m: time data '11/07/2010 00:02 Pacific Daylight Time' does not match format '%m/%d/%Y %H:%M %Z'"
     ]
    }
   ],
   "source": [
    "\n",
    "print(' ')\n",
    "print(time.mktime(datetime.datetime.strptime('11/07/2010 00:02 Pacific Daylight Time','%m/%d/%Y %H:%M %Z').timetuple()))\n",
    "print(time.mktime(datetime.datetime.strptime('11/07/2010 00:02 Pacific Standard Time','%m/%d/%Y %H:%M %Z').timetuple()))\n",
    "print(time.mktime(datetime.datetime.strptime('11/07/2010 00:52 Pacific Daylight Time','%m/%d/%Y %H:%M %Z').timetuple()))\n",
    "print(time.mktime(datetime.datetime.strptime('11/07/2010 00:52 Pacific Standard Time','%m/%d/%Y %H:%M %Z').timetuple()))\n",
    "print(time.mktime(datetime.datetime.strptime('11/07/2010 01:02 Pacific Daylight Time','%m/%d/%Y %H:%M %Z').timetuple()))\n",
    "print(time.mktime(datetime.datetime.strptime('11/07/2010 01:02 Pacific Standard Time','%m/%d/%Y %H:%M %Z').timetuple()))\n",
    "print(time.mktime(datetime.datetime.strptime('11/07/2010 02:02 Pacific Daylight Time','%m/%d/%Y %H:%M %Z').timetuple()))\n",
    "print(time.mktime(datetime.datetime.strptime('11/07/2010 02:02 Pacific Standard Time','%m/%d/%Y %H:%M %Z').timetuple()))\n",
    "print(time.mktime(datetime.datetime.strptime('11/07/2010 03:02 Pacific Daylight Time','%m/%d/%Y %H:%M %Z').timetuple()))\n",
    "print(time.mktime(datetime.datetime.strptime('11/07/2010 03:02 Pacific Standard Time','%m/%d/%Y %H:%M %Z').timetuple()))\n",
    "print(time.mktime(datetime.datetime.strptime('11/07/2010 04:02 Pacific Daylight Time','%m/%d/%Y %H:%M %Z').timetuple()))\n",
    "print(time.mktime(datetime.datetime.strptime('11/07/2010 04:02 Pacific Standard Time','%m/%d/%Y %H:%M %Z').timetuple()))\n",
    "\n",
    "# Weird: why doesn't it recognize \"Pacific\" (or \"Central\" for that matter)???"
   ]
  },
  {
   "cell_type": "code",
   "execution_count": null,
   "metadata": {
    "collapsed": true
   },
   "outputs": [],
   "source": []
  },
  {
   "cell_type": "code",
   "execution_count": null,
   "metadata": {
    "collapsed": true
   },
   "outputs": [],
   "source": []
  },
  {
   "cell_type": "code",
   "execution_count": 57,
   "metadata": {
    "collapsed": false
   },
   "outputs": [
    {
     "data": {
      "text/plain": [
       "'Eastern Daylight Time'"
      ]
     },
     "execution_count": 57,
     "metadata": {},
     "output_type": "execute_result"
    }
   ],
   "source": [
    "time.strftime('%Z')"
   ]
  },
  {
   "cell_type": "code",
   "execution_count": 67,
   "metadata": {
    "collapsed": false
   },
   "outputs": [
    {
     "data": {
      "text/html": [
       "<div>\n",
       "<table border=\"1\" class=\"dataframe\">\n",
       "  <thead>\n",
       "    <tr style=\"text-align: right;\">\n",
       "      <th></th>\n",
       "      <th>Station_ID</th>\n",
       "      <th>Date_Time</th>\n",
       "      <th>air_temp_set_1</th>\n",
       "      <th>dew_point_temperature_set_1</th>\n",
       "      <th>relative_humidity_set_1</th>\n",
       "      <th>wind_speed_set_1</th>\n",
       "      <th>wind_gust_set_1</th>\n",
       "      <th>snow_depth_set_1</th>\n",
       "      <th>precip_accum_one_hour_set_1</th>\n",
       "      <th>precip_accum_three_hour_set_1</th>\n",
       "      <th>precip_accum_six_hour_set_1</th>\n",
       "      <th>precip_accum_24_hour_set_1</th>\n",
       "      <th>visibility_set_1</th>\n",
       "      <th>dew_point_temperature_set_1d</th>\n",
       "      <th>wind_chill_set_1d</th>\n",
       "      <th>heat_index_set_1d</th>\n",
       "      <th>weather_condition_set_1d</th>\n",
       "      <th>timestamp</th>\n",
       "    </tr>\n",
       "  </thead>\n",
       "  <tbody>\n",
       "    <tr>\n",
       "      <th>0</th>\n",
       "      <td>KDCA</td>\n",
       "      <td>12/30/2009 03:52 EST</td>\n",
       "      <td>24.08</td>\n",
       "      <td>NaN</td>\n",
       "      <td>51.83</td>\n",
       "      <td>3.44</td>\n",
       "      <td>NaN</td>\n",
       "      <td>NaN</td>\n",
       "      <td>NaN</td>\n",
       "      <td>NaN</td>\n",
       "      <td>NaN</td>\n",
       "      <td>NaN</td>\n",
       "      <td>10.0</td>\n",
       "      <td>8.74</td>\n",
       "      <td>NaN</td>\n",
       "      <td>NaN</td>\n",
       "      <td>Clear</td>\n",
       "      <td>1.262163e+09</td>\n",
       "    </tr>\n",
       "    <tr>\n",
       "      <th>1</th>\n",
       "      <td>KDCA</td>\n",
       "      <td>12/30/2009 04:52 EST</td>\n",
       "      <td>24.08</td>\n",
       "      <td>NaN</td>\n",
       "      <td>51.83</td>\n",
       "      <td>3.44</td>\n",
       "      <td>NaN</td>\n",
       "      <td>NaN</td>\n",
       "      <td>NaN</td>\n",
       "      <td>NaN</td>\n",
       "      <td>NaN</td>\n",
       "      <td>NaN</td>\n",
       "      <td>10.0</td>\n",
       "      <td>8.74</td>\n",
       "      <td>NaN</td>\n",
       "      <td>NaN</td>\n",
       "      <td>Mostly Cloudy</td>\n",
       "      <td>1.262167e+09</td>\n",
       "    </tr>\n",
       "    <tr>\n",
       "      <th>2</th>\n",
       "      <td>KDCA</td>\n",
       "      <td>12/30/2009 05:52 EST</td>\n",
       "      <td>24.08</td>\n",
       "      <td>NaN</td>\n",
       "      <td>51.83</td>\n",
       "      <td>4.61</td>\n",
       "      <td>NaN</td>\n",
       "      <td>NaN</td>\n",
       "      <td>NaN</td>\n",
       "      <td>NaN</td>\n",
       "      <td>NaN</td>\n",
       "      <td>NaN</td>\n",
       "      <td>10.0</td>\n",
       "      <td>8.74</td>\n",
       "      <td>NaN</td>\n",
       "      <td>NaN</td>\n",
       "      <td>Overcast</td>\n",
       "      <td>1.262170e+09</td>\n",
       "    </tr>\n",
       "    <tr>\n",
       "      <th>3</th>\n",
       "      <td>KDCA</td>\n",
       "      <td>12/30/2009 06:52 EST</td>\n",
       "      <td>24.08</td>\n",
       "      <td>NaN</td>\n",
       "      <td>54.41</td>\n",
       "      <td>8.05</td>\n",
       "      <td>NaN</td>\n",
       "      <td>NaN</td>\n",
       "      <td>NaN</td>\n",
       "      <td>NaN</td>\n",
       "      <td>NaN</td>\n",
       "      <td>NaN</td>\n",
       "      <td>10.0</td>\n",
       "      <td>9.83</td>\n",
       "      <td>17.77</td>\n",
       "      <td>NaN</td>\n",
       "      <td>Overcast</td>\n",
       "      <td>1.262174e+09</td>\n",
       "    </tr>\n",
       "    <tr>\n",
       "      <th>4</th>\n",
       "      <td>KDCA</td>\n",
       "      <td>12/30/2009 07:52 EST</td>\n",
       "      <td>24.98</td>\n",
       "      <td>NaN</td>\n",
       "      <td>52.40</td>\n",
       "      <td>8.05</td>\n",
       "      <td>NaN</td>\n",
       "      <td>NaN</td>\n",
       "      <td>NaN</td>\n",
       "      <td>NaN</td>\n",
       "      <td>NaN</td>\n",
       "      <td>NaN</td>\n",
       "      <td>10.0</td>\n",
       "      <td>9.82</td>\n",
       "      <td>18.83</td>\n",
       "      <td>NaN</td>\n",
       "      <td>Overcast</td>\n",
       "      <td>1.262178e+09</td>\n",
       "    </tr>\n",
       "  </tbody>\n",
       "</table>\n",
       "</div>"
      ],
      "text/plain": [
       "  Station_ID             Date_Time  air_temp_set_1  \\\n",
       "0       KDCA  12/30/2009 03:52 EST           24.08   \n",
       "1       KDCA  12/30/2009 04:52 EST           24.08   \n",
       "2       KDCA  12/30/2009 05:52 EST           24.08   \n",
       "3       KDCA  12/30/2009 06:52 EST           24.08   \n",
       "4       KDCA  12/30/2009 07:52 EST           24.98   \n",
       "\n",
       "   dew_point_temperature_set_1  relative_humidity_set_1  wind_speed_set_1  \\\n",
       "0                          NaN                    51.83              3.44   \n",
       "1                          NaN                    51.83              3.44   \n",
       "2                          NaN                    51.83              4.61   \n",
       "3                          NaN                    54.41              8.05   \n",
       "4                          NaN                    52.40              8.05   \n",
       "\n",
       "   wind_gust_set_1  snow_depth_set_1  precip_accum_one_hour_set_1  \\\n",
       "0              NaN               NaN                          NaN   \n",
       "1              NaN               NaN                          NaN   \n",
       "2              NaN               NaN                          NaN   \n",
       "3              NaN               NaN                          NaN   \n",
       "4              NaN               NaN                          NaN   \n",
       "\n",
       "   precip_accum_three_hour_set_1  precip_accum_six_hour_set_1  \\\n",
       "0                            NaN                          NaN   \n",
       "1                            NaN                          NaN   \n",
       "2                            NaN                          NaN   \n",
       "3                            NaN                          NaN   \n",
       "4                            NaN                          NaN   \n",
       "\n",
       "   precip_accum_24_hour_set_1  visibility_set_1  dew_point_temperature_set_1d  \\\n",
       "0                         NaN              10.0                          8.74   \n",
       "1                         NaN              10.0                          8.74   \n",
       "2                         NaN              10.0                          8.74   \n",
       "3                         NaN              10.0                          9.83   \n",
       "4                         NaN              10.0                          9.82   \n",
       "\n",
       "   wind_chill_set_1d  heat_index_set_1d weather_condition_set_1d     timestamp  \n",
       "0                NaN                NaN                    Clear  1.262163e+09  \n",
       "1                NaN                NaN            Mostly Cloudy  1.262167e+09  \n",
       "2                NaN                NaN                 Overcast  1.262170e+09  \n",
       "3              17.77                NaN                 Overcast  1.262174e+09  \n",
       "4              18.83                NaN                 Overcast  1.262178e+09  "
      ]
     },
     "execution_count": 67,
     "metadata": {},
     "output_type": "execute_result"
    }
   ],
   "source": [
    "W1.head(5)"
   ]
  },
  {
   "cell_type": "code",
   "execution_count": null,
   "metadata": {
    "collapsed": true
   },
   "outputs": [],
   "source": []
  },
  {
   "cell_type": "code",
   "execution_count": 124,
   "metadata": {
    "collapsed": false
   },
   "outputs": [],
   "source": [
    "boy10 = time.mktime(datetime.datetime.strptime('01/01/2010 00:00','%m/%d/%Y %H:%M').timetuple())\n",
    "boy11 = time.mktime(datetime.datetime.strptime('01/01/2011 00:00','%m/%d/%Y %H:%M').timetuple())\n",
    "boy12 = time.mktime(datetime.datetime.strptime('01/01/2012 00:00','%m/%d/%Y %H:%M').timetuple())\n",
    "boy13 = time.mktime(datetime.datetime.strptime('01/01/2013 00:00','%m/%d/%Y %H:%M').timetuple())\n",
    "boy14 = time.mktime(datetime.datetime.strptime('01/01/2014 00:00','%m/%d/%Y %H:%M').timetuple())\n",
    "boy15 = time.mktime(datetime.datetime.strptime('01/01/2015 00:00','%m/%d/%Y %H:%M').timetuple())\n",
    "boy16 = time.mktime(datetime.datetime.strptime('01/01/2016 00:00','%m/%d/%Y %H:%M').timetuple())\n",
    "boy17 = time.mktime(datetime.datetime.strptime('01/01/2017 00:00','%m/%d/%Y %H:%M').timetuple())\n",
    "boy18 = time.mktime(datetime.datetime.strptime('01/01/2018 00:00','%m/%d/%Y %H:%M').timetuple())\n",
    "boy19 = time.mktime(datetime.datetime.strptime('01/01/2019 00:00','%m/%d/%Y %H:%M').timetuple())\n",
    "boy20 = time.mktime(datetime.datetime.strptime('01/01/2020 00:00','%m/%d/%Y %H:%M').timetuple())"
   ]
  },
  {
   "cell_type": "code",
   "execution_count": 121,
   "metadata": {
    "collapsed": false
   },
   "outputs": [
    {
     "data": {
      "text/plain": [
       "1357016400.0"
      ]
     },
     "execution_count": 121,
     "metadata": {},
     "output_type": "execute_result"
    }
   ],
   "source": [
    "boy13"
   ]
  },
  {
   "cell_type": "code",
   "execution_count": null,
   "metadata": {
    "collapsed": true
   },
   "outputs": [],
   "source": []
  },
  {
   "cell_type": "code",
   "execution_count": 125,
   "metadata": {
    "collapsed": false
   },
   "outputs": [
    {
     "data": {
      "text/plain": [
       "(array([  0.00000000e+00,   0.00000000e+00,   0.00000000e+00,\n",
       "          8.00000000e+00,   2.90000000e+01,   1.15000000e+02,\n",
       "          2.28000000e+02,   8.21000000e+02,   8.72000000e+02,\n",
       "          1.44400000e+03,   1.21700000e+03,   8.00000000e+02,\n",
       "          1.59500000e+03,   1.75800000e+03,   2.44400000e+03,\n",
       "          4.05800000e+03,   9.98100000e+03,   8.80400000e+03,\n",
       "          9.32900000e+03,   1.01250000e+04,   5.59000000e+03,\n",
       "          1.11630000e+04,   1.17150000e+04,   1.20290000e+04,\n",
       "          1.20390000e+04,   1.70830000e+04,   9.99100000e+03,\n",
       "          9.54000000e+03,   9.61400000e+03,   4.96700000e+03,\n",
       "          9.43000000e+03,   9.60500000e+03,   1.03220000e+04,\n",
       "          1.12080000e+04,   1.73370000e+04,   1.36550000e+04,\n",
       "          1.61610000e+04,   1.74160000e+04,   7.76000000e+03,\n",
       "          1.41430000e+04,   1.28510000e+04,   1.07000000e+04,\n",
       "          8.22000000e+03,   9.74800000e+03,   4.75500000e+03,\n",
       "          2.96400000e+03,   1.91600000e+03,   5.28000000e+02,\n",
       "          6.48000000e+02,   2.28000000e+02,   3.70000000e+01,\n",
       "          1.80000000e+01,   2.00000000e+00]),\n",
       " array([  0,   2,   4,   6,   8,  10,  12,  14,  16,  18,  20,  22,  24,\n",
       "         26,  28,  30,  32,  34,  36,  38,  40,  42,  44,  46,  48,  50,\n",
       "         52,  54,  56,  58,  60,  62,  64,  66,  68,  70,  72,  74,  76,\n",
       "         78,  80,  82,  84,  86,  88,  90,  92,  94,  96,  98, 100, 102,\n",
       "        104, 106]),\n",
       " <a list of 53 Patch objects>)"
      ]
     },
     "execution_count": 125,
     "metadata": {},
     "output_type": "execute_result"
    },
    {
     "data": {
      "image/png": "[encoded data removed]",
      "text/plain": [
       "<matplotlib.figure.Figure at 0xe09485f8>"
      ]
     },
     "metadata": {},
     "output_type": "display_data"
    }
   ],
   "source": [
    "# Unix Timestamps have been added to weather data. Let's visualize the time series for each numeric field\n",
    "\n",
    "myData = W1.air_temp_set_1\n",
    "plt.hist(W1.air_temp_set_1[(~W1.air_temp_set_1.isnull()) & (W1.timestamp<boy19)\n",
    "                                                         & (W1.timestamp>boy11)],bins=range(0,108,2))\n"
   ]
  },
  {
   "cell_type": "code",
   "execution_count": 95,
   "metadata": {
    "collapsed": true
   },
   "outputs": [],
   "source": [
    "# Observations:\n",
    "\n",
    "# Overall weather Sampling rate changed 20160628\n",
    "#plt.plot(W1.air_temp_set_1,'.')\n",
    "    # Before 20160628: roughly 1x/hour, but often a bit more frequent. There are ~ 800 samples per month\n",
    "    # Since 20160628: roughly 1x/every 5 minutes. There are ~ 10k samples per month.\n",
    "    \n",
    "    # So be aware that averages over rows in the dataset will be strongly biased towards the last 2.5 years of data !!!!!\n"
   ]
  },
  {
   "cell_type": "code",
   "execution_count": 116,
   "metadata": {
    "collapsed": true
   },
   "outputs": [],
   "source": [
    "#air_temp_set_1\n",
    "\n",
    "#A# Quantization of temperature values: air_temp_set_1 only takes on a discrete set of values\n",
    "    #plt.plot(W1.timestamp,W1.air_temp_set_1,'.')\n",
    "    \n",
    "    # CY 2015 appears to have quantized temperatures. Possibly not as accurate as other years?\n",
    "            # Quantization appears to be about 1.8 deg jump btw accessible Temperature values in 2015. Why?\n",
    "        \n",
    "    # Actually similar behavior seems to occur in earlier years as well:\n",
    "        #plt.plot(W1.air_temp_set_1[34000:35000],'.')\n",
    "                # note that the measurement results are all \"integer-ish\" (within 0.1 of an integer), with a few exceptions.\n",
    "    # And also in later years too:\n",
    "        #plt.plot(W1.air_temp_set_1[261000:268000],'.')\n",
    "            # For this one, the discretization values do not even form an arithmetic sequence.\n",
    "    # regardless, CY 2015 has the largest \"step size\" (~1.8 deg)\n",
    "        "
   ]
  },
  {
   "cell_type": "code",
   "execution_count": 118,
   "metadata": {
    "collapsed": true
   },
   "outputs": [],
   "source": [
    "#B# #myData = W1.air_temp_set_1\n",
    "    #plt.hist(myData[~myData.isnull()],bins=range(0,108,2))\n",
    "    # I was expecting this to look Unimodal.\n",
    "    # But there are bizarre spikes and shortages\n",
    "            # spikes: surprisingly high number of data points in bin 50-52\n",
    "            # shortages: (not much data in bin 40-42, bin 58-60, bin 76-78\n",
    "    # I suppose it's possible that this could be related to the quantization observed above. \n",
    "        # However, the discrete set of allowable values seems to evolve throughout the life of the data.\n",
    "            # So it's not trivial to answer whether the up- and down- spikes in the histogram are in fact due to discretization\n",
    "        # Actually, no. This is EXACTLY what is happening !!!\n",
    "        \n",
    "    # Okay we have solved the part of the mystery of the histogram up- and down- spikes\n",
    "        # Instrument must be capturing measurements in integer degrees Celsius.\n",
    "            # So the step size is 1 deg C = 1.8 deg F\n",
    "            # Now also for some reason, it is sometimes erroneously inserting a \"0\" or a \"9\" into the stream\n",
    "                                            # btw the decimal point and the tenths place, (when that number != zero)\n",
    "                # But this error wouldn't affect our histogram at all, since it doesn't affect the integer portion \n",
    "        # The up-spikes {50-52, 68-70} are related to bins that capture more than one integer of Celsius ({10&11, 20&21} deg C)\n",
    "            # {32-34} (00&01) is actually a similar up-spike, compared to the trend shown in its neighbors\n",
    "                        # Similar story for {86-88} (30&31)\n",
    "        # But why the down-spikes?\n",
    "            # They are associated with odd integer matches (i.e. Celsius amounts divisible by 5 but not 10)\n",
    "                # down-spikes at 41 F, 59 F, 77 F\n",
    "            # In theory, if the true measurements are all integers Celsius, then the number of 15C should be ~= number of 16C\n",
    "                    # So count(59.0) should be similar to sum(count([60.08,60.8,60.98]))\n",
    "                        # But it isn't. In our data, count(59.0) is roughly half of sum(count([60.08,60.8,60.98]))\n",
    "        \n",
    "            "
   ]
  },
  {
   "cell_type": "code",
   "execution_count": 114,
   "metadata": {
    "collapsed": false
   },
   "outputs": [
    {
     "name": "stdout",
     "output_type": "stream",
     "text": [
      "68\n",
      "[30.199999999999999, 30.920000000000002, 32.0, 33.079999999999998, 33.799999999999997, 33.979999999999997, 35.060000000000002, 35.600000000000001, 35.960000000000001, 37.039999999999999, 37.399999999999999, 37.939999999999998, 39.020000000000003, 39.200000000000003, 39.920000000000002, 41.0, 42.079999999999998, 42.799999999999997, 42.979999999999997, 44.060000000000002, 44.600000000000001, 44.960000000000001, 46.039999999999999, 46.399999999999999, 46.939999999999998, 48.020000000000003, 48.200000000000003, 48.920000000000002, 50.0, 51.079999999999998, 51.799999999999997, 51.979999999999997, 53.060000000000002, 53.600000000000001, 53.960000000000001, 55.039999999999999, 55.399999999999999, 55.939999999999998, 57.020000000000003, 57.200000000000003, 57.920000000000002, nan, 59.0, 60.079999999999998, 60.799999999999997, 60.979999999999997, 62.060000000000002, 62.600000000000001, 62.960000000000001, 64.040000000000006, 64.400000000000006, 64.939999999999998, 66.019999999999996, 66.200000000000003, 66.920000000000002, 68.0, 69.079999999999998, 69.799999999999997, 69.980000000000004, 71.060000000000002, 71.599999999999994, 71.959999999999994, 73.400000000000006, 73.939999999999998, 75.019999999999996, 75.200000000000003, 75.920000000000002, 77.0]\n",
      "[30.2, 30.92, 32.0, 33.08, 33.8, 33.98, 35.06, 35.6, 35.96, 37.04, 37.4, 37.94, 39.02, 39.2, 39.92, 41.0, 42.08, 42.8, 42.98, 44.06, 44.6, 44.96, 46.04, 46.4, 46.94, 48.02, 48.2, 48.92, 50.0, 51.08, 51.8, 51.98, 53.06, 53.6, 53.96, 55.04, 55.4, 55.94, 57.02, 57.2, 57.92, nan, 59.0, 60.08, 60.8, 60.98, 62.06, 62.6, 62.96, 64.04, 64.4, 64.94, 66.02, 66.2, 66.92, 68.0, 69.08, 69.8, 69.98, 71.06, 71.6, 71.96, 73.4, 73.94, 75.02, 75.2, 75.92, 77.0]\n"
     ]
    }
   ],
   "source": [
    "uAirTemp_261to270 = sorted(W1.air_temp_set_1[261000:270000].unique())\n",
    "print(len(uAirTemp_261to270))\n",
    "print(uAirTemp_261to270)\n",
    "print([round(x,2) for x in uAirTemp_261to270])"
   ]
  },
  {
   "cell_type": "code",
   "execution_count": 137,
   "metadata": {
    "collapsed": false
   },
   "outputs": [
    {
     "name": "stdout",
     "output_type": "stream",
     "text": [
      "[  24.08   24.98   26.96   28.04   28.94   30.02   32.     30.92   33.08\n",
      "   33.8    33.98   35.6    35.06   35.96   41.     42.08   44.06   42.98\n",
      "   39.92   37.94   23.     21.92   21.02   19.94   19.04   17.96   17.06\n",
      "   15.98   26.06   26.6    28.4    37.04   30.2    39.02   46.94   48.02\n",
      "   48.92   50.     51.08   55.04   53.96   46.04   44.96   39.2    42.8\n",
      "   44.6    51.98   55.94   37.4    59.     53.06   57.02   55.4    57.92\n",
      "   60.8    60.08   60.98   57.2    64.94   66.92   62.06   21.2    19.4\n",
      "   17.6    24.8    62.96   64.04   48.2    53.6    51.8    46.4    66.02\n",
      "   68.     69.08   69.98   69.8    62.6    71.06   71.96   73.04   75.02\n",
      "   64.4    66.2    73.94   71.6    75.92   80.06   82.04   80.96   78.08\n",
      "   78.98   82.94   84.92   89.96   87.98   86.     77.     84.02   82.4\n",
      "   78.8    80.6    75.2    73.4    87.08   84.2    91.04   91.94   89.06\n",
      "   89.6    87.8    93.2    91.4    93.02   93.92   95.     96.08   96.98\n",
      "   98.96   98.06   96.8   100.04  100.94  102.02   72.86     nan  102.2\n",
      "  102.92   43.34  104.     82.22  100.4   105.08   98.6    15.08   12.02\n",
      "   10.04    8.96    8.06    6.98   10.94   12.92   14.     32.9    31.1\n",
      "   15.8    63.14   12.2    10.4     8.6     6.8    80.62   82.42   84.22\n",
      "   86.02   78.82   75.22   73.42   71.62   69.82   68.02   77.02   66.22\n",
      "   64.42   87.82   89.62   91.42   96.82   98.62   95.02   93.22   79.88\n",
      "   81.86   59.9 ]\n",
      "[  15.98   17.06   17.6    17.96   19.04   19.4    19.94   21.02   21.2\n",
      "   21.92   23.     24.08   24.8    24.98   26.06   26.6    26.96   28.04\n",
      "   28.4    28.94   30.02   30.2    30.92   32.     33.08   33.8    33.98\n",
      "   35.06   35.6    35.96   37.04   37.4    37.94   39.02   39.2    39.92\n",
      "   41.     42.08   42.8    42.98   43.34   44.06   44.6    44.96   46.04\n",
      "   46.4    46.94   48.02   48.2    48.92   50.     51.08   51.8    51.98\n",
      "   53.06   53.6    53.96   55.04   55.4    55.94   57.02   57.2    57.92\n",
      "   59.     60.08   60.8    60.98   62.06   62.6    62.96   64.04   64.4\n",
      "   64.94   66.02   66.2    66.92   68.     69.08   69.8    69.98   71.06\n",
      "   71.6    71.96   72.86   73.04   73.4    73.94   75.02   75.2    75.92\n",
      "   77.     78.08   78.8    78.98   80.06   80.6    80.96   82.22   82.4\n",
      "   82.94   84.02   84.2    84.92   86.     87.08   87.8    87.98   89.06\n",
      "   89.6    89.96   91.04   91.4    91.94   93.02   93.2    93.92   95.\n",
      "   96.08   96.8    96.98   98.06   98.96  100.04  100.4   100.94  102.02\n",
      "     nan    6.8     6.98    8.06    8.6     8.96   10.04   10.4    10.94\n",
      "   12.02   12.2    12.92   14.     15.08   15.8    31.1    32.9    59.9\n",
      "   63.14   64.42   66.22   68.02   69.82   71.62   73.42   75.22   77.02\n",
      "   78.82   79.88   80.62   81.86   82.04   82.42   84.22   86.02   87.82\n",
      "   89.62   91.42   93.22   95.02   96.82   98.6    98.62  102.2   102.92\n",
      "  104.    105.08]\n"
     ]
    }
   ],
   "source": [
    "uAT = W1.air_temp_set_1.unique()\n",
    "s_uAT = sorted(uAT)\n",
    "print(uAT)\n",
    "print(np.array([round(x,2) for x in s_uAT]))\n",
    "\n",
    "# Interesting: NAN breaks sorting !!!\n"
   ]
  },
  {
   "cell_type": "code",
   "execution_count": 207,
   "metadata": {
    "collapsed": false
   },
   "outputs": [
    {
     "data": {
      "text/plain": [
       "air_temp_set_1\n",
       "46.04    1125\n",
       "46.40    9890\n",
       "46.94    1249\n",
       "48.02    1201\n",
       "48.20    9902\n",
       "48.92    1217\n",
       "50.00    6865\n",
       "51.08    1208\n",
       "51.80    8477\n",
       "51.98    1143\n",
       "53.06    1214\n",
       "53.60    8029\n",
       "53.96    1142\n",
       "55.04    1133\n",
       "55.40    7584\n",
       "55.94    1201\n",
       "57.02    1213\n",
       "57.20    7618\n",
       "57.92    1119\n",
       "59.00    5094\n",
       "59.90       2\n",
       "60.08    1158\n",
       "60.80    7491\n",
       "60.98    1041\n",
       "62.06    1061\n",
       "62.60    7613\n",
       "62.96    1184\n",
       "63.14       1\n",
       "64.04    1105\n",
       "64.40    8235\n",
       "64.42      31\n",
       "64.94    1275\n",
       "66.02    1164\n",
       "66.20    8962\n",
       "66.22      67\n",
       "66.92    1296\n",
       "68.00    5599\n",
       "68.02      31\n",
       "69.08    1305\n",
       "69.80    9050\n",
       "Name: air_temp_set_1, dtype: int64"
      ]
     },
     "execution_count": 207,
     "metadata": {},
     "output_type": "execute_result"
    }
   ],
   "source": [
    "W1.groupby('air_temp_set_1')['air_temp_set_1'].count().iloc[60:100]"
   ]
  },
  {
   "cell_type": "code",
   "execution_count": 181,
   "metadata": {
    "collapsed": false,
    "scrolled": true
   },
   "outputs": [
    {
     "name": "stderr",
     "output_type": "stream",
     "text": [
      "C:\\Users\\rek\\Desktop\\sw\\Anaconda\\lib\\site-packages\\ipykernel\\__main__.py:1: SettingWithCopyWarning: \n",
      "A value is trying to be set on a copy of a slice from a DataFrame.\n",
      "Try using .loc[row_indexer,col_indexer] = value instead\n",
      "\n",
      "See the caveats in the documentation: http://pandas.pydata.org/pandas-docs/stable/indexing.html#indexing-view-versus-copy\n",
      "  if __name__ == '__main__':\n"
     ]
    }
   ],
   "source": [
    "W1['frac_air_temp'] = W1.air_temp_set_1.apply(lambda x: np.nan if np.isnan(x) else ((round(x*100))%100))"
   ]
  },
  {
   "cell_type": "code",
   "execution_count": 184,
   "metadata": {
    "collapsed": false
   },
   "outputs": [
    {
     "data": {
      "text/plain": [
       "[0.0,\n",
       " 2.0,\n",
       " 4.0,\n",
       " 6.0,\n",
       " 8.0,\n",
       " 10.0,\n",
       " 14.0,\n",
       " 20.0,\n",
       " 22.0,\n",
       " 34.0,\n",
       " 40.0,\n",
       " 42.0,\n",
       " 60.0,\n",
       " 62.0,\n",
       " 80.0,\n",
       " 82.0,\n",
       " 86.0,\n",
       " 88.0,\n",
       " 90.0,\n",
       " 92.0,\n",
       " 94.0,\n",
       " 96.0,\n",
       " 98.0,\n",
       " nan]"
      ]
     },
     "execution_count": 184,
     "metadata": {},
     "output_type": "execute_result"
    }
   ],
   "source": [
    "sorted(W1.frac_air_temp.unique())"
   ]
  },
  {
   "cell_type": "code",
   "execution_count": 200,
   "metadata": {
    "collapsed": false
   },
   "outputs": [
    {
     "data": {
      "text/plain": [
       "[<matplotlib.lines.Line2D at 0x21c4283c8>]"
      ]
     },
     "execution_count": 200,
     "metadata": {},
     "output_type": "execute_result"
    },
    {
     "data": {
      "image/png": "[encoded data removed]",
      "text/plain": [
       "<matplotlib.figure.Figure at 0x20c2244e0>"
      ]
     },
     "metadata": {},
     "output_type": "display_data"
    }
   ],
   "source": [
    "plt.plot(W1.frac_air_temp.iloc[60000:90000],'.',markersize=3)\n",
    "\n",
    "#plt.plot(W1.frac_air_temp.iloc[40000:70000],'.',markersize=3)\n",
    "# Not too many \"0\" and \"9\" insertions between rows 54K and 68K (Dec'14 to Mar'16)\n",
    "\n",
    "# The extra 0.02F occurs only between ~ rows 70K and 80K"
   ]
  },
  {
   "cell_type": "code",
   "execution_count": null,
   "metadata": {
    "collapsed": true
   },
   "outputs": [],
   "source": []
  },
  {
   "cell_type": "code",
   "execution_count": 213,
   "metadata": {
    "collapsed": false
   },
   "outputs": [
    {
     "data": {
      "text/plain": [
       "(array([  0.00000000e+00,   8.00000000e+00,   2.90000000e+01,\n",
       "          1.15000000e+02,   2.28000000e+02,   2.39000000e+02,\n",
       "          5.82000000e+02,   8.72000000e+02,   1.44400000e+03,\n",
       "          1.21700000e+03,   8.00000000e+02,   1.59500000e+03,\n",
       "          1.75800000e+03,   2.44400000e+03,   4.05700000e+03,\n",
       "          2.94100000e+03,   7.04100000e+03,   8.80400000e+03,\n",
       "          9.32900000e+03,   1.01250000e+04,   5.59000000e+03,\n",
       "          1.11630000e+04,   1.17150000e+04,   1.20290000e+04,\n",
       "          1.20390000e+04,   6.64500000e+03,   1.04380000e+04,\n",
       "          9.99100000e+03,   9.54000000e+03,   9.61400000e+03,\n",
       "          4.96700000e+03,   9.43000000e+03,   9.60500000e+03,\n",
       "          1.03220000e+04,   1.12080000e+04,   5.47200000e+03,\n",
       "          1.18650000e+04,   1.36550000e+04,   1.61610000e+04,\n",
       "          1.74160000e+04,   7.76000000e+03,   1.41400000e+04,\n",
       "          1.28520000e+04,   1.07020000e+04,   8.22000000e+03,\n",
       "          3.55900000e+03,   6.18900000e+03,   4.75500000e+03,\n",
       "          2.96400000e+03,   1.91600000e+03,   5.28000000e+02,\n",
       "          6.48000000e+02,   2.28000000e+02,   3.70000000e+01,\n",
       "          1.80000000e+01,   1.00000000e+00,   1.00000000e+00]),\n",
       " array([   4.1,    5.9,    7.7,    9.5,   11.3,   13.1,   14.9,   16.7,\n",
       "          18.5,   20.3,   22.1,   23.9,   25.7,   27.5,   29.3,   31.1,\n",
       "          32.9,   34.7,   36.5,   38.3,   40.1,   41.9,   43.7,   45.5,\n",
       "          47.3,   49.1,   50.9,   52.7,   54.5,   56.3,   58.1,   59.9,\n",
       "          61.7,   63.5,   65.3,   67.1,   68.9,   70.7,   72.5,   74.3,\n",
       "          76.1,   77.9,   79.7,   81.5,   83.3,   85.1,   86.9,   88.7,\n",
       "          90.5,   92.3,   94.1,   95.9,   97.7,   99.5,  101.3,  103.1,\n",
       "         104.9,  106.7]),\n",
       " <a list of 57 Patch objects>)"
      ]
     },
     "execution_count": 213,
     "metadata": {},
     "output_type": "execute_result"
    },
    {
     "data": {
      "image/png": "[encoded data removed]",
      "text/plain": [
       "<matplotlib.figure.Figure at 0x2bf9b4518>"
      ]
     },
     "metadata": {},
     "output_type": "display_data"
    }
   ],
   "source": [
    "# Let's look at a histogram that is centered on the Celsius integers.\n",
    "# This should associate the \"0\" and \"9\" insertions with the corresponding single tenths-digit version\n",
    "plt.hist(W1.air_temp_set_1[(~W1.air_temp_set_1.isnull()) & (W1.timestamp>boy11) & (W1.timestamp<boy19)]\n",
    "         .iloc[:],bins=[(1.8*tC + 32) for tC in np.arange(-15.5,42.5,1)])"
   ]
  },
  {
   "cell_type": "code",
   "execution_count": 206,
   "metadata": {
    "collapsed": true
   },
   "outputs": [],
   "source": [
    "# Now it looks reasonable\n",
    "\n",
    "# Except for the down-spikes at all multiples of 5C.\n",
    "    # A pattern which is evident just from inspecting the raw counts:\n",
    "    # W1.groupby('air_temp_set_1')['air_temp_set_1'].count().iloc[60:100]   # e.g.\n",
    "    \n",
    "# Interesting that the distribution is skewed, I didn't expect that.\n",
    "    # But it seems consistent from year-to-year: mode of air_temp data is in the 70s Fahrenheit\n",
    "        # This is not an artifact of the inconsistent sampling rate: mode is in the 70s for any given calendar year\n",
    "        # although the mean is substantially lower: \n",
    "                # true mean should be about 59 F\n",
    "        # and the mean measurement is affected by uneven sampling\n",
    "                # mean of air_temp data is 60 (if averaged by row)\n",
    "                # but this is pulled upward by uneven sampling\n",
    "                    # e.g. mean(air_temp_data), averaged over rows, just in CY 2016, is 64 F\n",
    "                    # most other years, where sampling is close to constant: mean(air_temp) = 59"
   ]
  },
  {
   "cell_type": "code",
   "execution_count": 224,
   "metadata": {
    "collapsed": false
   },
   "outputs": [
    {
     "data": {
      "text/plain": [
       "<matplotlib.collections.PathCollection at 0x34a59a518>"
      ]
     },
     "execution_count": 224,
     "metadata": {},
     "output_type": "execute_result"
    },
    {
     "data": {
      "image/png": "[encoded data removed]",
      "text/plain": [
       "<matplotlib.figure.Figure at 0x34393a5c0>"
      ]
     },
     "metadata": {},
     "output_type": "display_data"
    }
   ],
   "source": [
    "# Okay that's enough about the unconditional distribution of air_temp\n",
    "\n",
    "# Now let's look at autocorrelation for the unevenly sampled set\n",
    "lag=1\n",
    "plt.scatter(W1.air_temp_set_1.iloc[:(-lag or None)],W1.air_temp_set_1.iloc[lag:])\n",
    "# A few points seem surprisingly far off the line (3 points where temp climb exceeds +15 deg in one step:\n",
    "        # jump points:\n",
    "            #27039 (time step gap of 10 hours, from early morning to mid-afternoon)\n",
    "            #44257 (8-hour time gap btw meas, again from early morning to mid-afternoon)\n",
    "            #56891 (no time gap, just 1 hr btw meas: 20170315\n",
    "                    # low-pressure, warms up 18deg in one hour, while getting much windier (gusts > 20mph for rest of day)\n",
    "            \n",
    "        "
   ]
  },
  {
   "cell_type": "code",
   "execution_count": 243,
   "metadata": {
    "collapsed": false
   },
   "outputs": [
    {
     "data": {
      "text/plain": [
       "[<matplotlib.lines.Line2D at 0x3c9b2cd30>]"
      ]
     },
     "execution_count": 243,
     "metadata": {},
     "output_type": "execute_result"
    },
    {
     "data": {
      "image/png": "[encoded data removed]",
      "text/plain": [
       "<matplotlib.figure.Figure at 0x313fdce48>"
      ]
     },
     "metadata": {},
     "output_type": "display_data"
    }
   ],
   "source": [
    "dTemp = W1.air_temp_set_1.diff().iloc[56850:56900]\n",
    "plt.plot(dTemp,'.')"
   ]
  },
  {
   "cell_type": "code",
   "execution_count": null,
   "metadata": {
    "collapsed": true
   },
   "outputs": [],
   "source": []
  },
  {
   "cell_type": "code",
   "execution_count": null,
   "metadata": {
    "collapsed": true
   },
   "outputs": [],
   "source": []
  },
  {
   "cell_type": "code",
   "execution_count": null,
   "metadata": {
    "collapsed": true
   },
   "outputs": [],
   "source": []
  },
  {
   "cell_type": "code",
   "execution_count": 201,
   "metadata": {
    "collapsed": false
   },
   "outputs": [],
   "source": [
    "# We could investigate this all further. But not especially relevant.\n",
    "# Takeaways: temperatures have typical uncertainties of at least 1 deg. \n",
    "\n",
    "# There may be a bias, due to the collection site at DCA being in a warm spot for the DC region.\n",
    "# The real issue here would be predicting off real-time data collected from different sensors than the training data.\n",
    "    # There is likely a bias due to that."
   ]
  },
  {
   "cell_type": "code",
   "execution_count": 219,
   "metadata": {
    "collapsed": false
   },
   "outputs": [
    {
     "data": {
      "text/plain": [
       "59.05848756764126"
      ]
     },
     "execution_count": 219,
     "metadata": {},
     "output_type": "execute_result"
    }
   ],
   "source": [
    "W1.air_temp_set_1[(~W1.air_temp_set_1.isnull()) & (W1.timestamp>boy11) & (W1.timestamp<boy15)].iloc[:].mean()"
   ]
  },
  {
   "cell_type": "code",
   "execution_count": null,
   "metadata": {
    "collapsed": true
   },
   "outputs": [],
   "source": []
  },
  {
   "cell_type": "code",
   "execution_count": 110,
   "metadata": {
    "collapsed": false
   },
   "outputs": [
    {
     "data": {
      "text/plain": [
       "'03/28/2018 07:30 EDT'"
      ]
     },
     "execution_count": 110,
     "metadata": {},
     "output_type": "execute_result"
    }
   ],
   "source": [
    "W1.Date_Time.iloc[268000]"
   ]
  },
  {
   "cell_type": "code",
   "execution_count": 113,
   "metadata": {
    "collapsed": false
   },
   "outputs": [
    {
     "data": {
      "text/plain": [
       "12.0"
      ]
     },
     "execution_count": 113,
     "metadata": {},
     "output_type": "execute_result"
    }
   ],
   "source": [
    "round((53.6-32)/1.8,2)"
   ]
  },
  {
   "cell_type": "code",
   "execution_count": null,
   "metadata": {
    "collapsed": true
   },
   "outputs": [],
   "source": []
  },
  {
   "cell_type": "code",
   "execution_count": 106,
   "metadata": {
    "collapsed": false
   },
   "outputs": [
    {
     "ename": "TypeError",
     "evalue": "a float is required",
     "output_type": "error",
     "traceback": [
      "\u001b[0;31m---------------------------------------------------------------------------\u001b[0m",
      "\u001b[0;31mTypeError\u001b[0m                                 Traceback (most recent call last)",
      "\u001b[0;32m<ipython-input-106-abe64f524929>\u001b[0m in \u001b[0;36m<module>\u001b[0;34m()\u001b[0m\n\u001b[0;32m----> 1\u001b[0;31m \u001b[0mround\u001b[0m\u001b[1;33m(\u001b[0m\u001b[1;33m[\u001b[0m\u001b[1;36m464.345\u001b[0m\u001b[1;33m,\u001b[0m\u001b[1;36m46.34535\u001b[0m\u001b[1;33m]\u001b[0m\u001b[1;33m,\u001b[0m\u001b[1;36m2\u001b[0m\u001b[1;33m)\u001b[0m\u001b[1;33m\u001b[0m\u001b[0m\n\u001b[0m",
      "\u001b[0;31mTypeError\u001b[0m: a float is required"
     ]
    }
   ],
   "source": [
    "round([464.345,46.34535],2)"
   ]
  },
  {
   "cell_type": "code",
   "execution_count": null,
   "metadata": {
    "collapsed": true
   },
   "outputs": [],
   "source": []
  },
  {
   "cell_type": "code",
   "execution_count": 99,
   "metadata": {
    "collapsed": false
   },
   "outputs": [
    {
     "data": {
      "text/plain": [
       "[<matplotlib.lines.Line2D at 0x102488668>]"
      ]
     },
     "execution_count": 99,
     "metadata": {},
     "output_type": "execute_result"
    },
    {
     "data": {
      "image/png": "[encoded data removed]",
      "text/plain": [
       "<matplotlib.figure.Figure at 0xdcab4588>"
      ]
     },
     "metadata": {},
     "output_type": "display_data"
    }
   ],
   "source": [
    "plt.plot(W1.air_temp_set_1.iloc[261000:268000],'.')"
   ]
  },
  {
   "cell_type": "code",
   "execution_count": null,
   "metadata": {
    "collapsed": true
   },
   "outputs": [],
   "source": []
  },
  {
   "cell_type": "code",
   "execution_count": 94,
   "metadata": {
    "collapsed": false
   },
   "outputs": [
    {
     "data": {
      "text/plain": [
       "[<matplotlib.lines.Line2D at 0xdc2ef278>]"
      ]
     },
     "execution_count": 94,
     "metadata": {},
     "output_type": "execute_result"
    },
    {
     "data": {
      "image/png": "[encoded data removed]",
      "text/plain": [
       "<matplotlib.figure.Figure at 0xcfb44588>"
      ]
     },
     "metadata": {},
     "output_type": "display_data"
    }
   ],
   "source": [
    "plt.hist(myData[~myData.isnull()],bins=range(0,108,2))"
   ]
  },
  {
   "cell_type": "code",
   "execution_count": 82,
   "metadata": {
    "collapsed": false
   },
   "outputs": [
    {
     "data": {
      "text/plain": [
       "127000    12/27/2016 03:05 EST\n",
       "127001    12/27/2016 03:10 EST\n",
       "127002    12/27/2016 03:15 EST\n",
       "127003    12/27/2016 03:20 EST\n",
       "Name: Date_Time, dtype: object"
      ]
     },
     "execution_count": 82,
     "metadata": {},
     "output_type": "execute_result"
    }
   ],
   "source": [
    "W1.Date_Time.iloc[127000:127004]"
   ]
  },
  {
   "cell_type": "code",
   "execution_count": null,
   "metadata": {
    "collapsed": true
   },
   "outputs": [],
   "source": []
  },
  {
   "cell_type": "code",
   "execution_count": null,
   "metadata": {
    "collapsed": true
   },
   "outputs": [],
   "source": []
  },
  {
   "cell_type": "code",
   "execution_count": null,
   "metadata": {
    "collapsed": true
   },
   "outputs": [],
   "source": []
  },
  {
   "cell_type": "code",
   "execution_count": null,
   "metadata": {
    "collapsed": true
   },
   "outputs": [],
   "source": []
  },
  {
   "cell_type": "code",
   "execution_count": null,
   "metadata": {
    "collapsed": true
   },
   "outputs": [],
   "source": []
  },
  {
   "cell_type": "code",
   "execution_count": null,
   "metadata": {
    "collapsed": true
   },
   "outputs": [],
   "source": []
  },
  {
   "cell_type": "code",
   "execution_count": null,
   "metadata": {
    "collapsed": true
   },
   "outputs": [],
   "source": []
  },
  {
   "cell_type": "code",
   "execution_count": null,
   "metadata": {
    "collapsed": true
   },
   "outputs": [],
   "source": []
  },
  {
   "cell_type": "code",
   "execution_count": 60,
   "metadata": {
    "collapsed": false
   },
   "outputs": [
    {
     "name": "stdout",
     "output_type": "stream",
     "text": [
      "1262322000.0\n",
      "1262322000.0\n"
     ]
    },
    {
     "ename": "ValueError",
     "evalue": "time data '01/01/2010 00:00' does not match format '%m/%d/%Y %H:%M %Z'",
     "output_type": "error",
     "traceback": [
      "\u001b[0;31m---------------------------------------------------------------------------\u001b[0m",
      "\u001b[0;31mValueError\u001b[0m                                Traceback (most recent call last)",
      "\u001b[0;32m<ipython-input-60-1e1ffa9a452f>\u001b[0m in \u001b[0;36m<module>\u001b[0;34m()\u001b[0m\n\u001b[1;32m      4\u001b[0m \u001b[1;31m#print(time.mktime(datetime.datetime.strptime('01/01/2010 00:00 EST','%m/%d/%Y %H:%M').timetuple()))\u001b[0m\u001b[1;33m\u001b[0m\u001b[1;33m\u001b[0m\u001b[0m\n\u001b[1;32m      5\u001b[0m \u001b[1;32mprint\u001b[0m\u001b[1;33m(\u001b[0m\u001b[0mtime\u001b[0m\u001b[1;33m.\u001b[0m\u001b[0mmktime\u001b[0m\u001b[1;33m(\u001b[0m\u001b[0mdatetime\u001b[0m\u001b[1;33m.\u001b[0m\u001b[0mdatetime\u001b[0m\u001b[1;33m.\u001b[0m\u001b[0mstrptime\u001b[0m\u001b[1;33m(\u001b[0m\u001b[1;34m'01/01/2010 00:00 EST'\u001b[0m\u001b[1;33m,\u001b[0m\u001b[1;34m'%m/%d/%Y %H:%M EST'\u001b[0m\u001b[1;33m)\u001b[0m\u001b[1;33m.\u001b[0m\u001b[0mtimetuple\u001b[0m\u001b[1;33m(\u001b[0m\u001b[1;33m)\u001b[0m\u001b[1;33m)\u001b[0m\u001b[1;33m)\u001b[0m\u001b[1;33m\u001b[0m\u001b[0m\n\u001b[0;32m----> 6\u001b[0;31m \u001b[1;32mprint\u001b[0m\u001b[1;33m(\u001b[0m\u001b[0mtime\u001b[0m\u001b[1;33m.\u001b[0m\u001b[0mmktime\u001b[0m\u001b[1;33m(\u001b[0m\u001b[0mdatetime\u001b[0m\u001b[1;33m.\u001b[0m\u001b[0mdatetime\u001b[0m\u001b[1;33m.\u001b[0m\u001b[0mstrptime\u001b[0m\u001b[1;33m(\u001b[0m\u001b[1;34m'01/01/2010 00:00'\u001b[0m\u001b[1;33m,\u001b[0m\u001b[1;34m'%m/%d/%Y %H:%M %Z'\u001b[0m\u001b[1;33m)\u001b[0m\u001b[1;33m.\u001b[0m\u001b[0mtimetuple\u001b[0m\u001b[1;33m(\u001b[0m\u001b[1;33m)\u001b[0m\u001b[1;33m)\u001b[0m\u001b[1;33m)\u001b[0m\u001b[1;33m\u001b[0m\u001b[0m\n\u001b[0m",
      "\u001b[0;32mC:\\Users\\rek\\Desktop\\sw\\Anaconda\\lib\\_strptime.pyc\u001b[0m in \u001b[0;36m_strptime\u001b[0;34m(data_string, format)\u001b[0m\n\u001b[1;32m    330\u001b[0m     \u001b[1;32mif\u001b[0m \u001b[1;32mnot\u001b[0m \u001b[0mfound\u001b[0m\u001b[1;33m:\u001b[0m\u001b[1;33m\u001b[0m\u001b[0m\n\u001b[1;32m    331\u001b[0m         raise ValueError(\"time data %r does not match format %r\" %\n\u001b[0;32m--> 332\u001b[0;31m                          (data_string, format))\n\u001b[0m\u001b[1;32m    333\u001b[0m     \u001b[1;32mif\u001b[0m \u001b[0mlen\u001b[0m\u001b[1;33m(\u001b[0m\u001b[0mdata_string\u001b[0m\u001b[1;33m)\u001b[0m \u001b[1;33m!=\u001b[0m \u001b[0mfound\u001b[0m\u001b[1;33m.\u001b[0m\u001b[0mend\u001b[0m\u001b[1;33m(\u001b[0m\u001b[1;33m)\u001b[0m\u001b[1;33m:\u001b[0m\u001b[1;33m\u001b[0m\u001b[0m\n\u001b[1;32m    334\u001b[0m         raise ValueError(\"unconverted data remains: %s\" %\n",
      "\u001b[0;31mValueError\u001b[0m: time data '01/01/2010 00:00' does not match format '%m/%d/%Y %H:%M %Z'"
     ]
    }
   ],
   "source": [
    "tStr = '%m/%d/%Y %H:%M'\n",
    "testStamp = '01/01/2010 00:00 EST'\n",
    "print(time.mktime(datetime.datetime.strptime('01/01/2010 00:00','%m/%d/%Y %H:%M').timetuple()))\n",
    "#print(time.mktime(datetime.datetime.strptime('01/01/2010 00:00 EST','%m/%d/%Y %H:%M').timetuple()))\n",
    "print(time.mktime(datetime.datetime.strptime('01/01/2010 00:00 EST','%m/%d/%Y %H:%M EST').timetuple()))\n",
    "print(time.mktime(datetime.datetime.strptime('01/01/2010 00:00','%m/%d/%Y %H:%M %Z').timetuple()))"
   ]
  },
  {
   "cell_type": "code",
   "execution_count": null,
   "metadata": {
    "collapsed": false
   },
   "outputs": [],
   "source": []
  },
  {
   "cell_type": "code",
   "execution_count": null,
   "metadata": {
    "collapsed": true
   },
   "outputs": [],
   "source": []
  },
  {
   "cell_type": "code",
   "execution_count": 61,
   "metadata": {
    "collapsed": false
   },
   "outputs": [
    {
     "name": "stdout",
     "output_type": "stream",
     "text": [
      "1 loop, best of 3: 1.8 s per loop\n",
      "1 loop, best of 3: 1.74 s per loop\n"
     ]
    }
   ],
   "source": [
    "tStr = '%Y-%m-%d %H:%M:%S'\n",
    "idata = DF['Start date'].iloc[:80000]\n",
    "%timeit odata1 = idata.apply(lambda x: time.mktime(datetime.datetime.strptime(x,tStr).timetuple()))    # pandas Series\n",
    "%timeit odata2 = [time.mktime(datetime.datetime.strptime(x,tStr).timetuple()) for x in idata]          # list\n",
    "\n",
    "# 80000 conversions per second: it would take 10 minutes to convert 45M timestamps"
   ]
  },
  {
   "cell_type": "code",
   "execution_count": null,
   "metadata": {
    "collapsed": true
   },
   "outputs": [],
   "source": []
  },
  {
   "cell_type": "code",
   "execution_count": null,
   "metadata": {
    "collapsed": true
   },
   "outputs": [],
   "source": []
  },
  {
   "cell_type": "code",
   "execution_count": null,
   "metadata": {
    "collapsed": false
   },
   "outputs": [],
   "source": [
    "22660327-22641886\n",
    "# DeDuping has removed 18441 rows, but there are 240 more that overlap\n",
    "    # some of the station names changed, so dedupe didn't catch them!"
   ]
  },
  {
   "cell_type": "code",
   "execution_count": null,
   "metadata": {
    "collapsed": false
   },
   "outputs": [],
   "source": [
    "DF.tail()"
   ]
  },
  {
   "cell_type": "code",
   "execution_count": null,
   "metadata": {
    "collapsed": true
   },
   "outputs": [],
   "source": [
    "# indices have not been readjusted "
   ]
  },
  {
   "cell_type": "code",
   "execution_count": null,
   "metadata": {
    "collapsed": true
   },
   "outputs": [],
   "source": []
  },
  {
   "cell_type": "code",
   "execution_count": null,
   "metadata": {
    "collapsed": false
   },
   "outputs": [],
   "source": [
    "for j in range(len(DF)-1):\n",
    "    if (not(j%1000000)):\n",
    "        print(j)\n",
    "    if (not((DF['Start date'][j] <= DF['Start date'][j+1]))):\n",
    "        print('Broken')\n",
    "        print(j)\n",
    "        break"
   ]
  },
  {
   "cell_type": "code",
   "execution_count": null,
   "metadata": {
    "collapsed": false
   },
   "outputs": [],
   "source": [
    "DF.iloc[22482791:22482801]"
   ]
  },
  {
   "cell_type": "code",
   "execution_count": null,
   "metadata": {
    "collapsed": false
   },
   "outputs": [],
   "source": [
    "DF.iloc[22501433:22501443]"
   ]
  },
  {
   "cell_type": "code",
   "execution_count": null,
   "metadata": {
    "collapsed": false
   },
   "outputs": [],
   "source": [
    "nameChanges = [31232,31040,31090,32215,31071,31064]\n",
    "for j in range(22482793,22497834):   #22501474\n",
    "    if (not(j%5000)):\n",
    "        pass#print(j)\n",
    "    if (not(all(DF.iloc[j]==DF.iloc[j+18681]))):\n",
    "        (ssn,esn)=(DF.iloc[j]['Start station number'],DF.iloc[j]['End station number'])\n",
    "        if (not(ssn in nameChanges) and not(esn in nameChanges)):\n",
    "            print((j,DF.iloc[j]['Start station number'],DF.iloc[j]['End station number']))"
   ]
  },
  {
   "cell_type": "code",
   "execution_count": null,
   "metadata": {
    "collapsed": false
   },
   "outputs": [],
   "source": [
    "offset=18681\n",
    "for j in range(22482793,22501474):   #22501474\n",
    "    if (not(j%5000)):\n",
    "        pass#print(j)\n",
    "    if (not(all(DF.iloc[j]==DF.iloc[j+offset]))):\n",
    "        (ssn,esn)=(DF.iloc[j]['Start station number'],DF.iloc[j]['End station number'])\n",
    "        if (not(ssn in nameChanges) and not(esn in nameChanges)):\n",
    "            print((j,DF.iloc[j+offset]['Start station number'],DF.iloc[j+offset]['End station number']))"
   ]
  },
  {
   "cell_type": "code",
   "execution_count": null,
   "metadata": {
    "collapsed": true
   },
   "outputs": [],
   "source": []
  },
  {
   "cell_type": "code",
   "execution_count": null,
   "metadata": {
    "collapsed": true
   },
   "outputs": [],
   "source": []
  },
  {
   "cell_type": "code",
   "execution_count": 32,
   "metadata": {
    "collapsed": true
   },
   "outputs": [],
   "source": [
    "df = pd.DataFrame({\n",
    "        'A':list('abcdef'),\n",
    "         'B':[4,np.nan,np.nan,5,5,4],\n",
    "         'C':[7,8,9,4,2,3],\n",
    "         'D':[1,3,5,7,1,0],\n",
    "         'E':[5,3,6,9,2,4],\n",
    "         'F':list('aaabbb')\n",
    "})"
   ]
  },
  {
   "cell_type": "code",
   "execution_count": 33,
   "metadata": {
    "collapsed": false
   },
   "outputs": [
    {
     "data": {
      "text/html": [
       "<div>\n",
       "<table border=\"1\" class=\"dataframe\">\n",
       "  <thead>\n",
       "    <tr style=\"text-align: right;\">\n",
       "      <th></th>\n",
       "      <th>A</th>\n",
       "      <th>B</th>\n",
       "      <th>C</th>\n",
       "      <th>D</th>\n",
       "      <th>E</th>\n",
       "      <th>F</th>\n",
       "    </tr>\n",
       "  </thead>\n",
       "  <tbody>\n",
       "    <tr>\n",
       "      <th>0</th>\n",
       "      <td>a</td>\n",
       "      <td>4.0</td>\n",
       "      <td>7</td>\n",
       "      <td>1</td>\n",
       "      <td>5</td>\n",
       "      <td>a</td>\n",
       "    </tr>\n",
       "    <tr>\n",
       "      <th>1</th>\n",
       "      <td>b</td>\n",
       "      <td>NaN</td>\n",
       "      <td>8</td>\n",
       "      <td>3</td>\n",
       "      <td>3</td>\n",
       "      <td>a</td>\n",
       "    </tr>\n",
       "    <tr>\n",
       "      <th>2</th>\n",
       "      <td>c</td>\n",
       "      <td>NaN</td>\n",
       "      <td>9</td>\n",
       "      <td>5</td>\n",
       "      <td>6</td>\n",
       "      <td>a</td>\n",
       "    </tr>\n",
       "    <tr>\n",
       "      <th>3</th>\n",
       "      <td>d</td>\n",
       "      <td>5.0</td>\n",
       "      <td>4</td>\n",
       "      <td>7</td>\n",
       "      <td>9</td>\n",
       "      <td>b</td>\n",
       "    </tr>\n",
       "    <tr>\n",
       "      <th>4</th>\n",
       "      <td>e</td>\n",
       "      <td>5.0</td>\n",
       "      <td>2</td>\n",
       "      <td>1</td>\n",
       "      <td>2</td>\n",
       "      <td>b</td>\n",
       "    </tr>\n",
       "    <tr>\n",
       "      <th>5</th>\n",
       "      <td>f</td>\n",
       "      <td>4.0</td>\n",
       "      <td>3</td>\n",
       "      <td>0</td>\n",
       "      <td>4</td>\n",
       "      <td>b</td>\n",
       "    </tr>\n",
       "  </tbody>\n",
       "</table>\n",
       "</div>"
      ],
      "text/plain": [
       "   A    B  C  D  E  F\n",
       "0  a  4.0  7  1  5  a\n",
       "1  b  NaN  8  3  3  a\n",
       "2  c  NaN  9  5  6  a\n",
       "3  d  5.0  4  7  9  b\n",
       "4  e  5.0  2  1  2  b\n",
       "5  f  4.0  3  0  4  b"
      ]
     },
     "execution_count": 33,
     "metadata": {},
     "output_type": "execute_result"
    }
   ],
   "source": [
    "df"
   ]
  },
  {
   "cell_type": "code",
   "execution_count": 40,
   "metadata": {
    "collapsed": true
   },
   "outputs": [],
   "source": [
    "df1 = df.describe(include='all')\n",
    "df1.loc['dtype'] = df.dtypes\n",
    "df1.loc['size'] = len(df)\n",
    "df1.loc['% count'] = df.isnull().mean()"
   ]
  },
  {
   "cell_type": "code",
   "execution_count": 41,
   "metadata": {
    "collapsed": false
   },
   "outputs": [
    {
     "data": {
      "text/html": [
       "<div>\n",
       "<table border=\"1\" class=\"dataframe\">\n",
       "  <thead>\n",
       "    <tr style=\"text-align: right;\">\n",
       "      <th></th>\n",
       "      <th>A</th>\n",
       "      <th>B</th>\n",
       "      <th>C</th>\n",
       "      <th>D</th>\n",
       "      <th>E</th>\n",
       "      <th>F</th>\n",
       "    </tr>\n",
       "  </thead>\n",
       "  <tbody>\n",
       "    <tr>\n",
       "      <th>count</th>\n",
       "      <td>6</td>\n",
       "      <td>4</td>\n",
       "      <td>6</td>\n",
       "      <td>6</td>\n",
       "      <td>6</td>\n",
       "      <td>6</td>\n",
       "    </tr>\n",
       "    <tr>\n",
       "      <th>unique</th>\n",
       "      <td>6</td>\n",
       "      <td>NaN</td>\n",
       "      <td>NaN</td>\n",
       "      <td>NaN</td>\n",
       "      <td>NaN</td>\n",
       "      <td>2</td>\n",
       "    </tr>\n",
       "    <tr>\n",
       "      <th>top</th>\n",
       "      <td>f</td>\n",
       "      <td>NaN</td>\n",
       "      <td>NaN</td>\n",
       "      <td>NaN</td>\n",
       "      <td>NaN</td>\n",
       "      <td>b</td>\n",
       "    </tr>\n",
       "    <tr>\n",
       "      <th>freq</th>\n",
       "      <td>1</td>\n",
       "      <td>NaN</td>\n",
       "      <td>NaN</td>\n",
       "      <td>NaN</td>\n",
       "      <td>NaN</td>\n",
       "      <td>3</td>\n",
       "    </tr>\n",
       "    <tr>\n",
       "      <th>mean</th>\n",
       "      <td>NaN</td>\n",
       "      <td>4.5</td>\n",
       "      <td>5.5</td>\n",
       "      <td>2.83333</td>\n",
       "      <td>4.83333</td>\n",
       "      <td>NaN</td>\n",
       "    </tr>\n",
       "    <tr>\n",
       "      <th>std</th>\n",
       "      <td>NaN</td>\n",
       "      <td>0.57735</td>\n",
       "      <td>2.88097</td>\n",
       "      <td>2.71416</td>\n",
       "      <td>2.48328</td>\n",
       "      <td>NaN</td>\n",
       "    </tr>\n",
       "    <tr>\n",
       "      <th>min</th>\n",
       "      <td>NaN</td>\n",
       "      <td>4</td>\n",
       "      <td>2</td>\n",
       "      <td>0</td>\n",
       "      <td>2</td>\n",
       "      <td>NaN</td>\n",
       "    </tr>\n",
       "    <tr>\n",
       "      <th>25%</th>\n",
       "      <td>NaN</td>\n",
       "      <td>NaN</td>\n",
       "      <td>3.25</td>\n",
       "      <td>1</td>\n",
       "      <td>3.25</td>\n",
       "      <td>NaN</td>\n",
       "    </tr>\n",
       "    <tr>\n",
       "      <th>50%</th>\n",
       "      <td>NaN</td>\n",
       "      <td>NaN</td>\n",
       "      <td>5.5</td>\n",
       "      <td>2</td>\n",
       "      <td>4.5</td>\n",
       "      <td>NaN</td>\n",
       "    </tr>\n",
       "    <tr>\n",
       "      <th>75%</th>\n",
       "      <td>NaN</td>\n",
       "      <td>NaN</td>\n",
       "      <td>7.75</td>\n",
       "      <td>4.5</td>\n",
       "      <td>5.75</td>\n",
       "      <td>NaN</td>\n",
       "    </tr>\n",
       "    <tr>\n",
       "      <th>max</th>\n",
       "      <td>NaN</td>\n",
       "      <td>5</td>\n",
       "      <td>9</td>\n",
       "      <td>7</td>\n",
       "      <td>9</td>\n",
       "      <td>NaN</td>\n",
       "    </tr>\n",
       "    <tr>\n",
       "      <th>dtype</th>\n",
       "      <td>object</td>\n",
       "      <td>float64</td>\n",
       "      <td>int64</td>\n",
       "      <td>int64</td>\n",
       "      <td>int64</td>\n",
       "      <td>object</td>\n",
       "    </tr>\n",
       "    <tr>\n",
       "      <th>size</th>\n",
       "      <td>6</td>\n",
       "      <td>6</td>\n",
       "      <td>6</td>\n",
       "      <td>6</td>\n",
       "      <td>6</td>\n",
       "      <td>6</td>\n",
       "    </tr>\n",
       "    <tr>\n",
       "      <th>% count</th>\n",
       "      <td>0</td>\n",
       "      <td>0.333333</td>\n",
       "      <td>0</td>\n",
       "      <td>0</td>\n",
       "      <td>0</td>\n",
       "      <td>0</td>\n",
       "    </tr>\n",
       "  </tbody>\n",
       "</table>\n",
       "</div>"
      ],
      "text/plain": [
       "              A         B        C        D        E       F\n",
       "count         6         4        6        6        6       6\n",
       "unique        6       NaN      NaN      NaN      NaN       2\n",
       "top           f       NaN      NaN      NaN      NaN       b\n",
       "freq          1       NaN      NaN      NaN      NaN       3\n",
       "mean        NaN       4.5      5.5  2.83333  4.83333     NaN\n",
       "std         NaN   0.57735  2.88097  2.71416  2.48328     NaN\n",
       "min         NaN         4        2        0        2     NaN\n",
       "25%         NaN       NaN     3.25        1     3.25     NaN\n",
       "50%         NaN       NaN      5.5        2      4.5     NaN\n",
       "75%         NaN       NaN     7.75      4.5     5.75     NaN\n",
       "max         NaN         5        9        7        9     NaN\n",
       "dtype    object   float64    int64    int64    int64  object\n",
       "size          6         6        6        6        6       6\n",
       "% count       0  0.333333        0        0        0       0"
      ]
     },
     "execution_count": 41,
     "metadata": {},
     "output_type": "execute_result"
    }
   ],
   "source": [
    "df1"
   ]
  },
  {
   "cell_type": "code",
   "execution_count": 42,
   "metadata": {
    "collapsed": false
   },
   "outputs": [
    {
     "data": {
      "text/plain": [
       "u'0.18.1'"
      ]
     },
     "execution_count": 42,
     "metadata": {},
     "output_type": "execute_result"
    }
   ],
   "source": [
    "pd.__version__"
   ]
  },
  {
   "cell_type": "code",
   "execution_count": null,
   "metadata": {
    "collapsed": true
   },
   "outputs": [],
   "source": []
  },
  {
   "cell_type": "code",
   "execution_count": null,
   "metadata": {
    "collapsed": true
   },
   "outputs": [],
   "source": []
  },
  {
   "cell_type": "code",
   "execution_count": null,
   "metadata": {
    "collapsed": true
   },
   "outputs": [],
   "source": []
  },
  {
   "cell_type": "code",
   "execution_count": null,
   "metadata": {
    "collapsed": true
   },
   "outputs": [],
   "source": []
  },
  {
   "cell_type": "code",
   "execution_count": null,
   "metadata": {
    "collapsed": true
   },
   "outputs": [],
   "source": []
  },
  {
   "cell_type": "code",
   "execution_count": null,
   "metadata": {
    "collapsed": true
   },
   "outputs": [],
   "source": [
    "# Some rows that were part of the original TripHistory_2_DB function:\n",
    "\n",
    "    \n",
    "    [cfm_F,cfm_B] = get_cabiFieldMatcher()\n",
    "    (yearsCovered,monthsCovered) = read_TH_zipLogFile(zipsDir,dbName)\n",
    "    cabiZipFiles = filter(lambda x: x.endswith('-capitalbikeshare-tripdata.zip'),os.listdir(zipsDir))\n",
    "    numNewRows=0\n",
    "    for ff in cabiZipFiles:\n",
    "        y = ff[:4]\n",
    "        if (not(y.isdigit())):\n",
    "            print('Unable to parse file name format: %s' % ff)\n",
    "        elif (y in yearsCovered):\n",
    "            print('Skipping file %s. Already in database' % ff)\n",
    "        elif (y not in yearsCovered):\n",
    "            print('reading file: %s' % ff)\n",
    "            zf=zipfile.ZipFile(os.path.join(zipsDir,ff))\n",
    "            zipContents = filter(lambda x: x.endswith('.csv'),zf.namelist())\n",
    "            for csvfilename in zipContents:\n",
    "                print('    reading CSV: %s' % csvfilename)\n",
    "                th = pd.read_csv(zf.open(csvfilename))\n",
    "                print('      NumRows: %d' % len(th))\n",
    "                numNewRows += len(th)\n",
    "                cols = th.columns\n",
    "                for col0 in cols:\n",
    "                    col = re.sub('[^a-z]+', '', col0.lower())\n",
    "                    if (col in cfm_B):\n",
    "                        FN = cfm_B[col]\n",
    "                        if FN in fN_TH():\n",
    "                            print('        Processing field: %s' % FN)\n",
    "                            th = th.rename(columns = {col0:FN})\n",
    "                            th[FN] = reformatCabiField(th[FN],FN)\n",
    "                th = th[fN_TH()]\n",
    "                th.loc[:,'startHour'] = np.floor(th['startTime']/3600.0).astype('int64')\n",
    "                th.loc[:,'endHour'] = np.floor(th['endTime']/3600.0).astype('int64')\n",
    "                rek_writeSQL(dbName,tableName,th,'a')\n",
    "    print('Total num rows added to database: %d' % numNewRows)\n"
   ]
  }
 ],
 "metadata": {
  "anaconda-cloud": {},
  "kernelspec": {
   "display_name": "Python [conda env:Anaconda]",
   "language": "python",
   "name": "conda-env-Anaconda-py"
  },
  "language_info": {
   "codemirror_mode": {
    "name": "ipython",
    "version": 2
   },
   "file_extension": ".py",
   "mimetype": "text/x-python",
   "name": "python",
   "nbconvert_exporter": "python",
   "pygments_lexer": "ipython2",
   "version": "2.7.12"
  }
 },
 "nbformat": 4,
 "nbformat_minor": 1
}
